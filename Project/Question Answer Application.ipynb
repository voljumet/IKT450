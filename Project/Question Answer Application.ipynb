{
 "cells": [
  {
   "cell_type": "markdown",
   "metadata": {
    "id": "wGMWbz1IcvP_"
   },
   "source": [
    "### Question Answer Application\n",
    "The goal of Question Answering is to find the answer to a question given a question and an accompanying context. The predicted answer will be either a span of text from the context or an empty string (indicating the question cannot be answered from the context)."
   ]
  },
  {
   "cell_type": "code",
   "execution_count": null,
   "metadata": {
    "id": "4RDV5uvXGQT7"
   },
   "outputs": [],
   "source": [
    "#!pip install datasets\n",
    "#!pip install apache_beam\n",
    "#!pip install simpletransformers"
   ]
  },
  {
   "cell_type": "code",
   "execution_count": 1,
   "metadata": {
    "executionInfo": {
     "elapsed": 1139,
     "status": "ok",
     "timestamp": 1638968261775,
     "user": {
      "displayName": "R. Alex Laursen",
      "photoUrl": "https://lh3.googleusercontent.com/a-/AOh14GjtaRjZAaaJKZ-vhGbhPZ9FwpmPzLcwj8QOas0-9w=s64",
      "userId": "12984964499719424541"
     },
     "user_tz": -60
    },
    "id": "PA5qSCX6wCxL"
   },
   "outputs": [],
   "source": [
    "#from google.colab import drive\n",
    "import sys\n",
    "from datasets import load_dataset\n",
    "import json\n",
    "from time import time\n",
    "import glob"
   ]
  },
  {
   "cell_type": "code",
   "execution_count": 2,
   "metadata": {
    "executionInfo": {
     "elapsed": 213,
     "status": "ok",
     "timestamp": 1638968263352,
     "user": {
      "displayName": "R. Alex Laursen",
      "photoUrl": "https://lh3.googleusercontent.com/a-/AOh14GjtaRjZAaaJKZ-vhGbhPZ9FwpmPzLcwj8QOas0-9w=s64",
      "userId": "12984964499719424541"
     },
     "user_tz": -60
    },
    "id": "pk7Z8nsVw1Qr"
   },
   "outputs": [],
   "source": [
    "def jsonfile_reader(path):\n",
    "\tdataset = []\n",
    "\tfor file in glob.glob(path, recursive=True):\n",
    "\t\twith open(file) as json_file:\n",
    "\t\t\tdataset.append(json.load(json_file))\n",
    "\treturn dataset"
   ]
  },
  {
   "cell_type": "code",
   "execution_count": 3,
   "metadata": {
    "colab": {
     "base_uri": "https://localhost:8080/"
    },
    "executionInfo": {
     "elapsed": 1902,
     "status": "ok",
     "timestamp": 1638968266646,
     "user": {
      "displayName": "R. Alex Laursen",
      "photoUrl": "https://lh3.googleusercontent.com/a-/AOh14GjtaRjZAaaJKZ-vhGbhPZ9FwpmPzLcwj8QOas0-9w=s64",
      "userId": "12984964499719424541"
     },
     "user_tz": -60
    },
    "id": "sXWFdJkmGIRu",
    "outputId": "810338ee-d3e6-4dcb-88e5-65695004f0ca"
   },
   "outputs": [
    {
     "name": "stderr",
     "output_type": "stream",
     "text": [
      "ERROR: \n",
      "Traceback (most recent call last):\n",
      "  File \"/opt/conda/lib/python3.8/site-packages/apache_beam/io/gcp/bigquery.py\", line 341, in <module>\n",
      "    import google.cloud.bigquery_storage_v1 as bq_storage\n",
      "ModuleNotFoundError: No module named 'google.cloud'\n",
      "Using custom data configuration default\n",
      "Reusing dataset natural_questions (/home/runeal17/.cache/huggingface/datasets/natural_questions/default/0.0.2/19bc04755018a3ad02ee74f7045cde4ba9b4162cb64450a87030ab786b123b76)\n",
      "Using custom data configuration default\n",
      "Reusing dataset natural_questions (/home/runeal17/.cache/huggingface/datasets/natural_questions/default/0.0.2/19bc04755018a3ad02ee74f7045cde4ba9b4162cb64450a87030ab786b123b76)\n"
     ]
    },
    {
     "name": "stdout",
     "output_type": "stream",
     "text": [
      "train:  307373\n",
      "validation:  7830\n"
     ]
    }
   ],
   "source": [
    "#drive.mount('/drive')\n",
    "#!ls ../drive/MyDrive/IKT450/\n",
    "#sys.path.append('/drive/My Drive/Medium')\n",
    "\n",
    "local = False\n",
    "if local:\n",
    "\tdataset = jsonfile_reader('file.json')\n",
    "else:\n",
    "\tdataset_train = load_dataset('natural_questions', split='train')\n",
    "\tdataset_validation = load_dataset('natural_questions', split='validation')\n",
    "\n",
    "print(\"train: \",len(dataset_train))\n",
    "print(\"validation: \",len(dataset_validation))\n"
   ]
  },
  {
   "cell_type": "code",
   "execution_count": 4,
   "metadata": {
    "colab": {
     "base_uri": "https://localhost:8080/"
    },
    "executionInfo": {
     "elapsed": 262,
     "status": "ok",
     "timestamp": 1638970249296,
     "user": {
      "displayName": "R. Alex Laursen",
      "photoUrl": "https://lh3.googleusercontent.com/a-/AOh14GjtaRjZAaaJKZ-vhGbhPZ9FwpmPzLcwj8QOas0-9w=s64",
      "userId": "12984964499719424541"
     },
     "user_tz": -60
    },
    "id": "10j-3CYvwWM-",
    "outputId": "0ccc6319-002f-4912-d739-a44b3db0ac89"
   },
   "outputs": [
    {
     "name": "stdout",
     "output_type": "stream",
     "text": [
      "Done\n"
     ]
    }
   ],
   "source": [
    "def remove_html(data):\n",
    "\tlong_answer_temp = []\n",
    "\tfor i, each in enumerate(data['is_html']):\n",
    "\t\tif each == 0:\n",
    "\t\t\tlong_answer_temp.append(data['token'][i])\n",
    "\treturn long_answer_temp\n",
    "\n",
    "\n",
    "def zupp(start_token, tokens):\n",
    "\ttemp = []\n",
    "\tfor each in range(start_token - 3, start_token + 4):\n",
    "\t\ttemp.append(tokens[each])\n",
    "\treturn ' '.join(map(str, temp))\n",
    "\n",
    "\n",
    "def create_data(dataset):\n",
    "\ttotal = []\n",
    "\tfor each in dataset:\n",
    "\t\ttokens = each['document']['tokens']['token']\n",
    "\t\tanswer_text = ''\n",
    "\t\tsearch_string = ''\n",
    "\t\tfor i in range(len(each['annotations']['short_answers'])-1):\n",
    "\t\t\ttry:\n",
    "\t\t\t\tif each['annotations']['short_answers'][i]['start_token'][0]:\n",
    "\t\t\t\t\tstart_byte = each['annotations']['short_answers'][i]['start_byte'][0]\n",
    "\t\t\t\t\tsearch_string = zupp(start_byte, tokens)\n",
    "\t\t\t\t\tanswer_text = each['annotations']['short_answers'][i]['text'][0]\n",
    "\t\t\t\t\tbreak\n",
    "\t\t\t\telse:\n",
    "\t\t\t\t\tcontinue\n",
    "\t\t\texcept:\n",
    "\t\t\t\tcontinue\n",
    "\n",
    "\t\t\n",
    "\t\tcontext = ' '.join(map(str, remove_html(each['document']['tokens'])))\n",
    "\n",
    "\t\ttotal.append({\n",
    "\t\t\t\"context\": context,\n",
    "\t\t\t\"qas\": [\n",
    "\t\t\t\t{\n",
    "\t\t\t\t\t\"id\": each['annotations']['id'][0],\n",
    "\t\t\t\t\t\"is_impossible\": False,\n",
    "\t\t\t\t\t\"question\": each['question']['text'],\n",
    "\t\t\t\t\t\"answers\": [\n",
    "\t\t\t\t\t\t{\n",
    "\t\t\t\t\t\t\t\"text\": answer_text,\n",
    "\t\t\t\t\t\t\t\"answer_start\": context.find(search_string) + search_string.find(answer_text),\n",
    "\t\t\t\t\t\t}\n",
    "\t\t\t\t\t],\n",
    "\t\t\t\t}\n",
    "\t\t\t],\n",
    "\t\t})\n",
    "\treturn total\n",
    "print(\"Done\")"
   ]
  },
  {
   "cell_type": "code",
   "execution_count": 5,
   "metadata": {},
   "outputs": [
    {
     "name": "stdout",
     "output_type": "stream",
     "text": [
      "Done\n"
     ]
    }
   ],
   "source": [
    "def create_data_predict(dataset):\n",
    "\ttotal = []\n",
    "\tfor each in dataset:\n",
    "\t\ttokens = each['document']['tokens']['token']\n",
    "\t\tanswer_text = ''\n",
    "\t\tsearch_string = ''\n",
    "\t\tfor i in range(len(each['annotations']['short_answers'])-1):\n",
    "\t\t\ttry:\n",
    "\t\t\t\tif each['annotations']['short_answers'][i]['start_token'][0]:\n",
    "\t\t\t\t\tstart_byte = each['annotations']['short_answers'][i]['start_byte'][0]\n",
    "\t\t\t\t\tsearch_string = zupp(start_byte, tokens)\n",
    "\t\t\t\t\tanswer_text = each['annotations']['short_answers'][i]['text'][0]\n",
    "\t\t\t\t\tbreak\n",
    "\t\t\t\telse:\n",
    "\t\t\t\t\tcontinue\n",
    "\t\t\texcept:\n",
    "\t\t\t\tcontinue\n",
    "\n",
    "\t\tcontext = ' '.join(map(str, remove_html(each['document']['tokens'])))\n",
    "\n",
    "\t\ttotal.append({\n",
    "\t\t\t\"context\": context,\n",
    "\t\t\t\"qas\": [\n",
    "\t\t\t\t{\n",
    "\t\t\t\t\t\"question\": each['question']['text'],\n",
    "\t\t\t\t\t\"id\": each['annotations']['id'][0],\n",
    "\t\t\t\t}\n",
    "\t\t\t],\n",
    "\t\t})\n",
    "\treturn total\n",
    "print(\"Done\")\n"
   ]
  },
  {
   "cell_type": "code",
   "execution_count": 70,
   "metadata": {},
   "outputs": [],
   "source": [
    "# dataset sizes\n",
    "\n",
    "train_size = 2\n",
    "test_size = 1000\n",
    "validation_size = 2"
   ]
  },
  {
   "cell_type": "code",
   "execution_count": 38,
   "metadata": {},
   "outputs": [
    {
     "name": "stdout",
     "output_type": "stream",
     "text": [
      "Create train:  0.011138439178466797 seconds\n"
     ]
    }
   ],
   "source": [
    "# Create Train set\n",
    "\n",
    "start = time()\n",
    "train_temp = []\n",
    "for i in range(train_size):\n",
    "\ttrain_temp.append(dataset_train[i])\n",
    "train = create_data(train_temp)\n",
    "stop = time()\n",
    "\n",
    "print(\"Create train: \", (stop - start),\"seconds\")"
   ]
  },
  {
   "cell_type": "code",
   "execution_count": 39,
   "metadata": {},
   "outputs": [
    {
     "name": "stdout",
     "output_type": "stream",
     "text": [
      "create test:  9.730314493179321 seconds\n"
     ]
    }
   ],
   "source": [
    "# Create Test set\n",
    "\n",
    "start = time()\n",
    "test_temp = []\n",
    "for i in range(test_size):\n",
    "\ttest_temp.append(dataset_validation[i])\n",
    "test = create_data(test_temp)\n",
    "stop = time()\n",
    "\n",
    "print(\"create test: \", (stop - start),\"seconds\")"
   ]
  },
  {
   "cell_type": "code",
   "execution_count": 72,
   "metadata": {},
   "outputs": [
    {
     "name": "stdout",
     "output_type": "stream",
     "text": [
      "Create validation:  0.016514301300048828 seconds\n"
     ]
    }
   ],
   "source": [
    "# Create Validation set\n",
    "\n",
    "start = time()\n",
    "vali_temp = []\n",
    "for i in range(validation_size):\n",
    "\tvali_temp.append(dataset_train[i])\n",
    "    #append(dataset_validation[i+test_size])\n",
    "validation = create_data_predict(vali_temp)\n",
    "stop = time()\n",
    "\n",
    "print(\"Create validation: \", (stop - start),\"seconds\")"
   ]
  },
  {
   "cell_type": "code",
   "execution_count": 41,
   "metadata": {},
   "outputs": [],
   "source": [
    "#validation[0]"
   ]
  },
  {
   "cell_type": "code",
   "execution_count": 60,
   "metadata": {},
   "outputs": [
    {
     "name": "stdout",
     "output_type": "stream",
     "text": [
      "Train length:  2\n",
      "Test length:  1000\n",
      "validation length:  5\n"
     ]
    }
   ],
   "source": [
    "print(\"Train length: \",len(train))\n",
    "print(\"Test length: \",len(test))\n",
    "print(\"validation length: \",len(validation))"
   ]
  },
  {
   "cell_type": "code",
   "execution_count": 43,
   "metadata": {
    "executionInfo": {
     "elapsed": 234,
     "status": "ok",
     "timestamp": 1638962310225,
     "user": {
      "displayName": "R. Alex Laursen",
      "photoUrl": "https://lh3.googleusercontent.com/a-/AOh14GjtaRjZAaaJKZ-vhGbhPZ9FwpmPzLcwj8QOas0-9w=s64",
      "userId": "12984964499719424541"
     },
     "user_tz": -60
    },
    "id": "3SZo6mRnYivr"
   },
   "outputs": [],
   "source": [
    "# Original train from github repo\n",
    "\n",
    "#with open(r\"train.json\", \"r\") as read_file:\n",
    " #   train = json.load(read_file)\n",
    "\n",
    "    #with open(r\"test.json\", \"r\") as read_file:\n",
    "#    test = json.load(read_file)"
   ]
  },
  {
   "cell_type": "code",
   "execution_count": 44,
   "metadata": {
    "executionInfo": {
     "elapsed": 3712,
     "status": "ok",
     "timestamp": 1638970345387,
     "user": {
      "displayName": "R. Alex Laursen",
      "photoUrl": "https://lh3.googleusercontent.com/a-/AOh14GjtaRjZAaaJKZ-vhGbhPZ9FwpmPzLcwj8QOas0-9w=s64",
      "userId": "12984964499719424541"
     },
     "user_tz": -60
    },
    "id": "1fYyYz_cZI7v"
   },
   "outputs": [],
   "source": [
    "import logging\n",
    "\n",
    "from simpletransformers.question_answering import QuestionAnsweringModel, QuestionAnsweringArgs"
   ]
  },
  {
   "cell_type": "code",
   "execution_count": 28,
   "metadata": {
    "executionInfo": {
     "elapsed": 226,
     "status": "ok",
     "timestamp": 1638970346637,
     "user": {
      "displayName": "R. Alex Laursen",
      "photoUrl": "https://lh3.googleusercontent.com/a-/AOh14GjtaRjZAaaJKZ-vhGbhPZ9FwpmPzLcwj8QOas0-9w=s64",
      "userId": "12984964499719424541"
     },
     "user_tz": -60
    },
    "id": "o2GXJIZshpoz"
   },
   "outputs": [],
   "source": [
    "model_type=\"bert\"\n",
    "model_name= \"bert-base-cased\"\n",
    "if model_type == \"bert\":\n",
    "    model_name = \"bert-base-cased\"\n",
    "\n",
    "elif model_type == \"roberta\":\n",
    "    model_name = \"roberta-base\"\n",
    "\n",
    "elif model_type == \"distilbert\":\n",
    "    model_name = \"distilbert-base-cased\"\n",
    "\n",
    "elif model_type == \"distilroberta\":\n",
    "    model_type = \"roberta\"\n",
    "    model_name = \"distilroberta-base\"\n",
    "\n",
    "elif model_type == \"electra-base\":\n",
    "    model_type = \"electra\"\n",
    "    model_name = \"google/electra-base-discriminator\"\n",
    "\n",
    "elif model_type == \"electra-small\":\n",
    "    model_type = \"electra\"\n",
    "    model_name = \"google/electra-small-discriminator\"\n",
    "\n",
    "elif model_type == \"xlnet\":\n",
    "    model_name = \"xlnet-base-cased\""
   ]
  },
  {
   "cell_type": "code",
   "execution_count": 29,
   "metadata": {
    "executionInfo": {
     "elapsed": 232,
     "status": "ok",
     "timestamp": 1638970349877,
     "user": {
      "displayName": "R. Alex Laursen",
      "photoUrl": "https://lh3.googleusercontent.com/a-/AOh14GjtaRjZAaaJKZ-vhGbhPZ9FwpmPzLcwj8QOas0-9w=s64",
      "userId": "12984964499719424541"
     },
     "user_tz": -60
    },
    "id": "QRdwLRNdZWWd"
   },
   "outputs": [],
   "source": [
    "# Configure the model \n",
    "model_args = QuestionAnsweringArgs()\n",
    "model_args.train_batch_size = 16\n",
    "model_args.evaluate_during_training = True\n",
    "model_args.n_best_size=3\n",
    "model_args.num_train_epochs=5\n"
   ]
  },
  {
   "cell_type": "code",
   "execution_count": 50,
   "metadata": {
    "colab": {
     "base_uri": "https://localhost:8080/",
     "height": 131
    },
    "executionInfo": {
     "elapsed": 276,
     "status": "error",
     "timestamp": 1638970354500,
     "user": {
      "displayName": "R. Alex Laursen",
      "photoUrl": "https://lh3.googleusercontent.com/a-/AOh14GjtaRjZAaaJKZ-vhGbhPZ9FwpmPzLcwj8QOas0-9w=s64",
      "userId": "12984964499719424541"
     },
     "user_tz": -60
    },
    "id": "d6BA_Dr4iIsI",
    "outputId": "b98af0f6-5ff6-41fd-c0e9-8abec7b182f0"
   },
   "outputs": [],
   "source": [
    "### Advanced Methodology\n",
    "train_args = {\n",
    "    \"reprocess_input_data\": True,\n",
    "    \"overwrite_output_dir\": True,\n",
    "    \"use_cached_eval_features\": True,\n",
    "    \"output_dir\": f\"outputs2/{model_type}\",\n",
    "    \"best_model_dir\": f\"outputs2/{model_type}/best_model\",\n",
    "    \"evaluate_during_training\": True,\n",
    "    \"max_seq_length\": 128,\n",
    "    \"num_train_epochs\": 30,\n",
    "    \"evaluate_during_training_steps\": 10,\n",
    "    \"wandb_project\": \"Question Answer Application 3\",\n",
    "    \"wandb_kwargs\": {\"name\": model_name},\n",
    "    \"save_model_every_epoch\": False,\n",
    "    \"save_eval_checkpoints\": False,\n",
    "    \"n_best_size\":3,\n",
    "    # \"use_early_stopping\": True,\n",
    "    # \"early_stopping_metric\": \"mcc\",\n",
    "    #\"n_gpu\": 2,\n",
    "    # \"manual_seed\": 4,\n",
    "    # \"use_multiprocessing\": False,\n",
    "    \"train_batch_size\": 128,\n",
    "    \"eval_batch_size\": 64,\n",
    "    # \"config\": {\n",
    "    #     \"output_hidden_states\": True\n",
    "    # }\n",
    "}"
   ]
  },
  {
   "cell_type": "code",
   "execution_count": 51,
   "metadata": {
    "colab": {
     "base_uri": "https://localhost:8080/"
    },
    "id": "l03UlJEeZdWs",
    "outputId": "9243c235-f1c1-400d-8857-cf7bf6a86e39"
   },
   "outputs": [
    {
     "name": "stderr",
     "output_type": "stream",
     "text": [
      "Some weights of the model checkpoint at bert-base-cased were not used when initializing BertForQuestionAnswering: ['cls.predictions.transform.LayerNorm.weight', 'cls.seq_relationship.weight', 'cls.seq_relationship.bias', 'cls.predictions.transform.LayerNorm.bias', 'cls.predictions.bias', 'cls.predictions.decoder.weight', 'cls.predictions.transform.dense.bias', 'cls.predictions.transform.dense.weight']\n",
      "- This IS expected if you are initializing BertForQuestionAnswering from the checkpoint of a model trained on another task or with another architecture (e.g. initializing a BertForSequenceClassification model from a BertForPreTraining model).\n",
      "- This IS NOT expected if you are initializing BertForQuestionAnswering from the checkpoint of a model that you expect to be exactly identical (initializing a BertForSequenceClassification model from a BertForSequenceClassification model).\n",
      "Some weights of BertForQuestionAnswering were not initialized from the model checkpoint at bert-base-cased and are newly initialized: ['qa_outputs.bias', 'qa_outputs.weight']\n",
      "You should probably TRAIN this model on a down-stream task to be able to use it for predictions and inference.\n"
     ]
    }
   ],
   "source": [
    "model = QuestionAnsweringModel(\n",
    "    model_type,model_name, args=train_args\n",
    ")"
   ]
  },
  {
   "cell_type": "code",
   "execution_count": 52,
   "metadata": {
    "id": "OqZs8sp-amuQ"
   },
   "outputs": [],
   "source": [
    "### Remove output folder\n",
    "#!rm -rf outputs"
   ]
  },
  {
   "cell_type": "code",
   "execution_count": 53,
   "metadata": {
    "colab": {
     "base_uri": "https://localhost:8080/",
     "height": 1000,
     "referenced_widgets": [
      "0b5ee432816e46f88158cfc5a15d9404",
      "44a4217b7b7247358c72e675c948b9ae",
      "6890f7d38f264242b7d358bb96a138c5",
      "28cdcbb9686e4a4a804dac34106a2a5f",
      "ae3da4fc79324b089f59eedf0b67525c",
      "a1dd7e959aa14e4b98517f8c3999c48f",
      "c5ea4fa154d34774ab35c3f7cc65afa1",
      "b010a66c56f64cac8bb0484e1a70e810",
      "c2afb43c448d4cd5a8fbced2be0e15a2",
      "e22b28ba6ec1430c8fe2f7a4892a36a4",
      "77516bde7edc431cbfe170d3cd5e3cf8",
      "22e5f993074e4ad095ead3b72014daad",
      "db0bfe2709a540408ab2d2e527ea12f2",
      "e673a6cfae4447afb64ddcec7adb4910",
      "091a4f5876a64f969e54e7982880f6cb",
      "f9069c067dbf4a5c89d23a2d0efa2fb6",
      "f6d577afb7bf4d97baeb9c0795ad512b",
      "cd2ce76442724c0498d6a4e5c861091e",
      "c7df953a9faa47c1a90b71d35c81332e",
      "a58c9abceb744f118f634b31a76a7bd8",
      "92a286729b254f5ca48fb5d9e28dbf17",
      "0c149bb97d49465393a54f3561f7281f",
      "5c31615990a243108be5dd952260f350",
      "75376836276e426f8ec855af266421b6",
      "71813407ca74457b898473b319e253f4",
      "3781ad7a5584429590dfecb7b644551d",
      "b8ce0f65248a4110bfef367d5848a25f",
      "8493294d041742328ef62841094d6c42",
      "2c046f18114e443daead60573086a6dd",
      "06c9dcac0a10465da24e1ca7e6b1977f",
      "7dd75ef3a89147c58441b0bed9e66be9",
      "0a5eade50e6f4cd4a490ed473b7d4460",
      "dd35ae72151a4858b2700d92ec25d4f8",
      "f8057921a5364527b1f9c1b538fe25d8",
      "6066b91b466f4846ba2b45da95ef78c7",
      "7f783f003527489a9c842665e7e0ab01",
      "f3b7129b785a48b7a1a26261a983cb35",
      "94f2f65f11514704b09156537d3b77a3",
      "a30a6d490d38450ebbd039e65d5f66f2",
      "0c2363f31ff94023aabfd0742cf2c19c",
      "86670c2853bd437a990babd8e3909f9d",
      "42692b252a7e4765ade293bd6f58d48a",
      "a40954eb77344b72ba2c8827d6a74812",
      "1ccb01edbd084aec98bafe27741ff750",
      "6a0d63f38bcf4a5e9d3ff657ec8ee7e8",
      "bdb5c03b530943d68c9c3ab96b8a855d",
      "d722a13d11e74744af78f140ea8d86da",
      "631c2bfad1bf4625afbfd663c04f9202",
      "722f29fc306f4fd0807ec642cb73fd66",
      "66b95ae3b79340bba8302c23dbae3d2b",
      "2c26f8ec17df4fd182fe0b94f5b3709a",
      "94d63dc4d36848e4b0c1a0567430b5cb",
      "696faa310ef54840afa560c70010a15b",
      "a28c7228865a41d0b3a532788b3b89e4",
      "92152edb40d54de7b28a65f080fdb8f4",
      "3f48d65399e24eb886e0d6bc69e7049d",
      "617f4ccde4ad465c85cc9d055d812a54",
      "c3cc39c042b543b4935db417e186255e",
      "dbb0aaaa8d014816a1f92374376907e6",
      "84701cd9af324aed9f7624ca8169f20d",
      "4b8f5adaab8246f59e45369bac6d49cb",
      "5ba2ca1e9ced40e6a9e0ccd282fa07bf",
      "5f4c318ad8c9404d962f69c13aad2274",
      "3816945510064a21ab4ee800a2fe994e",
      "1b2215f0d4834a3ea2e3b5bad3a9391e",
      "bbf5fc30e0f54253ae2751534f55b7a0",
      "a4ac952a89c34007a31463d69bad59c6",
      "cb6d028b77f24b6faddd14f676bb8e5c",
      "716d5079d1934136b19c70638c655269",
      "921a80e2ed824f96aeafb5de6547f1b0",
      "8b8cf9e563c74a68ad68897ccedff0fa",
      "eb8c2427926f46ceb230b9bf011f00b3",
      "83314d5d823843f6b3cf38b85c8e8197",
      "8ea8229b37aa47b8a76cb1f45b52dced",
      "641e56d1619347659afb967e6b7235e5",
      "5903d2d04a244de0929e1eee60eb61d8",
      "a3e0eaf3cbf743d6b8d466cfc6c99702",
      "e48903a2e25e48888c0bac2737106195",
      "710965e7c5104f649d20dd09610306d7",
      "1675bf757b6e4f9a802d6709c5138514",
      "f443455612e542aaaa20b7b3d02bbe9b",
      "3e888ceaccbc43dbba1a64ad68b63480",
      "d7782e0b8c2f4635ad5ec638871c5140",
      "1b2c598a01254472a6191348d8f4f9ea",
      "832d816019844416bbe6f3eb67dfc66d",
      "081690b4116b42a98a5328351d48bdf9",
      "601394562ab4448482dd795241a168c3",
      "4c8f1ecc79c246e580921ea3f2191cba",
      "1128386ee4684dc6aa814c3213d2b92d",
      "69c34ebd80e143e4b810733d4b25a6a1",
      "c9a630f5a676417c8330ceb49e8b461c",
      "9f253f40f4f34135a9017d0a32d5fc04",
      "fe65c4070b5a404a8087dd663fbdb5e7",
      "b4fe63e36536490ea8308f76c8f34b40",
      "14be31da15ee462191a7cabe86d0c2d0",
      "d89d469e300b4b6c9de570f9a241629f",
      "0716bbdbec944aad8873d71d29c77758",
      "37d628b85bad4569b63d8068b9b180d5",
      "4fb4c6abc688444ea159d50aefc99332",
      "0423dc0528cf4b11930cd97cbac3750f",
      "c112529bba2a4d05a853f997bd8bb4f2",
      "c6bb5998e42c400097ec8f78919cfccf",
      "978a66b9988e449a9b2ab4fd88e9d56d",
      "f3065b1696dd429f90ebf9390f0c3bf2",
      "7110f0ba45fc4f728d75269f0d18524d",
      "89eb2eee1bfc43de800ee49bf4cb401f",
      "68d65940eea148bcadab476e79ecc720",
      "6f6ce4f103bb4e97af03112844072576",
      "413548e8eb484bcca9bea427ef828e90",
      "cf6333ea666e4230a1193df60fe3f435",
      "723b9e5482774968997e06d787d26caf",
      "ac6a38f564d24a14b1aefcfe326c5676",
      "9fcdeb5730094f21a51ccd31fb5abb75",
      "f7ea7ee74c584695863f1583c2b5449f",
      "aaafc07c3932439989e558afee87eb8b",
      "147cd42375574013a06098894c5d695c",
      "e9d127aab0984a2f982e45b7f4e87725",
      "284cdbb512434508924f74e566c635c8",
      "99964ee1e9bd4e8abde466bde6e6c87a",
      "55455f6a1f854900a8447cb242fd5d1a",
      "a7be93a06219440c9f8fafc580a064b1",
      "bdaf1896009948cfbe9bcb3689587310",
      "e36c81e45cee48458f7a055edbddbf5e",
      "89771abf1ef246d7bc58a23373188167",
      "d4ef4a14afc54842abcede90c27da86a",
      "edbf4db6b27144d5803c6aa501cc5ae5",
      "6109c4ce8b1944f18fb30f7261bebd61",
      "8df5a86f876a4699a5917e5e0dfab0ed",
      "8d38e67c4b814e89a2e4495ffbaaf310"
     ]
    },
    "id": "XhAXYugxZfP-",
    "outputId": "3eab43f6-aff4-4a27-dcec-f526b9ba1074"
   },
   "outputs": [
    {
     "name": "stderr",
     "output_type": "stream",
     "text": [
      "convert squad examples to features: 100%|██████████| 2/2 [13:18<00:00, 399.24s/it]\n",
      "add example index and unique id: 100%|██████████| 2/2 [00:00<00:00, 26800.66it/s]\n"
     ]
    },
    {
     "data": {
      "application/vnd.jupyter.widget-view+json": {
       "model_id": "46e34455cc6a483dadafbfa617d9386b",
       "version_major": 2,
       "version_minor": 0
      },
      "text/plain": [
       "Epoch:   0%|          | 0/100 [00:00<?, ?it/s]"
      ]
     },
     "metadata": {},
     "output_type": "display_data"
    },
    {
     "data": {
      "text/html": [
       "Finishing last run (ID:30adf4lt) before initializing another..."
      ],
      "text/plain": [
       "<IPython.core.display.HTML object>"
      ]
     },
     "metadata": {},
     "output_type": "display_data"
    },
    {
     "data": {
      "text/html": [
       "<br/>Waiting for W&B process to finish, PID 226545... <strong style=\"color:green\">(success).</strong>"
      ],
      "text/plain": [
       "<IPython.core.display.HTML object>"
      ]
     },
     "metadata": {},
     "output_type": "display_data"
    },
    {
     "data": {
      "application/vnd.jupyter.widget-view+json": {
       "model_id": "",
       "version_major": 2,
       "version_minor": 0
      },
      "text/plain": [
       "VBox(children=(Label(value=' 0.00MB of 0.00MB uploaded (0.00MB deduped)\\r'), FloatProgress(value=1.0, max=1.0)…"
      ]
     },
     "metadata": {},
     "output_type": "display_data"
    },
    {
     "data": {
      "text/html": [
       "<style>\n",
       "    table.wandb td:nth-child(1) { padding: 0 10px; text-align: right }\n",
       "    .wandb-row { display: flex; flex-direction: row; flex-wrap: wrap; width: 100% }\n",
       "    .wandb-col { display: flex; flex-direction: column; flex-basis: 100%; flex: 1; padding: 10px; }\n",
       "    </style>\n",
       "<div class=\"wandb-row\"><div class=\"wandb-col\">\n",
       "<h3>Run history:</h3><br/><table class=\"wandb\"><tr><td>correct</td><td>▁▁▂▅█</td></tr><tr><td>eval_loss</td><td>██▅▃▁</td></tr><tr><td>global_step</td><td>▁▃▅▆█</td></tr><tr><td>incorrect</td><td>▁▁▁▁▁</td></tr><tr><td>similar</td><td>██▇▄▁</td></tr><tr><td>train_loss</td><td>█▇█▃▁</td></tr></table><br/></div><div class=\"wandb-col\">\n",
       "<h3>Run summary:</h3><br/><table class=\"wandb\"><tr><td>correct</td><td>329</td></tr><tr><td>eval_loss</td><td>-0.39752</td></tr><tr><td>global_step</td><td>5</td></tr><tr><td>incorrect</td><td>0</td></tr><tr><td>similar</td><td>671</td></tr><tr><td>train_loss</td><td>3.87926</td></tr></table>\n",
       "</div></div>\n",
       "Synced 5 W&B file(s), 0 media file(s), 0 artifact file(s) and 0 other file(s)\n",
       "<br/>Synced <strong style=\"color:#cdcd00\">bert-base-cased</strong>: <a href=\"https://wandb.ai/voljum/Question%20Answer%20Application%202/runs/30adf4lt\" target=\"_blank\">https://wandb.ai/voljum/Question%20Answer%20Application%202/runs/30adf4lt</a><br/>\n",
       "Find logs at: <code>./wandb/run-20211209_180142-30adf4lt/logs</code><br/>\n"
      ],
      "text/plain": [
       "<IPython.core.display.HTML object>"
      ]
     },
     "metadata": {},
     "output_type": "display_data"
    },
    {
     "data": {
      "text/html": [
       "Successfully finished last run (ID:30adf4lt). Initializing new run:<br/>"
      ],
      "text/plain": [
       "<IPython.core.display.HTML object>"
      ]
     },
     "metadata": {},
     "output_type": "display_data"
    },
    {
     "data": {
      "text/html": [
       "\n",
       "                    Syncing run <strong><a href=\"https://wandb.ai/voljum/Question%20Answer%20Application%203/runs/2w2v2xsv\" target=\"_blank\">bert-base-cased</a></strong> to <a href=\"https://wandb.ai/voljum/Question%20Answer%20Application%203\" target=\"_blank\">Weights & Biases</a> (<a href=\"https://docs.wandb.com/integrations/jupyter.html\" target=\"_blank\">docs</a>).<br/>\n",
       "\n",
       "                "
      ],
      "text/plain": [
       "<IPython.core.display.HTML object>"
      ]
     },
     "metadata": {},
     "output_type": "display_data"
    },
    {
     "data": {
      "application/vnd.jupyter.widget-view+json": {
       "model_id": "c8c83a28a0304323871bcd94473e7c6d",
       "version_major": 2,
       "version_minor": 0
      },
      "text/plain": [
       "Running Epoch 0 of 100:   0%|          | 0/1 [00:00<?, ?it/s]"
      ]
     },
     "metadata": {},
     "output_type": "display_data"
    },
    {
     "data": {
      "application/vnd.jupyter.widget-view+json": {
       "model_id": "50dfa94e168d45df812752d892a54997",
       "version_major": 2,
       "version_minor": 0
      },
      "text/plain": [
       "Running Evaluation:   0%|          | 0/360 [00:00<?, ?it/s]"
      ]
     },
     "metadata": {},
     "output_type": "display_data"
    },
    {
     "data": {
      "application/vnd.jupyter.widget-view+json": {
       "model_id": "5d9646a82fc34cfab609d8f66d4f5303",
       "version_major": 2,
       "version_minor": 0
      },
      "text/plain": [
       "Running Epoch 1 of 100:   0%|          | 0/1 [00:00<?, ?it/s]"
      ]
     },
     "metadata": {},
     "output_type": "display_data"
    },
    {
     "data": {
      "application/vnd.jupyter.widget-view+json": {
       "model_id": "03faedc43a2844919374910812755b18",
       "version_major": 2,
       "version_minor": 0
      },
      "text/plain": [
       "Running Evaluation:   0%|          | 0/360 [00:00<?, ?it/s]"
      ]
     },
     "metadata": {},
     "output_type": "display_data"
    },
    {
     "data": {
      "application/vnd.jupyter.widget-view+json": {
       "model_id": "65732cf6c4d441d9b851bddbf66e1b9e",
       "version_major": 2,
       "version_minor": 0
      },
      "text/plain": [
       "Running Epoch 2 of 100:   0%|          | 0/1 [00:00<?, ?it/s]"
      ]
     },
     "metadata": {},
     "output_type": "display_data"
    },
    {
     "data": {
      "application/vnd.jupyter.widget-view+json": {
       "model_id": "0dc5bc392a5d42f9a51265fdcd433547",
       "version_major": 2,
       "version_minor": 0
      },
      "text/plain": [
       "Running Evaluation:   0%|          | 0/360 [00:00<?, ?it/s]"
      ]
     },
     "metadata": {},
     "output_type": "display_data"
    },
    {
     "data": {
      "application/vnd.jupyter.widget-view+json": {
       "model_id": "c8dc8f090de34879b0abb89185f5a0fe",
       "version_major": 2,
       "version_minor": 0
      },
      "text/plain": [
       "Running Epoch 3 of 100:   0%|          | 0/1 [00:00<?, ?it/s]"
      ]
     },
     "metadata": {},
     "output_type": "display_data"
    },
    {
     "data": {
      "application/vnd.jupyter.widget-view+json": {
       "model_id": "51c76afb4eca4322b6d7a230043e88e5",
       "version_major": 2,
       "version_minor": 0
      },
      "text/plain": [
       "Running Evaluation:   0%|          | 0/360 [00:00<?, ?it/s]"
      ]
     },
     "metadata": {},
     "output_type": "display_data"
    },
    {
     "data": {
      "application/vnd.jupyter.widget-view+json": {
       "model_id": "da150728d18949c5828dabb46244a42b",
       "version_major": 2,
       "version_minor": 0
      },
      "text/plain": [
       "Running Epoch 4 of 100:   0%|          | 0/1 [00:00<?, ?it/s]"
      ]
     },
     "metadata": {},
     "output_type": "display_data"
    },
    {
     "data": {
      "application/vnd.jupyter.widget-view+json": {
       "model_id": "04dbab6c7de14ad89030f35b2c8dea0e",
       "version_major": 2,
       "version_minor": 0
      },
      "text/plain": [
       "Running Evaluation:   0%|          | 0/360 [00:00<?, ?it/s]"
      ]
     },
     "metadata": {},
     "output_type": "display_data"
    },
    {
     "data": {
      "application/vnd.jupyter.widget-view+json": {
       "model_id": "de1ead883b2a466ca6291694f5a5c0fa",
       "version_major": 2,
       "version_minor": 0
      },
      "text/plain": [
       "Running Epoch 5 of 100:   0%|          | 0/1 [00:00<?, ?it/s]"
      ]
     },
     "metadata": {},
     "output_type": "display_data"
    },
    {
     "data": {
      "application/vnd.jupyter.widget-view+json": {
       "model_id": "1de7af5e73c542d99c39d37d58fcc8a8",
       "version_major": 2,
       "version_minor": 0
      },
      "text/plain": [
       "Running Evaluation:   0%|          | 0/360 [00:00<?, ?it/s]"
      ]
     },
     "metadata": {},
     "output_type": "display_data"
    },
    {
     "data": {
      "application/vnd.jupyter.widget-view+json": {
       "model_id": "7ca56e7c46a848c0bac8498f8724807b",
       "version_major": 2,
       "version_minor": 0
      },
      "text/plain": [
       "Running Epoch 6 of 100:   0%|          | 0/1 [00:00<?, ?it/s]"
      ]
     },
     "metadata": {},
     "output_type": "display_data"
    },
    {
     "data": {
      "application/vnd.jupyter.widget-view+json": {
       "model_id": "a7081e02050e4d09b08b417898b2b22f",
       "version_major": 2,
       "version_minor": 0
      },
      "text/plain": [
       "Running Evaluation:   0%|          | 0/360 [00:00<?, ?it/s]"
      ]
     },
     "metadata": {},
     "output_type": "display_data"
    },
    {
     "data": {
      "application/vnd.jupyter.widget-view+json": {
       "model_id": "c037d7e3b5b74e298321f90670b60d92",
       "version_major": 2,
       "version_minor": 0
      },
      "text/plain": [
       "Running Epoch 7 of 100:   0%|          | 0/1 [00:00<?, ?it/s]"
      ]
     },
     "metadata": {},
     "output_type": "display_data"
    },
    {
     "data": {
      "application/vnd.jupyter.widget-view+json": {
       "model_id": "1970c698bc7f473ab8845d0b9a3009f1",
       "version_major": 2,
       "version_minor": 0
      },
      "text/plain": [
       "Running Evaluation:   0%|          | 0/360 [00:00<?, ?it/s]"
      ]
     },
     "metadata": {},
     "output_type": "display_data"
    },
    {
     "data": {
      "application/vnd.jupyter.widget-view+json": {
       "model_id": "2d6d0d78838a44618603296fdb98768e",
       "version_major": 2,
       "version_minor": 0
      },
      "text/plain": [
       "Running Epoch 8 of 100:   0%|          | 0/1 [00:00<?, ?it/s]"
      ]
     },
     "metadata": {},
     "output_type": "display_data"
    },
    {
     "data": {
      "application/vnd.jupyter.widget-view+json": {
       "model_id": "3b4e486a14444585aeb2deb860f4482c",
       "version_major": 2,
       "version_minor": 0
      },
      "text/plain": [
       "Running Evaluation:   0%|          | 0/360 [00:00<?, ?it/s]"
      ]
     },
     "metadata": {},
     "output_type": "display_data"
    },
    {
     "data": {
      "application/vnd.jupyter.widget-view+json": {
       "model_id": "2364c5b1961945bebd6915256ab5535e",
       "version_major": 2,
       "version_minor": 0
      },
      "text/plain": [
       "Running Epoch 9 of 100:   0%|          | 0/1 [00:00<?, ?it/s]"
      ]
     },
     "metadata": {},
     "output_type": "display_data"
    },
    {
     "data": {
      "application/vnd.jupyter.widget-view+json": {
       "model_id": "61a7a91bf9bf47c28379e9a488da283e",
       "version_major": 2,
       "version_minor": 0
      },
      "text/plain": [
       "Running Evaluation:   0%|          | 0/360 [00:00<?, ?it/s]"
      ]
     },
     "metadata": {},
     "output_type": "display_data"
    },
    {
     "data": {
      "application/vnd.jupyter.widget-view+json": {
       "model_id": "25a1a0b102274fb6b600621439367248",
       "version_major": 2,
       "version_minor": 0
      },
      "text/plain": [
       "Running Evaluation:   0%|          | 0/360 [00:00<?, ?it/s]"
      ]
     },
     "metadata": {},
     "output_type": "display_data"
    },
    {
     "data": {
      "application/vnd.jupyter.widget-view+json": {
       "model_id": "d8bb2340174b4a69a1657bb7d3a97d14",
       "version_major": 2,
       "version_minor": 0
      },
      "text/plain": [
       "Running Epoch 10 of 100:   0%|          | 0/1 [00:00<?, ?it/s]"
      ]
     },
     "metadata": {},
     "output_type": "display_data"
    },
    {
     "data": {
      "application/vnd.jupyter.widget-view+json": {
       "model_id": "a289d981b4764bb1aee5f755b58d5f31",
       "version_major": 2,
       "version_minor": 0
      },
      "text/plain": [
       "Running Evaluation:   0%|          | 0/360 [00:00<?, ?it/s]"
      ]
     },
     "metadata": {},
     "output_type": "display_data"
    },
    {
     "data": {
      "application/vnd.jupyter.widget-view+json": {
       "model_id": "c50ff7fab5ac4dd5ab9dbcc64aea2151",
       "version_major": 2,
       "version_minor": 0
      },
      "text/plain": [
       "Running Epoch 11 of 100:   0%|          | 0/1 [00:00<?, ?it/s]"
      ]
     },
     "metadata": {},
     "output_type": "display_data"
    },
    {
     "data": {
      "application/vnd.jupyter.widget-view+json": {
       "model_id": "53d4f167112647fd9303bcd90b5d1143",
       "version_major": 2,
       "version_minor": 0
      },
      "text/plain": [
       "Running Evaluation:   0%|          | 0/360 [00:00<?, ?it/s]"
      ]
     },
     "metadata": {},
     "output_type": "display_data"
    },
    {
     "data": {
      "application/vnd.jupyter.widget-view+json": {
       "model_id": "30709e44de9d4aea822ac43b5f5997d7",
       "version_major": 2,
       "version_minor": 0
      },
      "text/plain": [
       "Running Epoch 12 of 100:   0%|          | 0/1 [00:00<?, ?it/s]"
      ]
     },
     "metadata": {},
     "output_type": "display_data"
    },
    {
     "data": {
      "application/vnd.jupyter.widget-view+json": {
       "model_id": "e1c685839ef849358cb225311fece008",
       "version_major": 2,
       "version_minor": 0
      },
      "text/plain": [
       "Running Evaluation:   0%|          | 0/360 [00:00<?, ?it/s]"
      ]
     },
     "metadata": {},
     "output_type": "display_data"
    },
    {
     "data": {
      "application/vnd.jupyter.widget-view+json": {
       "model_id": "68e1d06bed3e49cc9f4b1d17061d3201",
       "version_major": 2,
       "version_minor": 0
      },
      "text/plain": [
       "Running Epoch 13 of 100:   0%|          | 0/1 [00:00<?, ?it/s]"
      ]
     },
     "metadata": {},
     "output_type": "display_data"
    },
    {
     "data": {
      "application/vnd.jupyter.widget-view+json": {
       "model_id": "dd7b90c295b14176aff5e8be9167d44f",
       "version_major": 2,
       "version_minor": 0
      },
      "text/plain": [
       "Running Evaluation:   0%|          | 0/360 [00:00<?, ?it/s]"
      ]
     },
     "metadata": {},
     "output_type": "display_data"
    },
    {
     "data": {
      "application/vnd.jupyter.widget-view+json": {
       "model_id": "dca9250db9f54cf7a42ef115734f4d1e",
       "version_major": 2,
       "version_minor": 0
      },
      "text/plain": [
       "Running Epoch 14 of 100:   0%|          | 0/1 [00:00<?, ?it/s]"
      ]
     },
     "metadata": {},
     "output_type": "display_data"
    },
    {
     "data": {
      "application/vnd.jupyter.widget-view+json": {
       "model_id": "18c6065d1cb847ecaeef39796290a391",
       "version_major": 2,
       "version_minor": 0
      },
      "text/plain": [
       "Running Evaluation:   0%|          | 0/360 [00:00<?, ?it/s]"
      ]
     },
     "metadata": {},
     "output_type": "display_data"
    },
    {
     "data": {
      "application/vnd.jupyter.widget-view+json": {
       "model_id": "668d0fd9ffa84557a98ec795d7d49681",
       "version_major": 2,
       "version_minor": 0
      },
      "text/plain": [
       "Running Epoch 15 of 100:   0%|          | 0/1 [00:00<?, ?it/s]"
      ]
     },
     "metadata": {},
     "output_type": "display_data"
    },
    {
     "data": {
      "application/vnd.jupyter.widget-view+json": {
       "model_id": "96600d85db8c4867a8aab20f8213239f",
       "version_major": 2,
       "version_minor": 0
      },
      "text/plain": [
       "Running Evaluation:   0%|          | 0/360 [00:00<?, ?it/s]"
      ]
     },
     "metadata": {},
     "output_type": "display_data"
    },
    {
     "data": {
      "application/vnd.jupyter.widget-view+json": {
       "model_id": "1c243e1bcb804780809659829ae1de4d",
       "version_major": 2,
       "version_minor": 0
      },
      "text/plain": [
       "Running Epoch 16 of 100:   0%|          | 0/1 [00:00<?, ?it/s]"
      ]
     },
     "metadata": {},
     "output_type": "display_data"
    },
    {
     "data": {
      "application/vnd.jupyter.widget-view+json": {
       "model_id": "6b519d2237594ff489a7be5afae5f205",
       "version_major": 2,
       "version_minor": 0
      },
      "text/plain": [
       "Running Evaluation:   0%|          | 0/360 [00:00<?, ?it/s]"
      ]
     },
     "metadata": {},
     "output_type": "display_data"
    },
    {
     "data": {
      "application/vnd.jupyter.widget-view+json": {
       "model_id": "ee39f6598dcc43ca9176a2ec82ce3d1b",
       "version_major": 2,
       "version_minor": 0
      },
      "text/plain": [
       "Running Epoch 17 of 100:   0%|          | 0/1 [00:00<?, ?it/s]"
      ]
     },
     "metadata": {},
     "output_type": "display_data"
    },
    {
     "data": {
      "application/vnd.jupyter.widget-view+json": {
       "model_id": "d932f8b068514e97aa7119269acb33ad",
       "version_major": 2,
       "version_minor": 0
      },
      "text/plain": [
       "Running Evaluation:   0%|          | 0/360 [00:00<?, ?it/s]"
      ]
     },
     "metadata": {},
     "output_type": "display_data"
    },
    {
     "data": {
      "application/vnd.jupyter.widget-view+json": {
       "model_id": "c65712e5036f493e9fbc8a89f5fc676c",
       "version_major": 2,
       "version_minor": 0
      },
      "text/plain": [
       "Running Epoch 18 of 100:   0%|          | 0/1 [00:00<?, ?it/s]"
      ]
     },
     "metadata": {},
     "output_type": "display_data"
    },
    {
     "data": {
      "application/vnd.jupyter.widget-view+json": {
       "model_id": "e5270a2e2b7945a8a5b9c12478ffd6dd",
       "version_major": 2,
       "version_minor": 0
      },
      "text/plain": [
       "Running Evaluation:   0%|          | 0/360 [00:00<?, ?it/s]"
      ]
     },
     "metadata": {},
     "output_type": "display_data"
    },
    {
     "data": {
      "application/vnd.jupyter.widget-view+json": {
       "model_id": "6bbd7eb06676494bbbaf6922bea06282",
       "version_major": 2,
       "version_minor": 0
      },
      "text/plain": [
       "Running Epoch 19 of 100:   0%|          | 0/1 [00:00<?, ?it/s]"
      ]
     },
     "metadata": {},
     "output_type": "display_data"
    },
    {
     "data": {
      "application/vnd.jupyter.widget-view+json": {
       "model_id": "d6cadfc99fea4cd191ccf49cf420297b",
       "version_major": 2,
       "version_minor": 0
      },
      "text/plain": [
       "Running Evaluation:   0%|          | 0/360 [00:00<?, ?it/s]"
      ]
     },
     "metadata": {},
     "output_type": "display_data"
    },
    {
     "data": {
      "application/vnd.jupyter.widget-view+json": {
       "model_id": "47e47b870a2c47b390ceeb99bf318261",
       "version_major": 2,
       "version_minor": 0
      },
      "text/plain": [
       "Running Evaluation:   0%|          | 0/360 [00:00<?, ?it/s]"
      ]
     },
     "metadata": {},
     "output_type": "display_data"
    },
    {
     "data": {
      "application/vnd.jupyter.widget-view+json": {
       "model_id": "e4c0a90773404767a620b8403ce001c2",
       "version_major": 2,
       "version_minor": 0
      },
      "text/plain": [
       "Running Epoch 20 of 100:   0%|          | 0/1 [00:00<?, ?it/s]"
      ]
     },
     "metadata": {},
     "output_type": "display_data"
    },
    {
     "data": {
      "application/vnd.jupyter.widget-view+json": {
       "model_id": "9247d7c4a39a47708c465e38c4e40eb9",
       "version_major": 2,
       "version_minor": 0
      },
      "text/plain": [
       "Running Evaluation:   0%|          | 0/360 [00:00<?, ?it/s]"
      ]
     },
     "metadata": {},
     "output_type": "display_data"
    },
    {
     "data": {
      "application/vnd.jupyter.widget-view+json": {
       "model_id": "8f79ee3788404f3294a6eb9e1fd82a65",
       "version_major": 2,
       "version_minor": 0
      },
      "text/plain": [
       "Running Epoch 21 of 100:   0%|          | 0/1 [00:00<?, ?it/s]"
      ]
     },
     "metadata": {},
     "output_type": "display_data"
    },
    {
     "data": {
      "application/vnd.jupyter.widget-view+json": {
       "model_id": "ae31619f688042989769d520e113312f",
       "version_major": 2,
       "version_minor": 0
      },
      "text/plain": [
       "Running Evaluation:   0%|          | 0/360 [00:00<?, ?it/s]"
      ]
     },
     "metadata": {},
     "output_type": "display_data"
    },
    {
     "data": {
      "application/vnd.jupyter.widget-view+json": {
       "model_id": "b97d10aee53648a9a9034f8d460e5b2e",
       "version_major": 2,
       "version_minor": 0
      },
      "text/plain": [
       "Running Epoch 22 of 100:   0%|          | 0/1 [00:00<?, ?it/s]"
      ]
     },
     "metadata": {},
     "output_type": "display_data"
    },
    {
     "data": {
      "application/vnd.jupyter.widget-view+json": {
       "model_id": "2994cf8d20674bfa93456b3f46538f5d",
       "version_major": 2,
       "version_minor": 0
      },
      "text/plain": [
       "Running Evaluation:   0%|          | 0/360 [00:00<?, ?it/s]"
      ]
     },
     "metadata": {},
     "output_type": "display_data"
    },
    {
     "data": {
      "application/vnd.jupyter.widget-view+json": {
       "model_id": "eb0fe6f75a834cd78f0cc8e66647e1e4",
       "version_major": 2,
       "version_minor": 0
      },
      "text/plain": [
       "Running Epoch 23 of 100:   0%|          | 0/1 [00:00<?, ?it/s]"
      ]
     },
     "metadata": {},
     "output_type": "display_data"
    },
    {
     "data": {
      "application/vnd.jupyter.widget-view+json": {
       "model_id": "fdaf63540a864574802664647e960566",
       "version_major": 2,
       "version_minor": 0
      },
      "text/plain": [
       "Running Evaluation:   0%|          | 0/360 [00:00<?, ?it/s]"
      ]
     },
     "metadata": {},
     "output_type": "display_data"
    },
    {
     "data": {
      "application/vnd.jupyter.widget-view+json": {
       "model_id": "a3a7925c554347649f3d1bf0f8d29cc7",
       "version_major": 2,
       "version_minor": 0
      },
      "text/plain": [
       "Running Epoch 24 of 100:   0%|          | 0/1 [00:00<?, ?it/s]"
      ]
     },
     "metadata": {},
     "output_type": "display_data"
    },
    {
     "data": {
      "application/vnd.jupyter.widget-view+json": {
       "model_id": "42e091f92ea64869b2e717367649fa7e",
       "version_major": 2,
       "version_minor": 0
      },
      "text/plain": [
       "Running Evaluation:   0%|          | 0/360 [00:00<?, ?it/s]"
      ]
     },
     "metadata": {},
     "output_type": "display_data"
    },
    {
     "data": {
      "application/vnd.jupyter.widget-view+json": {
       "model_id": "72ca3ab82c24495981d59ecce06c309e",
       "version_major": 2,
       "version_minor": 0
      },
      "text/plain": [
       "Running Epoch 25 of 100:   0%|          | 0/1 [00:00<?, ?it/s]"
      ]
     },
     "metadata": {},
     "output_type": "display_data"
    },
    {
     "data": {
      "application/vnd.jupyter.widget-view+json": {
       "model_id": "a4963f1c563b481e81ee5c62b1a8c1ec",
       "version_major": 2,
       "version_minor": 0
      },
      "text/plain": [
       "Running Evaluation:   0%|          | 0/360 [00:00<?, ?it/s]"
      ]
     },
     "metadata": {},
     "output_type": "display_data"
    },
    {
     "data": {
      "application/vnd.jupyter.widget-view+json": {
       "model_id": "cc6371eea0dc4d15bde7701a7df564d8",
       "version_major": 2,
       "version_minor": 0
      },
      "text/plain": [
       "Running Epoch 26 of 100:   0%|          | 0/1 [00:00<?, ?it/s]"
      ]
     },
     "metadata": {},
     "output_type": "display_data"
    },
    {
     "data": {
      "application/vnd.jupyter.widget-view+json": {
       "model_id": "3f7e59ecba384617b67591b02519a86f",
       "version_major": 2,
       "version_minor": 0
      },
      "text/plain": [
       "Running Evaluation:   0%|          | 0/360 [00:00<?, ?it/s]"
      ]
     },
     "metadata": {},
     "output_type": "display_data"
    },
    {
     "data": {
      "application/vnd.jupyter.widget-view+json": {
       "model_id": "abc408ea90c54da78412077457404eac",
       "version_major": 2,
       "version_minor": 0
      },
      "text/plain": [
       "Running Epoch 27 of 100:   0%|          | 0/1 [00:00<?, ?it/s]"
      ]
     },
     "metadata": {},
     "output_type": "display_data"
    },
    {
     "data": {
      "application/vnd.jupyter.widget-view+json": {
       "model_id": "cd7afc6fb2d4435390c3d1dc0dc1ae45",
       "version_major": 2,
       "version_minor": 0
      },
      "text/plain": [
       "Running Evaluation:   0%|          | 0/360 [00:00<?, ?it/s]"
      ]
     },
     "metadata": {},
     "output_type": "display_data"
    },
    {
     "data": {
      "application/vnd.jupyter.widget-view+json": {
       "model_id": "09aa8b47fd394421934dd42fe5d3904d",
       "version_major": 2,
       "version_minor": 0
      },
      "text/plain": [
       "Running Epoch 28 of 100:   0%|          | 0/1 [00:00<?, ?it/s]"
      ]
     },
     "metadata": {},
     "output_type": "display_data"
    },
    {
     "data": {
      "application/vnd.jupyter.widget-view+json": {
       "model_id": "e485d849f77d460e8472c41802045b04",
       "version_major": 2,
       "version_minor": 0
      },
      "text/plain": [
       "Running Evaluation:   0%|          | 0/360 [00:00<?, ?it/s]"
      ]
     },
     "metadata": {},
     "output_type": "display_data"
    },
    {
     "data": {
      "application/vnd.jupyter.widget-view+json": {
       "model_id": "f5cc5620560445f89d817c5c201d67ae",
       "version_major": 2,
       "version_minor": 0
      },
      "text/plain": [
       "Running Epoch 29 of 100:   0%|          | 0/1 [00:00<?, ?it/s]"
      ]
     },
     "metadata": {},
     "output_type": "display_data"
    },
    {
     "data": {
      "application/vnd.jupyter.widget-view+json": {
       "model_id": "91988ecb301c4facb23cd0274a3517b8",
       "version_major": 2,
       "version_minor": 0
      },
      "text/plain": [
       "Running Evaluation:   0%|          | 0/360 [00:00<?, ?it/s]"
      ]
     },
     "metadata": {},
     "output_type": "display_data"
    },
    {
     "data": {
      "application/vnd.jupyter.widget-view+json": {
       "model_id": "2671af97c9db42a2bd0b1b6a24c05b38",
       "version_major": 2,
       "version_minor": 0
      },
      "text/plain": [
       "Running Evaluation:   0%|          | 0/360 [00:00<?, ?it/s]"
      ]
     },
     "metadata": {},
     "output_type": "display_data"
    },
    {
     "data": {
      "application/vnd.jupyter.widget-view+json": {
       "model_id": "b8b8a5c3d6fa46a39795156f7cd51c19",
       "version_major": 2,
       "version_minor": 0
      },
      "text/plain": [
       "Running Epoch 30 of 100:   0%|          | 0/1 [00:00<?, ?it/s]"
      ]
     },
     "metadata": {},
     "output_type": "display_data"
    },
    {
     "data": {
      "application/vnd.jupyter.widget-view+json": {
       "model_id": "3fdac63e5a7c4e4bad2defe2427953a5",
       "version_major": 2,
       "version_minor": 0
      },
      "text/plain": [
       "Running Evaluation:   0%|          | 0/360 [00:00<?, ?it/s]"
      ]
     },
     "metadata": {},
     "output_type": "display_data"
    },
    {
     "data": {
      "application/vnd.jupyter.widget-view+json": {
       "model_id": "ead9ebb02c9642699e2d1c057ea43896",
       "version_major": 2,
       "version_minor": 0
      },
      "text/plain": [
       "Running Epoch 31 of 100:   0%|          | 0/1 [00:00<?, ?it/s]"
      ]
     },
     "metadata": {},
     "output_type": "display_data"
    },
    {
     "data": {
      "application/vnd.jupyter.widget-view+json": {
       "model_id": "a927ec8993fd4b0a969899ff4f53b980",
       "version_major": 2,
       "version_minor": 0
      },
      "text/plain": [
       "Running Evaluation:   0%|          | 0/360 [00:00<?, ?it/s]"
      ]
     },
     "metadata": {},
     "output_type": "display_data"
    },
    {
     "data": {
      "application/vnd.jupyter.widget-view+json": {
       "model_id": "de862e11fd314da085f6c3cfaa5ae8f1",
       "version_major": 2,
       "version_minor": 0
      },
      "text/plain": [
       "Running Epoch 32 of 100:   0%|          | 0/1 [00:00<?, ?it/s]"
      ]
     },
     "metadata": {},
     "output_type": "display_data"
    },
    {
     "ename": "KeyboardInterrupt",
     "evalue": "",
     "output_type": "error",
     "traceback": [
      "\u001b[0;31m---------------------------------------------------------------------------\u001b[0m",
      "\u001b[0;31mKeyboardInterrupt\u001b[0m                         Traceback (most recent call last)",
      "\u001b[0;32m<ipython-input-53-7defc1c359c4>\u001b[0m in \u001b[0;36m<module>\u001b[0;34m\u001b[0m\n\u001b[1;32m      1\u001b[0m \u001b[0;31m# Train the model\u001b[0m\u001b[0;34m\u001b[0m\u001b[0;34m\u001b[0m\u001b[0;34m\u001b[0m\u001b[0m\n\u001b[1;32m      2\u001b[0m \u001b[0mstart\u001b[0m \u001b[0;34m=\u001b[0m \u001b[0mtime\u001b[0m\u001b[0;34m(\u001b[0m\u001b[0;34m)\u001b[0m\u001b[0;34m\u001b[0m\u001b[0;34m\u001b[0m\u001b[0m\n\u001b[0;32m----> 3\u001b[0;31m \u001b[0mmodel\u001b[0m\u001b[0;34m.\u001b[0m\u001b[0mtrain_model\u001b[0m\u001b[0;34m(\u001b[0m\u001b[0mtrain\u001b[0m\u001b[0;34m,\u001b[0m \u001b[0meval_data\u001b[0m\u001b[0;34m=\u001b[0m\u001b[0mtest\u001b[0m\u001b[0;34m)\u001b[0m\u001b[0;34m\u001b[0m\u001b[0;34m\u001b[0m\u001b[0m\n\u001b[0m\u001b[1;32m      4\u001b[0m \u001b[0mstop\u001b[0m \u001b[0;34m=\u001b[0m \u001b[0mtime\u001b[0m\u001b[0;34m(\u001b[0m\u001b[0;34m)\u001b[0m\u001b[0;34m\u001b[0m\u001b[0;34m\u001b[0m\u001b[0m\n\u001b[1;32m      5\u001b[0m \u001b[0;34m\u001b[0m\u001b[0m\n",
      "\u001b[0;32m/opt/conda/lib/python3.8/site-packages/simpletransformers/question_answering/question_answering_model.py\u001b[0m in \u001b[0;36mtrain_model\u001b[0;34m(self, train_data, output_dir, show_running_loss, args, eval_data, verbose, **kwargs)\u001b[0m\n\u001b[1;32m    450\u001b[0m         \u001b[0mos\u001b[0m\u001b[0;34m.\u001b[0m\u001b[0mmakedirs\u001b[0m\u001b[0;34m(\u001b[0m\u001b[0moutput_dir\u001b[0m\u001b[0;34m,\u001b[0m \u001b[0mexist_ok\u001b[0m\u001b[0;34m=\u001b[0m\u001b[0;32mTrue\u001b[0m\u001b[0;34m)\u001b[0m\u001b[0;34m\u001b[0m\u001b[0;34m\u001b[0m\u001b[0m\n\u001b[1;32m    451\u001b[0m \u001b[0;34m\u001b[0m\u001b[0m\n\u001b[0;32m--> 452\u001b[0;31m         global_step, training_details = self.train(\n\u001b[0m\u001b[1;32m    453\u001b[0m             \u001b[0mtrain_dataset\u001b[0m\u001b[0;34m,\u001b[0m\u001b[0;34m\u001b[0m\u001b[0;34m\u001b[0m\u001b[0m\n\u001b[1;32m    454\u001b[0m             \u001b[0moutput_dir\u001b[0m\u001b[0;34m,\u001b[0m\u001b[0;34m\u001b[0m\u001b[0;34m\u001b[0m\u001b[0m\n",
      "\u001b[0;32m/opt/conda/lib/python3.8/site-packages/simpletransformers/question_answering/question_answering_model.py\u001b[0m in \u001b[0;36mtrain\u001b[0;34m(self, train_dataset, output_dir, show_running_loss, eval_data, verbose, **kwargs)\u001b[0m\n\u001b[1;32m    947\u001b[0m \u001b[0;34m\u001b[0m\u001b[0m\n\u001b[1;32m    948\u001b[0m             \u001b[0;32mif\u001b[0m \u001b[0margs\u001b[0m\u001b[0;34m.\u001b[0m\u001b[0mevaluate_during_training\u001b[0m \u001b[0;32mand\u001b[0m \u001b[0margs\u001b[0m\u001b[0;34m.\u001b[0m\u001b[0mevaluate_each_epoch\u001b[0m\u001b[0;34m:\u001b[0m\u001b[0;34m\u001b[0m\u001b[0;34m\u001b[0m\u001b[0m\n\u001b[0;32m--> 949\u001b[0;31m                 \u001b[0mresults\u001b[0m\u001b[0;34m,\u001b[0m \u001b[0m_\u001b[0m \u001b[0;34m=\u001b[0m \u001b[0mself\u001b[0m\u001b[0;34m.\u001b[0m\u001b[0meval_model\u001b[0m\u001b[0;34m(\u001b[0m\u001b[0meval_data\u001b[0m\u001b[0;34m,\u001b[0m \u001b[0mverbose\u001b[0m\u001b[0;34m=\u001b[0m\u001b[0;32mFalse\u001b[0m\u001b[0;34m,\u001b[0m \u001b[0;34m**\u001b[0m\u001b[0mkwargs\u001b[0m\u001b[0;34m)\u001b[0m\u001b[0;34m\u001b[0m\u001b[0;34m\u001b[0m\u001b[0m\n\u001b[0m\u001b[1;32m    950\u001b[0m \u001b[0;34m\u001b[0m\u001b[0m\n\u001b[1;32m    951\u001b[0m                 self.save_model(\n",
      "\u001b[0;32m/opt/conda/lib/python3.8/site-packages/simpletransformers/question_answering/question_answering_model.py\u001b[0m in \u001b[0;36meval_model\u001b[0;34m(self, eval_data, output_dir, verbose, verbose_logging, **kwargs)\u001b[0m\n\u001b[1;32m   1095\u001b[0m         \u001b[0mself\u001b[0m\u001b[0;34m.\u001b[0m\u001b[0m_move_model_to_device\u001b[0m\u001b[0;34m(\u001b[0m\u001b[0;34m)\u001b[0m\u001b[0;34m\u001b[0m\u001b[0;34m\u001b[0m\u001b[0m\n\u001b[1;32m   1096\u001b[0m \u001b[0;34m\u001b[0m\u001b[0m\n\u001b[0;32m-> 1097\u001b[0;31m         all_predictions, all_nbest_json, scores_diff_json, eval_loss = self.evaluate(\n\u001b[0m\u001b[1;32m   1098\u001b[0m             \u001b[0meval_data\u001b[0m\u001b[0;34m,\u001b[0m \u001b[0moutput_dir\u001b[0m\u001b[0;34m,\u001b[0m \u001b[0mverbose_logging\u001b[0m\u001b[0;34m=\u001b[0m\u001b[0mverbose\u001b[0m\u001b[0;34m\u001b[0m\u001b[0;34m\u001b[0m\u001b[0m\n\u001b[1;32m   1099\u001b[0m         )\n",
      "\u001b[0;32m/opt/conda/lib/python3.8/site-packages/simpletransformers/question_answering/question_answering_model.py\u001b[0m in \u001b[0;36mevaluate\u001b[0;34m(self, eval_data, output_dir, verbose_logging)\u001b[0m\n\u001b[1;32m   1131\u001b[0m             \u001b[0meval_examples\u001b[0m \u001b[0;34m=\u001b[0m \u001b[0meval_data\u001b[0m\u001b[0;34m\u001b[0m\u001b[0;34m\u001b[0m\u001b[0m\n\u001b[1;32m   1132\u001b[0m \u001b[0;34m\u001b[0m\u001b[0m\n\u001b[0;32m-> 1133\u001b[0;31m         eval_dataset, examples, features = self.load_and_cache_examples(\n\u001b[0m\u001b[1;32m   1134\u001b[0m             \u001b[0meval_examples\u001b[0m\u001b[0;34m,\u001b[0m \u001b[0mevaluate\u001b[0m\u001b[0;34m=\u001b[0m\u001b[0;32mTrue\u001b[0m\u001b[0;34m,\u001b[0m \u001b[0moutput_examples\u001b[0m\u001b[0;34m=\u001b[0m\u001b[0;32mTrue\u001b[0m\u001b[0;34m\u001b[0m\u001b[0;34m\u001b[0m\u001b[0m\n\u001b[1;32m   1135\u001b[0m         )\n",
      "\u001b[0;32m/opt/conda/lib/python3.8/site-packages/simpletransformers/question_answering/question_answering_model.py\u001b[0m in \u001b[0;36mload_and_cache_examples\u001b[0;34m(self, examples, evaluate, no_cache, output_examples)\u001b[0m\n\u001b[1;32m    286\u001b[0m             \u001b[0mos\u001b[0m\u001b[0;34m.\u001b[0m\u001b[0mmakedirs\u001b[0m\u001b[0;34m(\u001b[0m\u001b[0mself\u001b[0m\u001b[0;34m.\u001b[0m\u001b[0margs\u001b[0m\u001b[0;34m.\u001b[0m\u001b[0mcache_dir\u001b[0m\u001b[0;34m,\u001b[0m \u001b[0mexist_ok\u001b[0m\u001b[0;34m=\u001b[0m\u001b[0;32mTrue\u001b[0m\u001b[0;34m)\u001b[0m\u001b[0;34m\u001b[0m\u001b[0;34m\u001b[0m\u001b[0m\n\u001b[1;32m    287\u001b[0m \u001b[0;34m\u001b[0m\u001b[0m\n\u001b[0;32m--> 288\u001b[0;31m         \u001b[0mexamples\u001b[0m \u001b[0;34m=\u001b[0m \u001b[0mget_examples\u001b[0m\u001b[0;34m(\u001b[0m\u001b[0mexamples\u001b[0m\u001b[0;34m,\u001b[0m \u001b[0mis_training\u001b[0m\u001b[0;34m=\u001b[0m\u001b[0;32mnot\u001b[0m \u001b[0mevaluate\u001b[0m\u001b[0;34m)\u001b[0m\u001b[0;34m\u001b[0m\u001b[0;34m\u001b[0m\u001b[0m\n\u001b[0m\u001b[1;32m    289\u001b[0m \u001b[0;34m\u001b[0m\u001b[0m\n\u001b[1;32m    290\u001b[0m         \u001b[0mmode\u001b[0m \u001b[0;34m=\u001b[0m \u001b[0;34m\"dev\"\u001b[0m \u001b[0;32mif\u001b[0m \u001b[0mevaluate\u001b[0m \u001b[0;32melse\u001b[0m \u001b[0;34m\"train\"\u001b[0m\u001b[0;34m\u001b[0m\u001b[0;34m\u001b[0m\u001b[0m\n",
      "\u001b[0;32m/opt/conda/lib/python3.8/site-packages/simpletransformers/question_answering/question_answering_utils.py\u001b[0m in \u001b[0;36mget_examples\u001b[0;34m(examples_to_process, is_training, version_2_with_negative)\u001b[0m\n\u001b[1;32m    160\u001b[0m                     \u001b[0manswers\u001b[0m \u001b[0;34m=\u001b[0m \u001b[0mqa\u001b[0m\u001b[0;34m[\u001b[0m\u001b[0;34m\"answers\"\u001b[0m\u001b[0;34m]\u001b[0m\u001b[0;34m\u001b[0m\u001b[0;34m\u001b[0m\u001b[0m\n\u001b[1;32m    161\u001b[0m \u001b[0;34m\u001b[0m\u001b[0m\n\u001b[0;32m--> 162\u001b[0;31m             example = SquadExample(\n\u001b[0m\u001b[1;32m    163\u001b[0m                 \u001b[0mqas_id\u001b[0m\u001b[0;34m=\u001b[0m\u001b[0mqas_id\u001b[0m\u001b[0;34m,\u001b[0m\u001b[0;34m\u001b[0m\u001b[0;34m\u001b[0m\u001b[0m\n\u001b[1;32m    164\u001b[0m                 \u001b[0mquestion_text\u001b[0m\u001b[0;34m=\u001b[0m\u001b[0mquestion_text\u001b[0m\u001b[0;34m,\u001b[0m\u001b[0;34m\u001b[0m\u001b[0;34m\u001b[0m\u001b[0m\n",
      "\u001b[0;32m/opt/conda/lib/python3.8/site-packages/transformers/data/processors/squad.py\u001b[0m in \u001b[0;36m__init__\u001b[0;34m(self, qas_id, question_text, context_text, answer_text, start_position_character, title, answers, is_impossible)\u001b[0m\n\u001b[1;32m    744\u001b[0m                     \u001b[0mdoc_tokens\u001b[0m\u001b[0;34m[\u001b[0m\u001b[0;34m-\u001b[0m\u001b[0;36m1\u001b[0m\u001b[0;34m]\u001b[0m \u001b[0;34m+=\u001b[0m \u001b[0mc\u001b[0m\u001b[0;34m\u001b[0m\u001b[0;34m\u001b[0m\u001b[0m\n\u001b[1;32m    745\u001b[0m                 \u001b[0mprev_is_whitespace\u001b[0m \u001b[0;34m=\u001b[0m \u001b[0;32mFalse\u001b[0m\u001b[0;34m\u001b[0m\u001b[0;34m\u001b[0m\u001b[0m\n\u001b[0;32m--> 746\u001b[0;31m             \u001b[0mchar_to_word_offset\u001b[0m\u001b[0;34m.\u001b[0m\u001b[0mappend\u001b[0m\u001b[0;34m(\u001b[0m\u001b[0mlen\u001b[0m\u001b[0;34m(\u001b[0m\u001b[0mdoc_tokens\u001b[0m\u001b[0;34m)\u001b[0m \u001b[0;34m-\u001b[0m \u001b[0;36m1\u001b[0m\u001b[0;34m)\u001b[0m\u001b[0;34m\u001b[0m\u001b[0;34m\u001b[0m\u001b[0m\n\u001b[0m\u001b[1;32m    747\u001b[0m \u001b[0;34m\u001b[0m\u001b[0m\n\u001b[1;32m    748\u001b[0m         \u001b[0mself\u001b[0m\u001b[0;34m.\u001b[0m\u001b[0mdoc_tokens\u001b[0m \u001b[0;34m=\u001b[0m \u001b[0mdoc_tokens\u001b[0m\u001b[0;34m\u001b[0m\u001b[0;34m\u001b[0m\u001b[0m\n",
      "\u001b[0;31mKeyboardInterrupt\u001b[0m: "
     ]
    }
   ],
   "source": [
    "# Train the model\n",
    "start = time()\n",
    "model.train_model(train, eval_data=test)\n",
    "stop = time()\n",
    "\n",
    "print(\"Training: \", (stop - start))\n"
   ]
  },
  {
   "cell_type": "code",
   "execution_count": 54,
   "metadata": {
    "colab": {
     "base_uri": "https://localhost:8080/",
     "height": 49,
     "referenced_widgets": [
      "fbbbe43b0b4941869ad2dfafed686be3",
      "f8d6c6d05c51489fa1e2755a6b166524",
      "269016c98d5640aba8987eedba69f921",
      "d45223d29f3946e2ad36ec1e4dfb5a5a",
      "070e7e19c2c94d8cb3b41bace94a3f9a",
      "0e8c1e6d63dc4d01a1d582b53a838f3b",
      "b468f76c78b849b28ecbcda7007df761",
      "2d1e1728b1f24cf0b81bc2a3876842ab",
      "e2d392f6fecc4f098b50087f3202bfe7",
      "fc4d42dfc7cd48b39be47167586c654c",
      "79450a0415274213bd4b42e37119bd46"
     ]
    },
    "id": "ACoBHtQ1ZoKX",
    "outputId": "aefa814d-5fcb-4f0d-bb12-9a57d434cd56"
   },
   "outputs": [
    {
     "data": {
      "application/vnd.jupyter.widget-view+json": {
       "model_id": "223c9bb5537f4e96a7e6135f68db69f5",
       "version_major": 2,
       "version_minor": 0
      },
      "text/plain": [
       "Running Evaluation:   0%|          | 0/360 [00:00<?, ?it/s]"
      ]
     },
     "metadata": {},
     "output_type": "display_data"
    },
    {
     "data": {
      "text/plain": [
       "{'correct': 1000, 'similar': 0, 'incorrect': 0, 'eval_loss': -5.678515625}"
      ]
     },
     "execution_count": 54,
     "metadata": {},
     "output_type": "execute_result"
    }
   ],
   "source": [
    "# Evaluate the model\n",
    "result, texts = model.eval_model(test)\n",
    "\n",
    "result\n",
    "# 'texts' is an array containing all the question id's"
   ]
  },
  {
   "cell_type": "code",
   "execution_count": null,
   "metadata": {
    "id": "mIHjD0Avc731"
   },
   "outputs": [],
   "source": [
    "print(texts)\n",
    "\n",
    "# What is the result over here ?\n",
    "\n",
    "\n",
    "\n",
    "\n",
    "\n"
   ]
  },
  {
   "cell_type": "code",
   "execution_count": 67,
   "metadata": {
    "id": "QHHaVaD_Z9mM"
   },
   "outputs": [],
   "source": [
    "# Make predictions with the model\n",
    "to_predict = [\n",
    "    {'context': \"Red Bull - wikipedia Red Bull Jump to : navigation , search This article is about the energy drink . For the company , see Red Bull GmbH . For other uses , see Red Bull ( disambiguation ) . Red Bull Type Energy drink Distributor Red Bull GmbH Country of origin Thailand Introduced 1976 ( as Krating Daeng ) Color Amber Ingredients Caffeine , taurine , sucrose and glucose , B - group vitamins , and alpine spring water Variants Original Sugarfree Total Zero Red / Cranberry Edition Blue / Blueberry Edition Yellow / Tropical Edition Orange / Mandarine Edition Lime / Silver / Green Edition Spring Edition Green / Kiwi - Apple Edition Winter Edition Summer Edition The `` BULL '' Edition Red Bull G - Drive Edition F1 Edition Orange Edition Zero Cherry Edition Zero Lime Edition Sugarfree Purple Edition Sugarfree ( Acai berry ) Purple Edition Related products Krating Daeng , Red Bull Cola , Red Bull Energy Shot , Red Bull Sugar - Free , Red Bull Total Zero Website www.redbull.com Red Bull is an energy drink sold by Austrian company Red Bull GmbH , created in 1987 . Red Bull has the highest market share of any energy drink in the world , with 6.06 billion cans sold in 2016 . Austrian entrepreneur Dietrich Mateschitz was inspired by an existing energy drink named Krating Daeng , which was first introduced and sold in Thailand by Chaleo Yoovidhya . He took this idea , modified the ingredients to suit the tastes of Westerners , and , in partnership with Chaleo , founded Red Bull GmbH in 1987 in Chakkapong , Thailand . In Thai , daeng means red , and krating is the word used for a large bovine animal called a gaur in formal English . In colloquial English , a gaur is more commonly called a bull . Red Bull is sold in a tall and slim blue - silver can , while Krating Daeng is in a shorter gold can . The two are different products , produced separately . The Red Bull company slogan is `` Red Bull gives you wings '' . Rather than following a traditional approach to mass marketing , Red Bull has generated awareness and created a seductive ' brand myth ' through proprietary extreme sport event series such as Red Bull Cliff Diving World Series , Red Bull Air Race , Red Bull Crashed Ice and stand - out stunts such as the Stratos space diving project . Red Bull 's marketing arsenal also includes multiple sports team ownerships ( Flying Bulls ( actually owned by Dietrich Mateschitz ) , RB Leipzig , FC Red Bull Salzburg , Red Bull Brasil , New York Red Bulls , Red Bull Racing , Scuderia Toro Rosso ) , celebrity endorsements , and music , through its record label Red Bull Records . Energy drinks have been associated with health risks , such as masking the effects of intoxication when consumed with alcohol , and excessive or repeated consumption can lead to cardiac and psychiatric conditions . However , the European Food Safety Authority ( EFSA ) concluded that an adequate consumption of Red Bull and other popular energy drinks is safe and that the amount of caffeine in standard Red Bull cans is unlikely to interact adversely with other typical constituents of energy drinks or with alcohol . Energy drinks have the effects that caffeine and sugar provide , but there is no distinct evidence that the wide variety of other ingredients has any effect . Contents ( hide ) 1 History 2 Ingredients 3 Health effects 3.1 Caffeine content 4 Market approval and legal status 5 Litigation 6 Advertising 6.1 Red Bull House of Art 6.2 Sports sponsorships and acquisitions 6.3 Sponsorships 6.4 Endorsements 6.5 Events 6.6 Locations 7 See also 8 References 9 External links History ( edit ) Red Bull In front of the Potala Palace , Tibet : a model of Red Bull in Chinese version is displayed . Red Bull car In 1976 , Chaleo Yoovidhya introduced a drink called Krating Daeng in Thailand , which means `` red gaur '' in English . It was popular among Thai truck drivers and labourers . While working for German manufacturer Blendax ( later acquired by Procter & Gamble ) in 1982 , Dietrich Mateschitz travelled to Thailand and met Chaleo , owner of T.C. Pharmaceutical . During his visit , Mateschitz discovered that Krating Daeng helped cure his jet lag . In 1984 , Mateschitz co-founded Red Bull GmbH with Yoovidhya and turned it into an international brand . Each partner invested US $500,000 of savings to found the company . Yoovidhya and Mateschitz each held a 49 percent share of the new company . They gave the remaining two percent to Yoovidhya 's son , Chalerm , but it was agreed that Mateschitz would run the company . The product was launched in Austria in 1987 . In Thailand , energy drinks are most popular with blue - collar workers . Red Bull re-positioned the drink as a trendy , upscale drink , first introducing it at Austrian ski resorts . Pricing was a key differentiator , with Red Bull positioned as a premium drink and Krating Daeng as a lower cost item . In many countries both drinks are available , dominating both ends of the price spectrum . In 1992 , the product expanded to international markets : Hungary and Slovenia . It entered the United States via California in 1997 and the Middle East in 2000 . In 2008 , Forbes magazine listed both Chaleo and Mateschitz as the 250th richest people in the world with an estimated net worth of US $4 billion . Red Bull GmbH is headquartered in Fuschl am See , an Austrian village of about 1,500 inhabitants near Salzburg . The company is 51 percent controlled by the Yoovidhya family who , for technical reasons , own the trademark in Europe and the US . In 1995 , Krating Daeng authorized its drink . labelled as Red Bull , to be sold in China . Since 2014 , the Austrian Red Bull ( carbonated ) has also been exported to China . This has created confusion since both drinks use the same brand name , in both English and Chinese . Similarly , in Southeast Asia , Red Bull and Krating Daeng are often confused as both use the Red Bull name in their packaging , although they are two separate products aimed at different markets . The main difference is that Red Bull comes in a tall blue and silver can while the Thailand Red Bull , or Krating Daeng , is in a smaller gold can . The two drinks also differ in terms of taste -- - Red Bull has less sugar and is carbonated . The flavouring used for Red Bull is still produced in Bangkok and exported worldwide . Ingredients ( edit ) Red Bull contains caffeine , taurine , B vitamins ( B3 , B5 , B6 , B12 ) , sucrose , and glucose . To produce Red Bull Sugarfree , sugars sucrose and glucose have been replaced by the sweeteners acesulfame K and aspartame / sucralose . Health effects ( edit ) Further information : Energy drinks § Effects Claims about the drink 's effects and performance have been challenged on various occasions , with the UK 's Advertising Standards Authority imposing advertising restrictions in 2001 in response to complaints recorded as early as 1997 . The latest dietary guidelines from the U.S. suggest that moderate caffeine intake may not only be safe , but also healthy . Studies from the U.S. Department of Agriculture and the U.S. Department of Health and Human Services show that daily consumption of the amount of caffeine contained in three to five cups of coffee is not only safe , but also appears to reduce the risk of Type 2 diabetes and cardiovascular disease in adults . Caffeine may even protect against Parkinson 's disease , the evidence suggests . Energy drinks have the effects that caffeine and sugar provide , but experts still argue about the possible effects of the other ingredients . Most of the effects of energy drinks on cognitive performance , such as increased attention and reaction speed , are primarily due to the presence of caffeine . Still there is evidence that energy drinks can increase mental and athletic performance . Performance of prolonged driving , for example is increased significantly after consumption of Red Bull . Other tests for physical performance showed results such as increased endurance and power . Red Bull energy drink significantly increased upper body muscle endurance during repeated Wingate tests in young healthy adults . Excessive or repeated consumption of energy drinks can lead to cardiac and psychiatric conditions . The European Food Safety Authority ( EFSA ) concluded that exposure to taurine and glucuronolactone at the levels presently used in energy drinks is no safety concern . In a separate analysis , they also concluded that there is insufficient evidence to support a number of commercial health claims about taurine . A review published in 2008 found no documented reports of negative or positive health effects associated with the amount of taurine used in energy drinks , including Red Bull . The review also states that though the caffeine and sugar levels in the energy drink are comparable to those present in coffee and fruit juice respectively , these levels have been shown to cause adverse health effects . In its scientific opinion on the safety of caffeine of 2015 the EFSA concludes , that `` Consumption of other constituents of energy drinks at concentrations commonly present in such beverages would not affect the safety of single doses of caffeine up to 200 mg . '' Also the consumption of alcohol , leading to a blood alcohol content of about 0.08 % , would , according to the EFSA , not affect the safety of single doses of caffeine up to 200 mg . Up to these levels of intake , caffeine is unlikely to mask the subjective perception of alcohol intoxication . Habitual use of caffeine up to 400 mg per day does not . According to SAMHSA , the number of people hospitalized due to energy drinks doubled between 2007 and 2014 in the US . Caffeine content ( edit ) This article needs additional citations for verification . Please help improve this article by adding citations to reliable sources . Unsourced material may be challenged and removed . ( March 2017 ) ( Learn how and when to remove this template message ) The caffeine content of a single can of Red Bull is 80 mg / 250 ml ( 32 mg / 100 ml ) . This is about the same as one cup of coffee , or slightly less depending on the brewing method . The actual caffeine level in Red Bull can vary depending on country , as some countries have legal restrictions on how much caffeine is allowed in drinks . As is the case with other caffeinated beverages , Red Bull drinkers may experience adverse effects as a result of overuse . Excessive consumption may induce mild to moderate euphoria primarily caused by stimulant properties of caffeine and may also induce agitation , anxiety , irritability and insomnia . The general population of healthy adults is not at risk for potential adverse effects from caffeine if they limit their consumption to 400 mg per day , which is the equivalent of 5 standard cans , with one can being 250ml in volume . Consumption of a single energy drink will not lead to excessive caffeine intake . Adverse effects associated with caffeine consumption in amounts greater than 400 mg include nervousness , irritability , sleeplessness , increased urination , abnormal heart rhythms ( arrhythmia ) , and dyspepsia . Consumption also has been known to cause pupil dilation when taken with certain antidepressants or SSRIs . Caffeine dosage is not required to be on the product label for food in the United States , unlike drugs , but some advocates are urging the FDA to change this practice . Market approval and legal status ( edit ) Authorities in France , Denmark , and Norway initially kept Red Bull from being sold domestically . However , as of 2014 , it is on sale in all 28 member states of the European Union and in more than 167 countries around the world . The French food safety agency was concerned about taurine . A Red Bull drink that did not contain taurine was introduced . The French refusal of market approval was challenged by the European Commission , and partially upheld by the European Court of Justice in 2004 . The French food safety agency relented in 2008 , because it was unable to prove a definite health risk , taurine - related or not . In 2012 , the Kuwaiti Ministry of Commerce banned Red Bull for people under 16 after it had allegedly caused heart attacks for a 16 - year - old and a 21 - year - old national squash team player . Litigation ( edit ) In 2013 , Red Bull told the Redwell Brewery , a Norfolk micro brewery , to change its name or face legal action , because it sounded too similar to Red Bull . The eight - man brewery in Norwich was told its name could `` confuse '' customers and `` tarnish '' its trademark . The two companies reached a settlement permitting Redwell to continue using its name . In 2014 , Red Bull faced a US $13 million settlement addressing two consumer class action lawsuits in the United States District Court for the Southern District of New York . The listed plaintiffs were Benjamin Careathers , David Wolf , and Miguel Almarez who sued the company for Red Bull 's marketing and labeling , claiming that the company violated `` express warranty and unjust enrichment '' since their products were first launched . The court hearing took place the morning of 1 May 2015 in an attempt to determine approval for the settlement . Customers that submitted claims then have the opportunity to receive a US $10 cash reimbursement or product option of US $15 in Red Bull products within 150 days of the approved appeals . Advertising ( edit ) It has been suggested that this article be split into a new article titled Red Bull GmbH . ( Discuss ) ( March 2016 ) Red Bull 's TAH - 1F Cobra helicopter assembled by Chuck Aaron , owned by the Flying Bulls Red Bull 's colours on De Havilland Aviation 's ex-Royal Navy de Havilland Sea Vixen . Max Verstappen in the 2017 Formula 1 car of the Red Bull Racing Team Red Bull 's slogan was `` Gives you wings '' until they were hit with a $13 million class - action lawsuit in late 2014 . This was Red Bull 's slogan for over 20 years until one consumer , Benjamin Careathers , decided to sue the company for ' false advertising ' , arguing that after 10 years drinking Red Bull he neither had wings nor any enhanced athletic or intellectual performance . Red Bull 's international marketing campaign targets young men mostly with extreme sports . These range from mountain biking , BMX , motocross , windsurfing , snowboarding , skateboarding , kayaking , rowing , wakeboarding , cliff - diving , parkour , surfing , skating , freestyle motocross , rallycross , Formula 1 racing , NASCAR racing , to breakdancing . Red Bull uses music and videogames , and has enlisted celebrities , such as Eminem ( sponsoring the Red Bull `` EmSee Battle Rap championships '' ) . It hosts events like art shows and the `` Red Bull Flugtag '' ( German for `` flight day '' or `` flying day '' ) . Red Bull owns football teams , with clubs in Austria , Germany , the United States and Brazil featuring the Red Bull trademark in their names . By associating the drink 's image with these activities , the company seeks to promote a `` cool '' public image and raise brand power . The energy drink has created a market for over 150 related types of products . In the PlayStation 3 's social gaming platform , PlayStation Home , Red Bull developed its own in - game island , specifically advertising its energy drink and the Red Bull Air Race event ( for which the space is named ) released in January 2009 . In late November 2009 , Red Bull produced two new spaces , the Red Bull Illume space , and the Red Bull Beach space featuring the Red Bull Flugtag , both released on the same day . In January 2012 , Red Bull released its first personal space called the `` Red Bull House of Skate '' featuring an indoor skate park . On the Apple App store Red Bull also has a few apps which include : RedBull.com , Red Bull TV , The Red Bulletin , RBMA Radio , Red Bull iFunk , Wings For Life - Selfie Run . As well as some games on the app store which are : Bike Unchained , Red Bull Kart Fighter 3 , Red Bull Air Race The Game , Red Bull Racers . In 2010 , the company enlisted Adrian Newey to design a prototype racing car , the Red Bull X2010 , for the videogame Gran Turismo 5 . Red Bull House of Art ( edit ) The Red Bull House of Art is an art fellowship program that was launched by Red Bull . The program is held in multiple cities , most notably the Red Bull House of Art programs in Detroit , Michigan and São Paulo , Brazil , and the program typically consists of a three - month period during which time six to eight participants will create new artwork with the intent to display it in a final exhibition . During the fellowship the artists receive unlimited access to the galleries and a stipend for art supplies . The program has received criticism as being an `` elaborate advertising scheme '' , as some of the artwork has been used in Red Bull advertising campaigns . Sports sponsorships and acquisitions ( edit ) RB Leipzig : a football club currently playing in the German 1 . Bundesliga New York Red Bulls ( officially Red Bull New York ) : a football franchise competing in Major League Soccer of the United States Red Bull Racing -- a Formula One team based in Milton Keynes , England , World Constructor 's Championship winner of 2010 , 2011 , 2012 and 2013 , and produced the car for the 2010 , 2011 , 2012 and 2013 F1 World Champion Sebastian Vettel . Red Bull Sailing Team : an Extreme Sailing Series racing team . Scuderia Toro Rosso ( Italian translation of Team Red Bull ) : Another Formula One team based in Faenza , Italy . Team Red Bull : a Toyota racing team competing in the U.S. - based stock car racing competition NASCAR Red Bull Racing Team competed in NASCAR beginning in 2007 . The team ceased operations after the Sprint Cup Series ' 2011 season . FC Red Bull Salzburg : an Austrian football club based in Salzburg and competing in the Austrian Bundesliga EC Red Bull Salzburg : a member of the Austrian Hockey League based in Salzburg , Austria EHC Red Bull München : a member of the Deutsche Eishockey Liga based in Munich , Germany Red Bull Brasil : a football club currently playing in the Brazilian Campeonato Paulista based in Campinas , Brazil Red Bull Holden Racing Team - Run by Triple Eight Race Engineering -- since 2013 , Red Bull has sponsored the V8 Supercars team . Red Bull Racing Brasil , a Stock Car Brasil team , since 2007 . Red Bull KTM Factory Racing , a team competing in MotoGP . Red Bull Ghana : was a Ghanaian professional football club located in Sogakope that played in the Poly Tank Division One League . Škoda Motorsport rally team Red Bulls , a League of Legends team currently playing in the European League of Legends Challenger Series Esports team OG Dota 2 . Sponsorships ( edit ) Audi A4 DTM , which won the Manufacturers ' championship in 2004 The Citroën rally car , which won the manufacturers ' title in 2008 , 2009 and 2010 . A Red Bull sponsored track racing bike A Sauber C15 from 1995 in display at Red Bull Hangar - 7 A VW Touareg during the Dakar Rally , which won the event in 2009 , 2010 and 2011 A KTM , which won the motocross world championship in 2010 , 2011 , 2012 and 2013 Abt Sportsline Arrows F1 team from 2001 to 2002 Audi Sport for the A4 DTM Batalla de los Gallos Cacá Bueno 's speed record Vectra Carlin Motorsport Dallara - Renault Citroën World Rally Team ( 2008 - 2012 ) EKS RX Enrique Cedeño Martinez ( xPeke ) , professional League of Legends player Ford Fiesta WRC Hansen Motorsport rallycross team Hyundai Genesis Coupe Pikes Peak edition Hyundai Veloster rallycross car Iveco Dakar rally trucks JMB Racing Maserati MC12 GT KTM road , MXGP and Dakar rally bikes Red Bull Ajo Motorsport Red Bull Youth America 's Cup Repsol Honda Team OG Dota 2 eSports team Oracle Team USA Olsbergs MSE Ford rallycross team Peugeot 208 T16 Peugeot 2008 DKR ( 2015 ) Sauber F1 team ( 1995 -- 2004 ) SEAT Sport WTCC team Škoda Fabia S2000 Red Bull Honda World Superbike Team Volkswagen Passat DARPA Grand Challenge edition Andrew Dickson , pro BMX rider Volkswagen Polo R WRC Volkswagen Race Touareg Dakar edition Volkswagen V10 TDI Touaregs Pikes Peak edition Endorsements ( edit ) In 2009 , Red Bull added mainstream sport athletes to its roster of endorsements , which also includes persons involved in non-sporting activities . Reggie Bush , US NFL athlete announced at the 2009 Super Bowl . Ryan Dungey American Supercross , Motocross rider for Red Bull KTM Factory Racing . Marvin Musquin French Supercross , Motocross rider for Red Bull KTM Factory Racing . Dani Pedrosa , Marc Márquez , John Reynolds , Andrea Dovizioso , Casey Stoner , and Nicky Hayden Red Bull Junior Team , a program which sponsors young drivers competing in single seater racing . Since 2001 many young drivers developed careers in professional motorsport , with 13 participants having competed in Formula One , including quadruple F1 world champion Sebastian Vettel , Daniel Ricciardo , and Max Verstappen Skijumpers Gregor Schlierenzauer , Thomas Morgenstern , Adam Małysz , and Andreas Goldberger , snowboarders Mark McMorris , Torah Bright and Nathan Johnstone , and skiers Kaya Turski , Lindsey Vonn , Axel Lund Svindal and Alexis Pinturault . Dion Phaneuf NHL defenseman , currently with the Ottawa Senators . Young professional golfer Rickie Fowler . Racing driver Andrew Jordan . Drift racing driver `` Mad '' Mike Whiddett . Professional chess player Hikaru Nakamura . Super Smash Bros. Melee player William `` Leffen '' Hjelte Street Fighter players Daigo Umehara , Masato `` Bonchan '' Takahashi , Darryl `` Snake Eyez '' Lewis and Olivier `` Luffy '' Hay . Events ( edit ) Red Bull Flugtag Stockholm 2010 Red Bull Flugtag Stockholm 2010 Red Bull sports events Red Bull 400 Red Bull Battle Grounds : An eSports competition in popular video games Dota 2 and StarCraft 2 Red Bull Stratos Red Bull Straight Rhythm Red Bull Double Pipe Red Bull Global Rallycross Championship Red Bull Cliff Diving World Series Red Bull Drifting World Championship Red Bull Rampage Red Bull Road Rage Red Bull King of the Rock Tournament Red Bull Romaniacs Hard Enduro Rallye Red Bull Crashed Ice Red Bull X-Fighters Red Bull X-Alps Red Bull Air Race World Championship Red Bull Flugtag Red Bull Frozen Rush Red Bull Foxhunt Red Bull Cape Fear Red Bull Paperwings Red Bull Training Grounds Red Bull Art of Motion Red Bull BC One Red Bull Cold Rush Red Bull Dolomitenmann - A 4 - man relay competition including trail running , paragliding , kayaking , mountainbiking Red Bull Elements - A 4 - man relay competition including rowing , trail running , paragliding , mountainbiking Red Bull MotoGP Rookies Cup Indianapolis motorcycle Grand Prix Motorcycle Grand Prix of the Americas Argentine motorcycle Grand Prix ( 2014 - 2015 ) Spanish motorcycle Grand Prix Red Bull Storm Chase - A worldwide windsurfing competition in storm conditions with wind speeds of at least force ten Red Bull Supernatural - A `` backcountry boarding competition designed to challenge , then crown the best all - around snowboarder on the planet . '' Red Bull Soapbox Race Red Bull Unleashed - A surfing event at Surf Snowdonia , north Wales Red Bull World Bridge Series Red Bull Drift Shifters - Drifting event held on a pinball inspired street course in Auckland , New Zealand Red Bull Music Academy Red Bull Can You Make It Red Bull Timelaps Locations ( edit ) Red Bull Ring , a motorsport circuit in Spielberg , Styria , Austria . Red Bull Arena ( Leipzig ) , home stadium of German football club RB Leipzig . Red Bull Arena ( New Jersey ) , home stadium of the American soccer club New York Red Bulls . Red Bull Arena ( Salzburg ) , home stadium of Austrian football club FC Red Bull Salzburg . Hangar - 7 ( Salzburg ) , a multifunctional building with a collection of historical airplanes . Red Bull bridge , a recurring distinctly branded footbridge at race events such as the World Enduro Championship and Rally Deutschland . See also ( edit ) Drink portal Felix Baumgartner -- stratospheric parachute jump 2012 References ( edit ) Jump up ^ Boome , Adam ( 31 May 2011 ) . `` Who makes Red Bull '' . Jump up ^ Burt Helm ( 4 January 2005 ) . `` Energy Drinks Build Their Buzz '' . BloombergBusinessweek . BLOOMBERG L.P . Retrieved 2012 - 08 - 19 . Jump up ^ Red Bull ( 2012 ) . `` Company Figures '' . Red Bull . Red Bull . Retrieved 2012 - 08 - 19 . Jump up ^ `` Red Bull the company - Who makes Red Bull ? Red Bull Origin : : Energy Drink : : Red Bull '' . Energydrink.redbull.com . Retrieved 2013 - 11 - 13 . Jump up ^ Roll , Martin ( 2005 - 10 - 17 ) . Asian Brand Strategy : How Asia Builds Strong Brands . Springer . p. 199 . ISBN 9780230513068 . Retrieved 2012 - 09 - 24 . Jump up ^ Cheryl Tay ( 8 April 2011 ) . `` Former F1 Driver David Coulthard Thrilled Shoppers Along Bukit Bintang In Red Bull Racings Show Car Run '' . Va Va Vroom . Cheryl Tay Pte Ltd . Archived from the original on 8 January 2012 . Retrieved 2012 - 07 - 27 . Jump up ^ `` Company '' . Red Bull . Archived from the original on 2013 - 02 - 01 . Retrieved 2011 - 04 - 02 . Jump up ^ Kuehlwein , JP ; Chaefer , Wolf ( Spring 2017 ) . `` How modern prestige brands create meaning through mission and myth '' . Journal of Brand Strategy . Henry Stewart Publications . 5 ( 4 ) . ISSN 2045 - 855X Jump up ^ Kuehlwein , JP . Ueber - Brands and The Art of Myth - Making . www.ueberbrands.com 12 / 2015 Jump up ^ Schaefer , Wolf and Kuehlwein , JP . 2015 . Rethinking Prestige Branding - Secrets of the Ueber - Brands . Kogan Page . pp. 77ff . ISBN 9780749470036 Jump up ^ Lauria , Peter ( 2008 - 04 - 01 ) . `` Pump the Music : Red Bull Eyes Starting Branded Music Label -- NYPost.com '' . New York Post . 101013 NYPost.com Jump up ^ Pennay A , Lubman DI , Miller P ( 2011 ) . `` Combining energy drinks and alcohol '' ( PDF ) . Retrieved 2015 - 08 - 12 . ^ Jump up to : Sanchis - Gomar F , Pareja - Galeano H , Cervellin G , Lippi G , Earnest CP ( 2015 ) . `` Energy drink overconsumption in adolescents : implications for arrhythmias and other cardiovascular events '' . Can J Cardiol. 31 ( 5 ) : 572 -- 5 . doi : 10.1016 / j. cjca. 2014.12. 019 . PMID 25818530 . ^ Jump up to : Petit A , Karila L , Lejoyeux M ( 2015 ) . `` ( Abuse of energy drinks : does it pose a risk ? ) '' . Presse Med. 44 ( 3 ) : 261 -- 70 . doi : 10.1016 / j. lpm. 2014.07. 029 . PMID 25622514 . ^ Jump up to : `` Scientific Opinion on the safety of caffeine Europäische Behörde für Lebensmittelsicherheit '' . www.efsa.europa.eu . Retrieved 2016 - 01 - 02 . ^ Jump up to : McLellan TM , Lieberman HR ( 2012 ) . `` Do energy drinks contain active components other than caffeine ? '' . Nutr Rev. 70 ( 12 ) : 730 -- 44 . doi : 10.1111 / j. 1753 - 4887.2012. 00525. x . PMID 23206286 . Jump up ^ `` Face value Selling energy '' . Economist.com. 2002 - 05 - 09 . Retrieved 2009 - 06 - 22 . Jump up ^ Kerry A. Dolan ( 28 March 2005 ) . `` The Soda With Buzz '' . Forbes . Retrieved 20 June 2015 . ^ Jump up to : Nivatpumin , Chiratas ; Treeraponpichit , Busrin ( 2015 - 12 - 28 ) . `` Red Bull still charging ahead '' . Bangkok Post . Retrieved 30 December 2015 . ^ Jump up to : `` Red Bull GmbH Company History '' . Funding Universe . Retrieved 2007 - 10 - 12 . Jump up ^ Ligaya , Armina ( 2010 - 05 - 12 ) . `` Region abuzz over energy drinks '' . The National . p. Business section , pp. 1 , 6 . Retrieved 2010 - 05 - 13 . Jump up ^ `` The World 's Billionaires '' . Forbes.com. 2008 - 02 - 11 . Retrieved 2009 - 06 - 22 . Jump up ^ `` The World 's Billionaires '' . Forbes.com. 2008 - 02 - 11 . Retrieved 2009 - 06 - 22 . Jump up ^ `` Red Bull Ingredients : : Energy Drink : : Red Bull '' . Red Bull . Retrieved 2012 - 05 - 04 . Jump up ^ `` Caffeine in Red Bull '' . www.caffeineinformer.com . Retrieved 2017 - 12 - 29 . Jump up ^ `` Sweeteners in Red Bull zero sugar ? : : Energy drink sugar free '' . Red Bull . Retrieved 2012 - 09 - 24 . Jump up ^ `` HEALTH Energy drink claims rejected '' . BBC News . 2001 - 01 - 24 . Retrieved 2009 - 06 - 22 . Jump up ^ Mohney , Gillian . `` New Dietary Guidelines : Limit Added Sugars but Enjoy That Coffee '' . ABC News . Retrieved 24 January 2016 . Jump up ^ Healy , Melissa . `` New Dietary Guidelines for Americans : Watch your sugar , but enjoy the eggs and coffee '' . L.A. Times . Retrieved 24 January 2016 . ^ Jump up to : Van Den Eynde F , Van Baelen PC , Portzky M , Audenaert K ( 2008 ) . `` The effects of energy drinks on cognitive performance '' . Tijdschrift voor psychiatrie. 50 ( 5 ) : 273 -- 81 . PMID 18470842 . Jump up ^ Alford , C. ; Cox , H. ; Wescott , R. ( 2001 - 01 - 01 ) . `` The effects of red bull energy drink on human performance and mood '' . Amino Acids. 21 ( 2 ) : 139 -- 150 . doi : 10.1007 / s007260170021 . ISSN 0939 - 4451 . PMID 11665810 . Jump up ^ `` Tijdschrift voor Psychiatrie - Author index : Baelen , P.C. van '' . 2008 - 12 - 21 . Archived from the original on December 21 , 2008 . Retrieved 2016 - 02 - 02 . ^ Jump up to : Mets , Monique A.J. ; Ketzer , Sander ; Blom , Camilla ; van Gerven , Maartje H. ; van Willigenburg , Gitta M. ; Olivier , Berend ; Verster , Joris C. ( 2011 - 04 - 01 ) . `` Positive effects of Red Bull ® Energy Drink on driving performance during prolonged driving '' . Psychopharmacology. 214 ( 3 ) : 737 -- 745 . doi : 10.1007 / s00213 - 010 - 2078 - 2 . ISSN 1432 - 2072 . PMC 3053448 . PMID 21063868 . Jump up ^ Baum , M. ; Weiss , M. ( 2001 - 01 - 01 ) . `` The influence of a taurine containing drink on cardiac parameters before and after exercise measured by echocardiography '' . Amino Acids. 20 ( 1 ) : 75 -- 82 . doi : 10.1007 / s007260170067 . ISSN 0939 - 4451 . PMID 11310932 . Jump up ^ Geiß , K. - R. ; Jester , I. ; Falke , W. ; Hamm , M. ; Waag , K. - L. ( 1994 - 02 - 01 ) . `` The effect of a taurine - containing drink on performance in 10 endurance - athletes '' . Amino Acids. 7 ( 1 ) : 45 -- 56 . doi : 10.1007 / BF00808445 . ISSN 0939 - 4451 . Jump up ^ Forbes , Scott C. ; Candow , Darren G. ; Little , Jonathan P. ; Magnus , Charlene ; Chilibeck , Philip D. ( 2007 - 10 - 01 ) . `` Effect of Red Bull energy drink on repeated Wingate cycle performance and bench - press muscle endurance '' . International Journal of Sport Nutrition and Exercise Metabolism. 17 ( 5 ) : 433 -- 444 . ISSN 1526 - 484X . PMID 18046053 . Jump up ^ EFSA Panel on Food Additives and Nutrient Sources added to Food ( 2009 ) . `` The use of taurine and D - glucurono - γ - lactone as constituents of the so - called ' energy ' drinks '' . The EFSA Journal . 935 : 1 -- 31 . doi : 10.2903 / j. efsa. 2009.935 . Jump up ^ Scientific Opinion on the substantiation of health claims related to taurine and protection of DNA , proteins and lipids from oxidative damage ( ID 612 , 1658 , 1959 ) , energy - yielding metabolism ( ID 614 ) , and delay in the onset of fatigue and enhancement of physical performance ( ID 1660 ) pursuant to Article 13 ( 1 ) of Regulation ( EC ) No 1924 / 2006 , European Food Safety Authority 2009 , http://www.efsa.europa.eu/fr/efsajournal/doc/1260.pdf Jump up ^ Persad , Nikki ; McQueen , Cydney E. ; Shields , Kelly M. ; Clauson , Kevin A. ( 2008 ) . `` Safety issues associated with commercially available energy drinks '' . Journal of the American Pharmacists Association . 48 ( 3 ) : e55 -- 63 ; quiz e64 -- 7 . doi : 10.1331 / JAPhA. 2008.07055 . PMID 18595815 . Jump up ^ `` 1 in 10 Energy Drink - Related Emergency Department Visits Results in Hospitalization '' ( PDF ) . Substance Abuse and Mental Health Services Administration . Retrieved 9 March 2017 . Jump up ^ `` Red Bull caffeine beverage review '' . About.com. 2009 - 10 - 22 . Retrieved 2012 - 05 - 29 . Jump up ^ `` Nutrition Facts and Analysis for Energy drink , RED BULL , with added caffeine , niacin , pantothenic acid , vitamins B6 and B12 '' . Condé Nast . Retrieved 2012 - 05 - 29 . Jump up ^ Owen , Daniel ( 2006 - 01 - 15 ) . `` How much caffeine is there in ( drink / food / pill ) ? '' . Coffeefaq.com . Retrieved 2012 - 09 - 24 . Jump up ^ Alford C , Cox H , Wescott R ( 2001 ) . `` The effects of red bull energy drink on human performance and mood '' . Amino Acids. 21 ( 2 ) : 139 -- 50 . doi : 10.1007 / s007260170021 . PMID 11665810 . Jump up ^ `` It 's Your Health - Caffeine '' . Health Canada . April 13 , 2012 . Retrieved November 24 , 2014 . ^ Jump up to : Winston AP ( 2005 ) . `` Neuropsychiatric effects of caffeine '' . Advances in Psychiatric Treatment . 11 ( 6 ) : 432 -- 439 . doi : 10.1192 / apt. 11.6. 432 . Jump up ^ Warning : Energy Drinks Contain Caffeine by Allison Aubrey . Morning Edition , National Public Radio , 24 September 2008 . ^ Jump up to : Frith , Maxine ( 2004 - 02 - 07 ) . `` European court backs ban on Red Bull over health concerns '' . The Independent . London . Retrieved 2010 - 11 - 22 . Jump up ^ `` France ends 12 - year ban on energy drink Red Bull '' . Paris . Reuters. 15 July 2008 . Retrieved 2010 - 11 - 22 . Jump up ^ Habib Toumi , Bureau Chief ( 2013 - 05 - 16 ) . `` Kuwaiti player dies after taking energy drinks '' . GulfNews . Retrieved 2014 - 07 - 05 . Jump up ^ `` KUNA : Decisions regulating sale of energy drinks issued - Economics - 21 / 10 / 2012 '' . Kuwait News Agency ( KUNA ) . 2012 - 10 - 21 . Retrieved 2014 - 07 - 05 . Jump up ^ كونا : وزارة التجارة تصدر قرارا ينظم انتاج وعرض وبيع مشروبات الطاقة - التجارة - 21 / 10 / 2012 ( in Arabic ) . Kuwait News Agency ( KUNA ) . 2012 - 10 - 21 . Retrieved 2014 - 07 - 05 . Jump up ^ `` التجارة '' : مشروبات الطاقة ممنوعة لمن دون الـ 16 ( in Arabic ) . Al - Qabas newspaper . 2012 - 10 - 21 . Archived from the original on 2014 - 07 - 08 . Retrieved 2014 - 07 - 05 . Jump up ^ `` Red Bull and a crisis in Kuwait that has n't hit the headlines '' . Alex of Arabia 's Blog . Retrieved 2014 - 07 - 05 . Jump up ^ `` Red Bull Kuwait Loses Millions '' . Q8Critic. 2012 - 10 - 24 . Archived from the original on 2013 - 06 - 25 . Retrieved 2013 - 06 - 28 . Jump up ^ http://omarker.com/?p=15727 Jump up ^ `` Red Bull pursues Redwell brewery in Norwich over name '' . BBC News . 2013 - 08 - 14 . Retrieved 2013 - 11 - 13 . Jump up ^ `` Red Bull ends dispute with Redwell brewery in Norwich '' . BBC News . 2013 - 08 - 14 . Retrieved 2013 - 11 - 13 . Jump up ^ `` Red Bull Puts Up $13 M To Settle False Advertising Suit - Law360 '' . www.law360.com . Retrieved 2017 - 03 - 08 . Jump up ^ `` Red Bull Agrees to $13 M False Advertising Class Action Settlement '' . Top Class Actions. 2014 - 08 - 04 . Retrieved 2017 - 03 - 08 . Jump up ^ `` Drink Red Bull ? You may have $10 coming to you '' . cbsnews.com. 2014 - 10 - 09 . Retrieved 2015 - 02 - 16 . Jump up ^ `` So Red Bull does n't actually ' give you wings ' '' . Bbc.co.uk. 2014 - 10 - 09 . Retrieved 2014 - 11 - 03 . Jump up ^ `` Red Bull to Pay $13 Million '' . bevnet.com . Law360 . Retrieved 2014 - 10 - 21 . Jump up ^ Duggan , Oliver ( 2014 - 10 - 11 ) . `` $13 m lawsuit proves Red Bull does n't give you wings '' . telegraph.co.uk . Retrieved 2017 - 10 - 21 . Jump up ^ sean . `` Red Bull Rampage Recap '' . Mountain Bike Action Magazine . Retrieved 2017 - 03 - 08 . Jump up ^ `` Drew Bezanson wins Red Bull Framed Reactions BMX Park comp '' . XGames . Retrieved 2017 - 03 - 08 . Jump up ^ `` 2017 Red Bull KTM Team Intro Transworld Motocross '' . Transworld Motocross. 2016 - 12 - 18 . Retrieved 2017 - 03 - 08 . Jump up ^ ( PWA ) , Professional Windsurfing Association . `` Red Bull Storm Chase '' . PWA World Tour . Retrieved 2017 - 03 - 08 . Jump up ^ `` Red Bull Snowboarding Snowboarder Magazine '' . Snowboarder Magazine . Retrieved 2017 - 03 - 08 . Jump up ^ `` red bull skateboarding TransWorld SKATEboarding '' . TransWorld SKATEboarding . Retrieved 2017 - 03 - 08 . Jump up ^ `` Chasing Niagara Falls in a Kayak VICE Sports '' . VICE Sports . Retrieved 2017 - 03 - 08 . Jump up ^ `` Red Bull High Stakes - Overview '' . www.regattacentral.com . Retrieved 2017 - 03 - 08 . Jump up ^ `` Red Bull Wake of Steel 2016 '' . Wakeboarding Magazine . Retrieved 2017 - 03 - 08 . Jump up ^ `` Red Bull Cliff Diving World Series Announces 2017 Schedule '' . Retrieved 2017 - 03 - 08 . Jump up ^ Kolasa - Sikiaridi , Kerry . `` ... Wins Parkour Red Bull Art of Motion in Santorini ( video ) GreekReporter.com '' . Retrieved 2017 - 03 - 08 . Jump up ^ RED BULL QIANTANG : SURFING SHOOTOUT , retrieved 2017 - 03 - 08 Jump up ^ `` Red Bull Crashed Ice Championship In Saint Paul , MN - Visit Saint Paul '' . www.visitsaintpaul.com . Retrieved 2017 - 03 - 08 . Jump up ^ `` Real - Time Data Tech Dazzles Red Bull X-Fighters Fans '' . iQ by Intel . 2016 - 06 - 22 . Retrieved 2017 - 03 - 08 . Jump up ^ GRC . `` Red Bull Global Rallycross New England set for June '' . www.racer.com . Retrieved 2017 - 03 - 08 . Jump up ^ `` Red Bull `` positive '' RB13 can challenge Mercedes in F1 2017 `` . Motorsport.com . Retrieved 2017 - 03 - 08 . Jump up ^ `` Archrival Red Bull Racing in NASCAR '' . Archrival . Retrieved 2017 - 03 - 08 . Jump up ^ `` Redbull Flying Bach tour brings Bach and breakdancing to Dallas in 2017 '' . AXS . Retrieved 2017 - 03 - 08 . Jump up ^ Pajot , S. ( 2011 - 11 - 03 ) . `` Calling Battle Rappers ! Enter Red Bull EmSee Miami and Win a Trip to the Finals in Atlanta '' . Miami New Times . Retrieved 2017 - 03 - 08 . Jump up ^ `` Red Bull 's high - flying Flugtag competition to return to Nashville '' . The Tennessean . Retrieved 2017 - 03 - 08 . Jump up ^ `` Austria - FC Salzburg - Results , fixtures , squad , statistics , photos , videos and news - Soccerway '' . us.soccerway.com . Retrieved 2017 - 03 - 08 . ^ Jump up to : `` Analysis RB Leipzig 's Bundesliga debut is like a fairy tale in which the bad guys are winning '' . Washington Post . Retrieved 2017 - 03 - 08 . Jump up ^ `` Brazil - Red Bull Brasil - Results , fixtures , squad , statistics , photos , videos and news - Soccerway '' . us.soccerway.com . Retrieved 2017 - 03 - 08 . Jump up ^ `` RED BULL HISTORY '' . speedace.info . Electrick Publications . Retrieved 2012 - 07 - 27 . Jump up ^ `` Red Bull becomes first brand on PlayStation Home '' . Retrieved 2017 - 03 - 08 . Jump up ^ Fahey , Mike . `` Red Bull Gives PlayStation Home New Things To Do '' . Kotaku . Retrieved 2017 - 03 - 08 . Jump up ^ `` Red Bull House of Skate '' . YourPSHome.net . Retrieved 2017 - 03 - 08 . Jump up ^ `` iTunes - Browse the top free apps on the App Store - Apple '' . Apple . Retrieved 2016 - 02 - 11 . Jump up ^ `` GTVault - Gran Turismo 5Setup for '' . www.gtvault.com . Retrieved 2017 - 03 - 08 . Jump up ^ Abbey - Lambertz , Kate ( 2013 - 08 - 07 ) . `` Red Bull House Of Art Bolsters Detroit Scene By Giving Artists On The Verge A Leg Up ( VIDEO ) '' . Huffington Post . Retrieved 2015 - 01 - 24 . Jump up ^ Hammerstein , BJ . `` Detroit artist star of new Red Bull ad '' . Detroit Free Press . Retrieved 2015 - 01 - 24 . Jump up ^ Rigby , Claire . `` Red Bull Station opens up downtown '' . Time Out Brazil . Retrieved 2015 - 01 - 24 . Jump up ^ DeVito , Lee . `` Meet the creative minds behind the Red Bull House of Art 's Cycle 8 '' . Metro Times . Retrieved 24 January 2015 . Jump up ^ Trevino , Jessica J. `` Meet the 6 local artists featured in the Red Bull House of Art exhibit '' . Detroit Free Press . Retrieved 24 January 2015 . Jump up ^ DeVito , Lee . `` Red Bull House of Art '' . MetroTimes . Retrieved 24 January 2015 . Jump up ^ Lacy , Eric . `` Grammys 2014 : Watch Detroit Red Bull House of Art ' City of Soldiers ' commercial aired during show '' . MLive . Retrieved 24 January 2015 . Jump up ^ `` Red Bull New York -- Ball Sports Profiles '' . Red Bull . Retrieved 2012 - 05 - 04 . Jump up ^ `` Holden commits to Supercars Supercars '' . Supercars . Retrieved 2017 - 10 - 15 . Jump up ^ `` OG and the rise of player centred teams '' . redbull.com . Retrieved 2017 - 08 - 02 . Jump up ^ Origen staff ( 2015 - 05 - 14 ) . `` xPeke becomes a Red Bull Athlete '' . Retrieved 2017 - 06 - 30 . Jump up ^ Galaflow ( 2015 - 05 - 15 ) . `` xPeke ist der erste RedBull - Athlet ! '' . Summoners-Inn.de ( in German ) . Retrieved 2017 - 06 - 30 . Jump up ^ `` Reggie Bush Goes to Red Bull -- ESPN The Magazine '' . Sports.espn.go.com . Retrieved 2009 - 06 - 22 . Jump up ^ `` Hikaru Nakamura Always try to win at all costs '' . Jump up ^ `` US # 1 Nakamura Signs with Red Bull '' . Jump up ^ Womack , Barrett ( February 16 , 2016 ) . `` How Leffen Will Take Over the World '' . Red Bull eSports . Jump up ^ `` Daigo signs with Red Bull as Mad Catz officially exits player sponsorship '' . Dot Esports . May 16 , 2016 . Retrieved 2016 - 11 - 26 . Jump up ^ `` Japanese fighting game legend Bonchan joins Red Bull '' . Dot Esports . September 1 , 2015 . Retrieved 2016 - 11 - 26 . Jump up ^ Walker , Ian ( July 22 , 2015 ) . `` Red Bull Gives Darryl `` Snake Eyez '' Lewis Wings `` . Shoryuken.com . Retrieved 2016 - 11 - 26 . Jump up ^ `` Luffy signs with Red Bull '' . Dot Esports . February 14 , 2016 . Retrieved 2016 - 11 - 26 . Jump up ^ `` Breaking Down The Elite Eight : : Red Bull Esports '' . Red Bull . Retrieved 2013 - 06 - 21 . Jump up ^ `` Red Bull Cold Rush 2012 : : Red Bull '' . Red Bull . Retrieved 2012 - 04 - 17 . Jump up ^ `` Red Bull Dolomitenmann `` . Dolomitenmann.com. 2013 - 04 - 03 . Retrieved 2013 - 07 - 28 . Jump up ^ `` Red Bull Elements '' . Red Bull Aventure . Retrieved 2013 - 11 - 13 . Jump up ^ `` Red Bull Storm Chase '' . Red Bull . Retrieved 2014 - 02 - 09 . Jump up ^ `` Red Bull Supernatural Event Web Page '' . Retrieved 2012 - 08 - 22 . Jump up ^ `` Red Bull Soapbox Race '' . Archived from the original on 2013 - 02 - 07 . Retrieved 2013 - 02 - 07 . Jump up ^ Red Bull Unleashed Jump up ^ `` 2014 World Bridge Series - World Bridge Federation '' . Worldbridge.org. 2013 - 07 - 24 . Retrieved 2014 - 06 - 10 . External links ( edit ) Wikimedia Commons has media related to Red Bull . Official website Krating Daeng ( Thai Red Bull ) : www.kratingdaeng.com/main.php # / lets_get_start Red Bull Energy Drink Red Bull 's Total Marketing -- slideshow by Der Spiegel Red Bull GmbH Beverages Red Bull Red Bull Simply Cola Carpe Diem Krating Daeng People Dietrich Mateschitz Chaleo Yoovidhya Chalerm Yoovidhya Events Crashed Ice Dolomitenmann Red Bull Air Race World Championship Red Bull Art of Motion Red Bull Art of the Can Red Bull BC One Red Bull Big Wave Africa Red Bull Cape Fear Red Bull Cliff Diving World Series Red Bull Drifting World Championship Red Bull Flugtag Frozen Rush Red Bull Global Rallycross Swatch Beach Volleyball Major Series Red Bull Illume Red Bull MotoGP Rookies Cup Red Bull Music Academy Red Bull Paper Wings Red Bull Rampage Red Bull Road Rage Red Bull Romaniacs Hard Enduro Rallye Red Bull Stratos Red Bull Trolley Grand Prix Red Bull X-Alps Red Bull X-Fighters Sports teams Association football FC Red Bull Salzburg FC Liefering New York Red Bulls II U-23 RB Leipzig Red Bull Brasil Red Bull Ghana Ice hockey EC Red Bull Salzburg EHC Red Bull München Auto racing Red Bull Racing Scuderia Toro Rosso Red Bull Junior Team Red Bull Racing Australia Red Bull Racing Team Motorcycle racing Red Bull Honda World Superbike Team Red Bull KTM Factory Racing RBR F1 cars RB1 RB2 RB3 RB4 RB5 RB6 RB7 RB8 RB9 RB10 RB11 RB12 RB13 RB14 STR F1 cars STR1 STR2 / STR2B STR3 STR4 STR5 STR6 STR7 STR8 STR9 STR10 STR11 STR12 STR13 Arenas Red Bull Arena ( Leipzig ) Red Bull Arena ( New Jersey ) Red Bull Arena ( Salzburg ) Other The Art of Flight Flying Bulls Aerobatics Team Hangar - 7 New York Red Bulls Academy Red Bull New Year No Limits Red Bull Records Red Bull Ring Red Bull X2010 Red Bulls ServusTV The Red Bulletin Energy drinks Monster Beverage BPM Energy Burn Formula 50 Full Throttle Monster Mother NOS RAC 124 Relentless Tab Energy Vault Von Dutch PepsiCo AMP Energy Josta Mountain Dew Rockstar Sting Energy Drink Independent 51 Fifty Bacchus - F Bawls Carabao Cocaine Coolah Energy Crunk Demon Energy Desperta Ferro ! EJ - 10 Emerge Four Gay Fuel Hell Energy Joose Krating Daeng Lipovitan Lost Energy M - 150 Nae Danger Oronamin Pimp Juice Pussy Red Bull Reload Red Rooster Rip It Semtex Shark Street King Tiger V Venom Other Battery List of energy drinks Streamy Awards winners -- Channel , Series , or Show Overall Action and Sci - Fi H+ : The Digital Series ( 2013 ) Video Game High School ( 2014 ) Corridor Digital ( 2015 ) Day 5 ( 2016 ) Crypt TV ( 2017 ) Animated How It Should Have Ended ( 2010 ) Electric City ( 2013 ) RWBY ( 2014 ) The Cyanide & Happiness Show ( 2015 ) sWooZie ( 2016 ) RWBY ( Volume 4 ) ( 2017 ) Breakout Creator Matthew Santoro ( 2015 ) Liza Koshy ( 2016 ) David Dobrik ( 2017 ) Comedy Liza Koshy ( 2017 ) Documentary ‡ Atari : Game Over ( 2015 ) The Banker Suicides ( 2016 ) Psycho Family ( 2017 ) First Person DailyGrace ( 2013 ) Jenna Marbles ( 2014 ) IISuperwomanII ( 2015 ) Casey Neistat ( 2016 ) Lilly Singh ( 2017 ) Immersive BlackBoxTV ( 2017 ) International OzGirl ( 2010 ) Travel Story ( 2013 ) Noob ( 2014 ) Racka Racka ( 2015 ) HolaSoyGerman ( 2016 ) Juanpa Zurita ( 2017 ) Series Comedy Series The Guild ( 2009 ) Between Two Ferns with Zach Galifianakis ( 2010 ) Burning Love ( 2013 ) My Drunk Kitchen ( 2014 ) Flula ( 2015 ) Good Mythical Morning ( 2016 ) Rhett and Link 's Buddy System ( 2017 ) Drama Series Battlestar Galactica : The Face of the Enemy ( 2009 ) The Bannen Way ( 2010 ) Halo 4 : Forward Unto Dawn ( 2013 ) The Lizzie Bennet Diaries ( 2014 ) BlackBoxTV ( 2015 ) I Ship It ( 2016 ) Cold ( 2017 ) Indie Series Little Horribles ( 2014 ) Eat Our Feelings ( 2015 ) Brooklyn Sound ( 2016 ) Brown Girls ( 2017 ) Non-Fiction Series The Shatner Project ( 2009 ) The Secret Life of Scientists ( 2010 ) Kids React ( 2013 ) Comedians in Cars Getting Coffee ( 2014 ) Good Mythical Morning ( 2015 ) The Try Guys ( 2016 ) Ladylike ( 2017 ) Subject Beauty Missglamorazzi ( 2014 ) Gigi Gorgeous ( 2015 ) Kandee Johnson ( 2016 ) PatrickStarrr ( 2017 ) Fashion Bethany Mota ( 2014 ) Lauren Elizabeth ( 2015 ) Amanda Steele ( 2016 ) Tess Christine ( 2017 ) Food ‡ Epic Meal Time ( 2014 ) Epic Meal Time ( 2015 ) Tiny Kitchen ( 2016 ) Worth It ( 2017 ) Gaming Smosh Games ( 2014 ) PewDiePie ( 2015 ) The Game Theorists ( 2016 ) Smosh Games ( 2017 ) Sports and Wellness † Blogilates ( 2017 ) Kids and Family Kids React ( 2014 ) What 's Up Moms ( 2015 ) Kid President ( 2016 ) Brooklyn & Bailey ( 2017 ) Lifestyle iJustine ( 2015 ) GloZell Green ( 2016 ) LaurDIY ( 2017 ) News and Culture Alive in Baghdad ( 2009 ) Auto - Tune the News ( 2010 ) The Philip DeFranco Show ( 2013 ) SourceFed ( 2014 ) The Young Turks ( 2015 ) The Philip DeFranco Show ( 2016 ) The Young Turks ( 2017 ) Pranks PrankvsPrank ( 2015 ) Roman Atwood ( 2016 ) Science or Education Vsauce ( 2014 ) Vsauce ( 2015 ) Laci Green ( 2016 ) Veritasium ( 2017 ) Discontinued Branded Entertainment Back on Topps ( 2010 ) Leap Year ( 2013 ) Health and Wellness Blogilates ( 2014 ) Blogilates ( 2015 ) Yoga With Adriene ( 2016 ) Hosted EPIC FU ( 2009 ) Diggnation ( 2010 ) Spin - Off The Office : Subtle Sexuality ( 2010 ) The Walking Dead : Cold Storage ( 2013 ) Vandeveon & Mike ( 2014 ) The Tonight Show Starring Jimmy Fallon : Backstage ( 2015 ) Sports Red Bull ( 2014 ) Dude Perfect ( 2015 ) 30 for 30 Shorts ( 2016 ) Other categories Auto - Tune the News ( 2010 -- Experimental ) What 's Trending ( 2013 -- Live ) Epic Rap Battles of History ( 2013 -- Music ) Jabbawockeez ( 2014 -- Dance ) MatPat 's Game Lab ( 2016 -- Virtual Reality and 360 ) † = category was merged from others ‡ = category was renamed Retrieved from `` https://en.wikipedia.org/w/index.php?title=Red_Bull&oldid=822186025 '' Categories : Red Bull Austrian brands Companies of Thailand Energy drinks Products introduced in 1987 Thai brands Hidden categories : All articles with self - published sources Articles with self - published sources from April 2013 CS1 uses Arabic - language script ( ar ) CS1 Arabic - language sources ( ar ) CS1 German - language sources ( de ) Pages using deprecated image syntax Articles with hRecipes Articles with hProducts Articles needing additional references from March 2017 All articles needing additional references All articles with unsourced statements Articles with unsourced statements from August 2015 Articles containing potentially dated statements from 2014 All articles containing potentially dated statements Articles to be split from March 2016 All articles to be split Talk Variants Contents About Wikipedia Asturianu Azərbaycanca Беларуская Български བོད ་ ཡིག Brezhoneg Català Čeština Dansk Deutsch Eesti Ελληνικά Español Euskara فارسی Français Galego 한국어 Hrvatski Bahasa Indonesia Italiano עברית ქართული Latviešu Lietuvių Magyar Nederlands 日本 語 Norsk Norsk nynorsk Oʻzbekcha / ўзбекча Polski Português Română Русский Shqip Simple English Slovenčina Slovenščina Српски / srpski Suomi Svenska Türkçe Українська Tiếng Việt 粵語 中文 Edit links This page was last edited on 24 January 2018 , at 22 : 12 . Text is available under the Creative Commons Attribution - ShareAlike License ; additional terms may apply . By using this site , you agree to the Terms of Use and Privacy Policy . Wikipedia ® is a registered trademark of the Wikimedia Foundation , Inc. , a non-profit organization . About Wikipedia\",\n",
    " 'qas': [{'question': 'when did red bull come to the united states',\n",
    "   'id': '0'}]}\n",
    "]"
   ]
  },
  {
   "cell_type": "code",
   "execution_count": 73,
   "metadata": {
    "colab": {
     "base_uri": "https://localhost:8080/",
     "height": 135,
     "referenced_widgets": [
      "e3e6d44436874c5dbbff96f0abafaf5b",
      "b8d529a5b95d4c8f93c0ece29d89db39",
      "1a4e76baee4f46aab1454c458d260dbc",
      "0524e83805e14ce3af08099251a1301f",
      "4a88fd07a39c4f878b06c25574925e46",
      "cd24d3bfb7f24c3a883153c15bc24e94",
      "49ba826599644dca802903a4d705228d",
      "63a36ee90402436d83b72f138647bb69",
      "e11f59a1f14147138d57a7fad0b77d48",
      "614c27f6116c4498a641c956e6501743",
      "7901dac2e190464189319fa1397b2e90"
     ]
    },
    "id": "MHi55xYHaCzB",
    "outputId": "02fdea22-4ac2-46b3-e8ea-22284d716c8e"
   },
   "outputs": [
    {
     "name": "stderr",
     "output_type": "stream",
     "text": [
      "convert squad examples to features: 100%|██████████| 2/2 [00:00<00:00,  8.05it/s]\n",
      "add example index and unique id: 100%|██████████| 2/2 [00:00<00:00, 27413.75it/s]\n"
     ]
    },
    {
     "data": {
      "application/vnd.jupyter.widget-view+json": {
       "model_id": "fa293d143abc478bb23c002a330fc020",
       "version_major": 2,
       "version_minor": 0
      },
      "text/plain": [
       "Running Prediction:   0%|          | 0/1 [00:00<?, ?it/s]"
      ]
     },
     "metadata": {},
     "output_type": "display_data"
    },
    {
     "name": "stdout",
     "output_type": "stream",
     "text": [
      "ans: [{'id': '14208778017604803798', 'answer': ['empty']}, {'id': '1074881708737617818', 'answer': ['empty']}]\n",
      "prob: [{'id': '14208778017604803798', 'probability': [3.466326211119808e-07]}, {'id': '1074881708737617818', 'probability': [3.4393510558124425e-07]}]\n"
     ]
    }
   ],
   "source": [
    "#validation_new = validation\n",
    "answers, probabilities = model.predict(validation)\n",
    "\n",
    "print(\"ans:\", answers)\n",
    "print(\"prob:\", probabilities)"
   ]
  },
  {
   "cell_type": "code",
   "execution_count": null,
   "metadata": {},
   "outputs": [],
   "source": [
    "print(validation)"
   ]
  }
 ],
 "metadata": {
  "accelerator": "GPU",
  "colab": {
   "collapsed_sections": [],
   "machine_shape": "hm",
   "name": "Copy of Question Answer Application.ipynb",
   "provenance": [
    {
     "file_id": "https://github.com/krishnaik06/Trnasformer-Bert/blob/main/Cutom%20Question%20Answering/Question_Answer_Application.ipynb",
     "timestamp": 1638956433977
    }
   ]
  },
  "kernelspec": {
   "display_name": "Python 3",
   "language": "python",
   "name": "python3"
  },
  "language_info": {
   "codemirror_mode": {
    "name": "ipython",
    "version": 3
   },
   "file_extension": ".py",
   "mimetype": "text/x-python",
   "name": "python",
   "nbconvert_exporter": "python",
   "pygments_lexer": "ipython3",
   "version": "3.8.6"
  },
  "widgets": {
   "application/vnd.jupyter.widget-state+json": {
    "0423dc0528cf4b11930cd97cbac3750f": {
     "model_module": "@jupyter-widgets/controls",
     "model_module_version": "1.5.0",
     "model_name": "FloatProgressModel",
     "state": {
      "_dom_classes": [],
      "_model_module": "@jupyter-widgets/controls",
      "_model_module_version": "1.5.0",
      "_model_name": "FloatProgressModel",
      "_view_count": null,
      "_view_module": "@jupyter-widgets/controls",
      "_view_module_version": "1.5.0",
      "_view_name": "ProgressView",
      "bar_style": "success",
      "description": "",
      "description_tooltip": null,
      "layout": "IPY_MODEL_7110f0ba45fc4f728d75269f0d18524d",
      "max": 1,
      "min": 0,
      "orientation": "horizontal",
      "style": "IPY_MODEL_f3065b1696dd429f90ebf9390f0c3bf2",
      "value": 1
     }
    },
    "0524e83805e14ce3af08099251a1301f": {
     "model_module": "@jupyter-widgets/controls",
     "model_module_version": "1.5.0",
     "model_name": "FloatProgressModel",
     "state": {
      "_dom_classes": [],
      "_model_module": "@jupyter-widgets/controls",
      "_model_module_version": "1.5.0",
      "_model_name": "FloatProgressModel",
      "_view_count": null,
      "_view_module": "@jupyter-widgets/controls",
      "_view_module_version": "1.5.0",
      "_view_name": "ProgressView",
      "bar_style": "success",
      "description": "",
      "description_tooltip": null,
      "layout": "IPY_MODEL_e11f59a1f14147138d57a7fad0b77d48",
      "max": 1,
      "min": 0,
      "orientation": "horizontal",
      "style": "IPY_MODEL_63a36ee90402436d83b72f138647bb69",
      "value": 1
     }
    },
    "06c9dcac0a10465da24e1ca7e6b1977f": {
     "model_module": "@jupyter-widgets/base",
     "model_module_version": "1.2.0",
     "model_name": "LayoutModel",
     "state": {
      "_model_module": "@jupyter-widgets/base",
      "_model_module_version": "1.2.0",
      "_model_name": "LayoutModel",
      "_view_count": null,
      "_view_module": "@jupyter-widgets/base",
      "_view_module_version": "1.2.0",
      "_view_name": "LayoutView",
      "align_content": null,
      "align_items": null,
      "align_self": null,
      "border": null,
      "bottom": null,
      "display": null,
      "flex": null,
      "flex_flow": null,
      "grid_area": null,
      "grid_auto_columns": null,
      "grid_auto_flow": null,
      "grid_auto_rows": null,
      "grid_column": null,
      "grid_gap": null,
      "grid_row": null,
      "grid_template_areas": null,
      "grid_template_columns": null,
      "grid_template_rows": null,
      "height": null,
      "justify_content": null,
      "justify_items": null,
      "left": null,
      "margin": null,
      "max_height": null,
      "max_width": null,
      "min_height": null,
      "min_width": null,
      "object_fit": null,
      "object_position": null,
      "order": null,
      "overflow": null,
      "overflow_x": null,
      "overflow_y": null,
      "padding": null,
      "right": null,
      "top": null,
      "visibility": null,
      "width": null
     }
    },
    "070e7e19c2c94d8cb3b41bace94a3f9a": {
     "model_module": "@jupyter-widgets/controls",
     "model_module_version": "1.5.0",
     "model_name": "HTMLModel",
     "state": {
      "_dom_classes": [],
      "_model_module": "@jupyter-widgets/controls",
      "_model_module_version": "1.5.0",
      "_model_name": "HTMLModel",
      "_view_count": null,
      "_view_module": "@jupyter-widgets/controls",
      "_view_module_version": "1.5.0",
      "_view_name": "HTMLView",
      "description": "",
      "description_tooltip": null,
      "layout": "IPY_MODEL_79450a0415274213bd4b42e37119bd46",
      "placeholder": "​",
      "style": "IPY_MODEL_fc4d42dfc7cd48b39be47167586c654c",
      "value": " 1/1 [00:00&lt;00:00, 18.68it/s]"
     }
    },
    "0716bbdbec944aad8873d71d29c77758": {
     "model_module": "@jupyter-widgets/controls",
     "model_module_version": "1.5.0",
     "model_name": "HBoxModel",
     "state": {
      "_dom_classes": [],
      "_model_module": "@jupyter-widgets/controls",
      "_model_module_version": "1.5.0",
      "_model_name": "HBoxModel",
      "_view_count": null,
      "_view_module": "@jupyter-widgets/controls",
      "_view_module_version": "1.5.0",
      "_view_name": "HBoxView",
      "box_style": "",
      "children": [
       "IPY_MODEL_4fb4c6abc688444ea159d50aefc99332",
       "IPY_MODEL_0423dc0528cf4b11930cd97cbac3750f",
       "IPY_MODEL_c112529bba2a4d05a853f997bd8bb4f2"
      ],
      "layout": "IPY_MODEL_37d628b85bad4569b63d8068b9b180d5"
     }
    },
    "081690b4116b42a98a5328351d48bdf9": {
     "model_module": "@jupyter-widgets/controls",
     "model_module_version": "1.5.0",
     "model_name": "HBoxModel",
     "state": {
      "_dom_classes": [],
      "_model_module": "@jupyter-widgets/controls",
      "_model_module_version": "1.5.0",
      "_model_name": "HBoxModel",
      "_view_count": null,
      "_view_module": "@jupyter-widgets/controls",
      "_view_module_version": "1.5.0",
      "_view_name": "HBoxView",
      "box_style": "",
      "children": [
       "IPY_MODEL_4c8f1ecc79c246e580921ea3f2191cba",
       "IPY_MODEL_1128386ee4684dc6aa814c3213d2b92d",
       "IPY_MODEL_69c34ebd80e143e4b810733d4b25a6a1"
      ],
      "layout": "IPY_MODEL_601394562ab4448482dd795241a168c3"
     }
    },
    "091a4f5876a64f969e54e7982880f6cb": {
     "model_module": "@jupyter-widgets/controls",
     "model_module_version": "1.5.0",
     "model_name": "FloatProgressModel",
     "state": {
      "_dom_classes": [],
      "_model_module": "@jupyter-widgets/controls",
      "_model_module_version": "1.5.0",
      "_model_name": "FloatProgressModel",
      "_view_count": null,
      "_view_module": "@jupyter-widgets/controls",
      "_view_module_version": "1.5.0",
      "_view_name": "ProgressView",
      "bar_style": "",
      "description": "",
      "description_tooltip": null,
      "layout": "IPY_MODEL_c7df953a9faa47c1a90b71d35c81332e",
      "max": 1,
      "min": 0,
      "orientation": "horizontal",
      "style": "IPY_MODEL_cd2ce76442724c0498d6a4e5c861091e",
      "value": 1
     }
    },
    "0a5eade50e6f4cd4a490ed473b7d4460": {
     "model_module": "@jupyter-widgets/base",
     "model_module_version": "1.2.0",
     "model_name": "LayoutModel",
     "state": {
      "_model_module": "@jupyter-widgets/base",
      "_model_module_version": "1.2.0",
      "_model_name": "LayoutModel",
      "_view_count": null,
      "_view_module": "@jupyter-widgets/base",
      "_view_module_version": "1.2.0",
      "_view_name": "LayoutView",
      "align_content": null,
      "align_items": null,
      "align_self": null,
      "border": null,
      "bottom": null,
      "display": null,
      "flex": null,
      "flex_flow": null,
      "grid_area": null,
      "grid_auto_columns": null,
      "grid_auto_flow": null,
      "grid_auto_rows": null,
      "grid_column": null,
      "grid_gap": null,
      "grid_row": null,
      "grid_template_areas": null,
      "grid_template_columns": null,
      "grid_template_rows": null,
      "height": null,
      "justify_content": null,
      "justify_items": null,
      "left": null,
      "margin": null,
      "max_height": null,
      "max_width": null,
      "min_height": null,
      "min_width": null,
      "object_fit": null,
      "object_position": null,
      "order": null,
      "overflow": null,
      "overflow_x": null,
      "overflow_y": null,
      "padding": null,
      "right": null,
      "top": null,
      "visibility": null,
      "width": null
     }
    },
    "0b5ee432816e46f88158cfc5a15d9404": {
     "model_module": "@jupyter-widgets/controls",
     "model_module_version": "1.5.0",
     "model_name": "HBoxModel",
     "state": {
      "_dom_classes": [],
      "_model_module": "@jupyter-widgets/controls",
      "_model_module_version": "1.5.0",
      "_model_name": "HBoxModel",
      "_view_count": null,
      "_view_module": "@jupyter-widgets/controls",
      "_view_module_version": "1.5.0",
      "_view_name": "HBoxView",
      "box_style": "",
      "children": [
       "IPY_MODEL_6890f7d38f264242b7d358bb96a138c5",
       "IPY_MODEL_28cdcbb9686e4a4a804dac34106a2a5f",
       "IPY_MODEL_ae3da4fc79324b089f59eedf0b67525c"
      ],
      "layout": "IPY_MODEL_44a4217b7b7247358c72e675c948b9ae"
     }
    },
    "0c149bb97d49465393a54f3561f7281f": {
     "model_module": "@jupyter-widgets/controls",
     "model_module_version": "1.5.0",
     "model_name": "HTMLModel",
     "state": {
      "_dom_classes": [],
      "_model_module": "@jupyter-widgets/controls",
      "_model_module_version": "1.5.0",
      "_model_name": "HTMLModel",
      "_view_count": null,
      "_view_module": "@jupyter-widgets/controls",
      "_view_module_version": "1.5.0",
      "_view_name": "HTMLView",
      "description": "",
      "description_tooltip": null,
      "layout": "IPY_MODEL_3781ad7a5584429590dfecb7b644551d",
      "placeholder": "​",
      "style": "IPY_MODEL_71813407ca74457b898473b319e253f4",
      "value": "Epochs 0/5. Running Loss:    5.0653: 100%"
     }
    },
    "0c2363f31ff94023aabfd0742cf2c19c": {
     "model_module": "@jupyter-widgets/controls",
     "model_module_version": "1.5.0",
     "model_name": "DescriptionStyleModel",
     "state": {
      "_model_module": "@jupyter-widgets/controls",
      "_model_module_version": "1.5.0",
      "_model_name": "DescriptionStyleModel",
      "_view_count": null,
      "_view_module": "@jupyter-widgets/base",
      "_view_module_version": "1.2.0",
      "_view_name": "StyleView",
      "description_width": ""
     }
    },
    "0e8c1e6d63dc4d01a1d582b53a838f3b": {
     "model_module": "@jupyter-widgets/controls",
     "model_module_version": "1.5.0",
     "model_name": "DescriptionStyleModel",
     "state": {
      "_model_module": "@jupyter-widgets/controls",
      "_model_module_version": "1.5.0",
      "_model_name": "DescriptionStyleModel",
      "_view_count": null,
      "_view_module": "@jupyter-widgets/base",
      "_view_module_version": "1.2.0",
      "_view_name": "StyleView",
      "description_width": ""
     }
    },
    "1128386ee4684dc6aa814c3213d2b92d": {
     "model_module": "@jupyter-widgets/controls",
     "model_module_version": "1.5.0",
     "model_name": "FloatProgressModel",
     "state": {
      "_dom_classes": [],
      "_model_module": "@jupyter-widgets/controls",
      "_model_module_version": "1.5.0",
      "_model_name": "FloatProgressModel",
      "_view_count": null,
      "_view_module": "@jupyter-widgets/controls",
      "_view_module_version": "1.5.0",
      "_view_name": "ProgressView",
      "bar_style": "success",
      "description": "",
      "description_tooltip": null,
      "layout": "IPY_MODEL_b4fe63e36536490ea8308f76c8f34b40",
      "max": 1,
      "min": 0,
      "orientation": "horizontal",
      "style": "IPY_MODEL_fe65c4070b5a404a8087dd663fbdb5e7",
      "value": 1
     }
    },
    "147cd42375574013a06098894c5d695c": {
     "model_module": "@jupyter-widgets/base",
     "model_module_version": "1.2.0",
     "model_name": "LayoutModel",
     "state": {
      "_model_module": "@jupyter-widgets/base",
      "_model_module_version": "1.2.0",
      "_model_name": "LayoutModel",
      "_view_count": null,
      "_view_module": "@jupyter-widgets/base",
      "_view_module_version": "1.2.0",
      "_view_name": "LayoutView",
      "align_content": null,
      "align_items": null,
      "align_self": null,
      "border": null,
      "bottom": null,
      "display": null,
      "flex": null,
      "flex_flow": null,
      "grid_area": null,
      "grid_auto_columns": null,
      "grid_auto_flow": null,
      "grid_auto_rows": null,
      "grid_column": null,
      "grid_gap": null,
      "grid_row": null,
      "grid_template_areas": null,
      "grid_template_columns": null,
      "grid_template_rows": null,
      "height": null,
      "justify_content": null,
      "justify_items": null,
      "left": null,
      "margin": null,
      "max_height": null,
      "max_width": null,
      "min_height": null,
      "min_width": null,
      "object_fit": null,
      "object_position": null,
      "order": null,
      "overflow": null,
      "overflow_x": null,
      "overflow_y": null,
      "padding": null,
      "right": null,
      "top": null,
      "visibility": null,
      "width": null
     }
    },
    "14be31da15ee462191a7cabe86d0c2d0": {
     "model_module": "@jupyter-widgets/controls",
     "model_module_version": "1.5.0",
     "model_name": "DescriptionStyleModel",
     "state": {
      "_model_module": "@jupyter-widgets/controls",
      "_model_module_version": "1.5.0",
      "_model_name": "DescriptionStyleModel",
      "_view_count": null,
      "_view_module": "@jupyter-widgets/base",
      "_view_module_version": "1.2.0",
      "_view_name": "StyleView",
      "description_width": ""
     }
    },
    "1675bf757b6e4f9a802d6709c5138514": {
     "model_module": "@jupyter-widgets/controls",
     "model_module_version": "1.5.0",
     "model_name": "DescriptionStyleModel",
     "state": {
      "_model_module": "@jupyter-widgets/controls",
      "_model_module_version": "1.5.0",
      "_model_name": "DescriptionStyleModel",
      "_view_count": null,
      "_view_module": "@jupyter-widgets/base",
      "_view_module_version": "1.2.0",
      "_view_name": "StyleView",
      "description_width": ""
     }
    },
    "1a4e76baee4f46aab1454c458d260dbc": {
     "model_module": "@jupyter-widgets/controls",
     "model_module_version": "1.5.0",
     "model_name": "HTMLModel",
     "state": {
      "_dom_classes": [],
      "_model_module": "@jupyter-widgets/controls",
      "_model_module_version": "1.5.0",
      "_model_name": "HTMLModel",
      "_view_count": null,
      "_view_module": "@jupyter-widgets/controls",
      "_view_module_version": "1.5.0",
      "_view_name": "HTMLView",
      "description": "",
      "description_tooltip": null,
      "layout": "IPY_MODEL_49ba826599644dca802903a4d705228d",
      "placeholder": "​",
      "style": "IPY_MODEL_cd24d3bfb7f24c3a883153c15bc24e94",
      "value": "Running Prediction: 100%"
     }
    },
    "1b2215f0d4834a3ea2e3b5bad3a9391e": {
     "model_module": "@jupyter-widgets/base",
     "model_module_version": "1.2.0",
     "model_name": "LayoutModel",
     "state": {
      "_model_module": "@jupyter-widgets/base",
      "_model_module_version": "1.2.0",
      "_model_name": "LayoutModel",
      "_view_count": null,
      "_view_module": "@jupyter-widgets/base",
      "_view_module_version": "1.2.0",
      "_view_name": "LayoutView",
      "align_content": null,
      "align_items": null,
      "align_self": null,
      "border": null,
      "bottom": null,
      "display": null,
      "flex": null,
      "flex_flow": null,
      "grid_area": null,
      "grid_auto_columns": null,
      "grid_auto_flow": null,
      "grid_auto_rows": null,
      "grid_column": null,
      "grid_gap": null,
      "grid_row": null,
      "grid_template_areas": null,
      "grid_template_columns": null,
      "grid_template_rows": null,
      "height": null,
      "justify_content": null,
      "justify_items": null,
      "left": null,
      "margin": null,
      "max_height": null,
      "max_width": null,
      "min_height": null,
      "min_width": null,
      "object_fit": null,
      "object_position": null,
      "order": null,
      "overflow": null,
      "overflow_x": null,
      "overflow_y": null,
      "padding": null,
      "right": null,
      "top": null,
      "visibility": null,
      "width": null
     }
    },
    "1b2c598a01254472a6191348d8f4f9ea": {
     "model_module": "@jupyter-widgets/controls",
     "model_module_version": "1.5.0",
     "model_name": "DescriptionStyleModel",
     "state": {
      "_model_module": "@jupyter-widgets/controls",
      "_model_module_version": "1.5.0",
      "_model_name": "DescriptionStyleModel",
      "_view_count": null,
      "_view_module": "@jupyter-widgets/base",
      "_view_module_version": "1.2.0",
      "_view_name": "StyleView",
      "description_width": ""
     }
    },
    "1ccb01edbd084aec98bafe27741ff750": {
     "model_module": "@jupyter-widgets/controls",
     "model_module_version": "1.5.0",
     "model_name": "HTMLModel",
     "state": {
      "_dom_classes": [],
      "_model_module": "@jupyter-widgets/controls",
      "_model_module_version": "1.5.0",
      "_model_name": "HTMLModel",
      "_view_count": null,
      "_view_module": "@jupyter-widgets/controls",
      "_view_module_version": "1.5.0",
      "_view_name": "HTMLView",
      "description": "",
      "description_tooltip": null,
      "layout": "IPY_MODEL_631c2bfad1bf4625afbfd663c04f9202",
      "placeholder": "​",
      "style": "IPY_MODEL_d722a13d11e74744af78f140ea8d86da",
      "value": "Epochs 1/5. Running Loss:    5.1174: 100%"
     }
    },
    "22e5f993074e4ad095ead3b72014daad": {
     "model_module": "@jupyter-widgets/controls",
     "model_module_version": "1.5.0",
     "model_name": "VBoxModel",
     "state": {
      "_dom_classes": [],
      "_model_module": "@jupyter-widgets/controls",
      "_model_module_version": "1.5.0",
      "_model_name": "VBoxModel",
      "_view_count": null,
      "_view_module": "@jupyter-widgets/controls",
      "_view_module_version": "1.5.0",
      "_view_name": "VBoxView",
      "box_style": "",
      "children": [
       "IPY_MODEL_e673a6cfae4447afb64ddcec7adb4910",
       "IPY_MODEL_091a4f5876a64f969e54e7982880f6cb"
      ],
      "layout": "IPY_MODEL_db0bfe2709a540408ab2d2e527ea12f2"
     }
    },
    "269016c98d5640aba8987eedba69f921": {
     "model_module": "@jupyter-widgets/controls",
     "model_module_version": "1.5.0",
     "model_name": "HTMLModel",
     "state": {
      "_dom_classes": [],
      "_model_module": "@jupyter-widgets/controls",
      "_model_module_version": "1.5.0",
      "_model_name": "HTMLModel",
      "_view_count": null,
      "_view_module": "@jupyter-widgets/controls",
      "_view_module_version": "1.5.0",
      "_view_name": "HTMLView",
      "description": "",
      "description_tooltip": null,
      "layout": "IPY_MODEL_b468f76c78b849b28ecbcda7007df761",
      "placeholder": "​",
      "style": "IPY_MODEL_0e8c1e6d63dc4d01a1d582b53a838f3b",
      "value": "Running Evaluation: 100%"
     }
    },
    "284cdbb512434508924f74e566c635c8": {
     "model_module": "@jupyter-widgets/base",
     "model_module_version": "1.2.0",
     "model_name": "LayoutModel",
     "state": {
      "_model_module": "@jupyter-widgets/base",
      "_model_module_version": "1.2.0",
      "_model_name": "LayoutModel",
      "_view_count": null,
      "_view_module": "@jupyter-widgets/base",
      "_view_module_version": "1.2.0",
      "_view_name": "LayoutView",
      "align_content": null,
      "align_items": null,
      "align_self": null,
      "border": null,
      "bottom": null,
      "display": null,
      "flex": null,
      "flex_flow": null,
      "grid_area": null,
      "grid_auto_columns": null,
      "grid_auto_flow": null,
      "grid_auto_rows": null,
      "grid_column": null,
      "grid_gap": null,
      "grid_row": null,
      "grid_template_areas": null,
      "grid_template_columns": null,
      "grid_template_rows": null,
      "height": null,
      "justify_content": null,
      "justify_items": null,
      "left": null,
      "margin": null,
      "max_height": null,
      "max_width": null,
      "min_height": null,
      "min_width": null,
      "object_fit": null,
      "object_position": null,
      "order": null,
      "overflow": null,
      "overflow_x": null,
      "overflow_y": null,
      "padding": null,
      "right": null,
      "top": null,
      "visibility": null,
      "width": null
     }
    },
    "28cdcbb9686e4a4a804dac34106a2a5f": {
     "model_module": "@jupyter-widgets/controls",
     "model_module_version": "1.5.0",
     "model_name": "FloatProgressModel",
     "state": {
      "_dom_classes": [],
      "_model_module": "@jupyter-widgets/controls",
      "_model_module_version": "1.5.0",
      "_model_name": "FloatProgressModel",
      "_view_count": null,
      "_view_module": "@jupyter-widgets/controls",
      "_view_module_version": "1.5.0",
      "_view_name": "ProgressView",
      "bar_style": "success",
      "description": "",
      "description_tooltip": null,
      "layout": "IPY_MODEL_c2afb43c448d4cd5a8fbced2be0e15a2",
      "max": 5,
      "min": 0,
      "orientation": "horizontal",
      "style": "IPY_MODEL_b010a66c56f64cac8bb0484e1a70e810",
      "value": 5
     }
    },
    "2c046f18114e443daead60573086a6dd": {
     "model_module": "@jupyter-widgets/controls",
     "model_module_version": "1.5.0",
     "model_name": "DescriptionStyleModel",
     "state": {
      "_model_module": "@jupyter-widgets/controls",
      "_model_module_version": "1.5.0",
      "_model_name": "DescriptionStyleModel",
      "_view_count": null,
      "_view_module": "@jupyter-widgets/base",
      "_view_module_version": "1.2.0",
      "_view_name": "StyleView",
      "description_width": ""
     }
    },
    "2c26f8ec17df4fd182fe0b94f5b3709a": {
     "model_module": "@jupyter-widgets/controls",
     "model_module_version": "1.5.0",
     "model_name": "DescriptionStyleModel",
     "state": {
      "_model_module": "@jupyter-widgets/controls",
      "_model_module_version": "1.5.0",
      "_model_name": "DescriptionStyleModel",
      "_view_count": null,
      "_view_module": "@jupyter-widgets/base",
      "_view_module_version": "1.2.0",
      "_view_name": "StyleView",
      "description_width": ""
     }
    },
    "2d1e1728b1f24cf0b81bc2a3876842ab": {
     "model_module": "@jupyter-widgets/controls",
     "model_module_version": "1.5.0",
     "model_name": "ProgressStyleModel",
     "state": {
      "_model_module": "@jupyter-widgets/controls",
      "_model_module_version": "1.5.0",
      "_model_name": "ProgressStyleModel",
      "_view_count": null,
      "_view_module": "@jupyter-widgets/base",
      "_view_module_version": "1.2.0",
      "_view_name": "StyleView",
      "bar_color": null,
      "description_width": ""
     }
    },
    "3781ad7a5584429590dfecb7b644551d": {
     "model_module": "@jupyter-widgets/base",
     "model_module_version": "1.2.0",
     "model_name": "LayoutModel",
     "state": {
      "_model_module": "@jupyter-widgets/base",
      "_model_module_version": "1.2.0",
      "_model_name": "LayoutModel",
      "_view_count": null,
      "_view_module": "@jupyter-widgets/base",
      "_view_module_version": "1.2.0",
      "_view_name": "LayoutView",
      "align_content": null,
      "align_items": null,
      "align_self": null,
      "border": null,
      "bottom": null,
      "display": null,
      "flex": null,
      "flex_flow": null,
      "grid_area": null,
      "grid_auto_columns": null,
      "grid_auto_flow": null,
      "grid_auto_rows": null,
      "grid_column": null,
      "grid_gap": null,
      "grid_row": null,
      "grid_template_areas": null,
      "grid_template_columns": null,
      "grid_template_rows": null,
      "height": null,
      "justify_content": null,
      "justify_items": null,
      "left": null,
      "margin": null,
      "max_height": null,
      "max_width": null,
      "min_height": null,
      "min_width": null,
      "object_fit": null,
      "object_position": null,
      "order": null,
      "overflow": null,
      "overflow_x": null,
      "overflow_y": null,
      "padding": null,
      "right": null,
      "top": null,
      "visibility": null,
      "width": null
     }
    },
    "37d628b85bad4569b63d8068b9b180d5": {
     "model_module": "@jupyter-widgets/base",
     "model_module_version": "1.2.0",
     "model_name": "LayoutModel",
     "state": {
      "_model_module": "@jupyter-widgets/base",
      "_model_module_version": "1.2.0",
      "_model_name": "LayoutModel",
      "_view_count": null,
      "_view_module": "@jupyter-widgets/base",
      "_view_module_version": "1.2.0",
      "_view_name": "LayoutView",
      "align_content": null,
      "align_items": null,
      "align_self": null,
      "border": null,
      "bottom": null,
      "display": null,
      "flex": null,
      "flex_flow": null,
      "grid_area": null,
      "grid_auto_columns": null,
      "grid_auto_flow": null,
      "grid_auto_rows": null,
      "grid_column": null,
      "grid_gap": null,
      "grid_row": null,
      "grid_template_areas": null,
      "grid_template_columns": null,
      "grid_template_rows": null,
      "height": null,
      "justify_content": null,
      "justify_items": null,
      "left": null,
      "margin": null,
      "max_height": null,
      "max_width": null,
      "min_height": null,
      "min_width": null,
      "object_fit": null,
      "object_position": null,
      "order": null,
      "overflow": null,
      "overflow_x": null,
      "overflow_y": null,
      "padding": null,
      "right": null,
      "top": null,
      "visibility": null,
      "width": null
     }
    },
    "3816945510064a21ab4ee800a2fe994e": {
     "model_module": "@jupyter-widgets/controls",
     "model_module_version": "1.5.0",
     "model_name": "HBoxModel",
     "state": {
      "_dom_classes": [],
      "_model_module": "@jupyter-widgets/controls",
      "_model_module_version": "1.5.0",
      "_model_name": "HBoxModel",
      "_view_count": null,
      "_view_module": "@jupyter-widgets/controls",
      "_view_module_version": "1.5.0",
      "_view_name": "HBoxView",
      "box_style": "",
      "children": [
       "IPY_MODEL_bbf5fc30e0f54253ae2751534f55b7a0",
       "IPY_MODEL_a4ac952a89c34007a31463d69bad59c6",
       "IPY_MODEL_cb6d028b77f24b6faddd14f676bb8e5c"
      ],
      "layout": "IPY_MODEL_1b2215f0d4834a3ea2e3b5bad3a9391e"
     }
    },
    "3e888ceaccbc43dbba1a64ad68b63480": {
     "model_module": "@jupyter-widgets/controls",
     "model_module_version": "1.5.0",
     "model_name": "ProgressStyleModel",
     "state": {
      "_model_module": "@jupyter-widgets/controls",
      "_model_module_version": "1.5.0",
      "_model_name": "ProgressStyleModel",
      "_view_count": null,
      "_view_module": "@jupyter-widgets/base",
      "_view_module_version": "1.2.0",
      "_view_name": "StyleView",
      "bar_color": null,
      "description_width": ""
     }
    },
    "3f48d65399e24eb886e0d6bc69e7049d": {
     "model_module": "@jupyter-widgets/controls",
     "model_module_version": "1.5.0",
     "model_name": "FloatProgressModel",
     "state": {
      "_dom_classes": [],
      "_model_module": "@jupyter-widgets/controls",
      "_model_module_version": "1.5.0",
      "_model_name": "FloatProgressModel",
      "_view_count": null,
      "_view_module": "@jupyter-widgets/controls",
      "_view_module_version": "1.5.0",
      "_view_name": "ProgressView",
      "bar_style": "success",
      "description": "",
      "description_tooltip": null,
      "layout": "IPY_MODEL_4b8f5adaab8246f59e45369bac6d49cb",
      "max": 1,
      "min": 0,
      "orientation": "horizontal",
      "style": "IPY_MODEL_84701cd9af324aed9f7624ca8169f20d",
      "value": 1
     }
    },
    "413548e8eb484bcca9bea427ef828e90": {
     "model_module": "@jupyter-widgets/base",
     "model_module_version": "1.2.0",
     "model_name": "LayoutModel",
     "state": {
      "_model_module": "@jupyter-widgets/base",
      "_model_module_version": "1.2.0",
      "_model_name": "LayoutModel",
      "_view_count": null,
      "_view_module": "@jupyter-widgets/base",
      "_view_module_version": "1.2.0",
      "_view_name": "LayoutView",
      "align_content": null,
      "align_items": null,
      "align_self": null,
      "border": null,
      "bottom": null,
      "display": null,
      "flex": null,
      "flex_flow": null,
      "grid_area": null,
      "grid_auto_columns": null,
      "grid_auto_flow": null,
      "grid_auto_rows": null,
      "grid_column": null,
      "grid_gap": null,
      "grid_row": null,
      "grid_template_areas": null,
      "grid_template_columns": null,
      "grid_template_rows": null,
      "height": null,
      "justify_content": null,
      "justify_items": null,
      "left": null,
      "margin": null,
      "max_height": null,
      "max_width": null,
      "min_height": null,
      "min_width": null,
      "object_fit": null,
      "object_position": null,
      "order": null,
      "overflow": null,
      "overflow_x": null,
      "overflow_y": null,
      "padding": null,
      "right": null,
      "top": null,
      "visibility": null,
      "width": null
     }
    },
    "42692b252a7e4765ade293bd6f58d48a": {
     "model_module": "@jupyter-widgets/controls",
     "model_module_version": "1.5.0",
     "model_name": "HBoxModel",
     "state": {
      "_dom_classes": [],
      "_model_module": "@jupyter-widgets/controls",
      "_model_module_version": "1.5.0",
      "_model_name": "HBoxModel",
      "_view_count": null,
      "_view_module": "@jupyter-widgets/controls",
      "_view_module_version": "1.5.0",
      "_view_name": "HBoxView",
      "box_style": "",
      "children": [
       "IPY_MODEL_1ccb01edbd084aec98bafe27741ff750",
       "IPY_MODEL_6a0d63f38bcf4a5e9d3ff657ec8ee7e8",
       "IPY_MODEL_bdb5c03b530943d68c9c3ab96b8a855d"
      ],
      "layout": "IPY_MODEL_a40954eb77344b72ba2c8827d6a74812"
     }
    },
    "44a4217b7b7247358c72e675c948b9ae": {
     "model_module": "@jupyter-widgets/base",
     "model_module_version": "1.2.0",
     "model_name": "LayoutModel",
     "state": {
      "_model_module": "@jupyter-widgets/base",
      "_model_module_version": "1.2.0",
      "_model_name": "LayoutModel",
      "_view_count": null,
      "_view_module": "@jupyter-widgets/base",
      "_view_module_version": "1.2.0",
      "_view_name": "LayoutView",
      "align_content": null,
      "align_items": null,
      "align_self": null,
      "border": null,
      "bottom": null,
      "display": null,
      "flex": null,
      "flex_flow": null,
      "grid_area": null,
      "grid_auto_columns": null,
      "grid_auto_flow": null,
      "grid_auto_rows": null,
      "grid_column": null,
      "grid_gap": null,
      "grid_row": null,
      "grid_template_areas": null,
      "grid_template_columns": null,
      "grid_template_rows": null,
      "height": null,
      "justify_content": null,
      "justify_items": null,
      "left": null,
      "margin": null,
      "max_height": null,
      "max_width": null,
      "min_height": null,
      "min_width": null,
      "object_fit": null,
      "object_position": null,
      "order": null,
      "overflow": null,
      "overflow_x": null,
      "overflow_y": null,
      "padding": null,
      "right": null,
      "top": null,
      "visibility": null,
      "width": null
     }
    },
    "49ba826599644dca802903a4d705228d": {
     "model_module": "@jupyter-widgets/base",
     "model_module_version": "1.2.0",
     "model_name": "LayoutModel",
     "state": {
      "_model_module": "@jupyter-widgets/base",
      "_model_module_version": "1.2.0",
      "_model_name": "LayoutModel",
      "_view_count": null,
      "_view_module": "@jupyter-widgets/base",
      "_view_module_version": "1.2.0",
      "_view_name": "LayoutView",
      "align_content": null,
      "align_items": null,
      "align_self": null,
      "border": null,
      "bottom": null,
      "display": null,
      "flex": null,
      "flex_flow": null,
      "grid_area": null,
      "grid_auto_columns": null,
      "grid_auto_flow": null,
      "grid_auto_rows": null,
      "grid_column": null,
      "grid_gap": null,
      "grid_row": null,
      "grid_template_areas": null,
      "grid_template_columns": null,
      "grid_template_rows": null,
      "height": null,
      "justify_content": null,
      "justify_items": null,
      "left": null,
      "margin": null,
      "max_height": null,
      "max_width": null,
      "min_height": null,
      "min_width": null,
      "object_fit": null,
      "object_position": null,
      "order": null,
      "overflow": null,
      "overflow_x": null,
      "overflow_y": null,
      "padding": null,
      "right": null,
      "top": null,
      "visibility": null,
      "width": null
     }
    },
    "4a88fd07a39c4f878b06c25574925e46": {
     "model_module": "@jupyter-widgets/controls",
     "model_module_version": "1.5.0",
     "model_name": "HTMLModel",
     "state": {
      "_dom_classes": [],
      "_model_module": "@jupyter-widgets/controls",
      "_model_module_version": "1.5.0",
      "_model_name": "HTMLModel",
      "_view_count": null,
      "_view_module": "@jupyter-widgets/controls",
      "_view_module_version": "1.5.0",
      "_view_name": "HTMLView",
      "description": "",
      "description_tooltip": null,
      "layout": "IPY_MODEL_7901dac2e190464189319fa1397b2e90",
      "placeholder": "​",
      "style": "IPY_MODEL_614c27f6116c4498a641c956e6501743",
      "value": " 1/1 [00:00&lt;00:00, 20.76it/s]"
     }
    },
    "4b8f5adaab8246f59e45369bac6d49cb": {
     "model_module": "@jupyter-widgets/base",
     "model_module_version": "1.2.0",
     "model_name": "LayoutModel",
     "state": {
      "_model_module": "@jupyter-widgets/base",
      "_model_module_version": "1.2.0",
      "_model_name": "LayoutModel",
      "_view_count": null,
      "_view_module": "@jupyter-widgets/base",
      "_view_module_version": "1.2.0",
      "_view_name": "LayoutView",
      "align_content": null,
      "align_items": null,
      "align_self": null,
      "border": null,
      "bottom": null,
      "display": null,
      "flex": null,
      "flex_flow": null,
      "grid_area": null,
      "grid_auto_columns": null,
      "grid_auto_flow": null,
      "grid_auto_rows": null,
      "grid_column": null,
      "grid_gap": null,
      "grid_row": null,
      "grid_template_areas": null,
      "grid_template_columns": null,
      "grid_template_rows": null,
      "height": null,
      "justify_content": null,
      "justify_items": null,
      "left": null,
      "margin": null,
      "max_height": null,
      "max_width": null,
      "min_height": null,
      "min_width": null,
      "object_fit": null,
      "object_position": null,
      "order": null,
      "overflow": null,
      "overflow_x": null,
      "overflow_y": null,
      "padding": null,
      "right": null,
      "top": null,
      "visibility": null,
      "width": null
     }
    },
    "4c8f1ecc79c246e580921ea3f2191cba": {
     "model_module": "@jupyter-widgets/controls",
     "model_module_version": "1.5.0",
     "model_name": "HTMLModel",
     "state": {
      "_dom_classes": [],
      "_model_module": "@jupyter-widgets/controls",
      "_model_module_version": "1.5.0",
      "_model_name": "HTMLModel",
      "_view_count": null,
      "_view_module": "@jupyter-widgets/controls",
      "_view_module_version": "1.5.0",
      "_view_name": "HTMLView",
      "description": "",
      "description_tooltip": null,
      "layout": "IPY_MODEL_9f253f40f4f34135a9017d0a32d5fc04",
      "placeholder": "​",
      "style": "IPY_MODEL_c9a630f5a676417c8330ceb49e8b461c",
      "value": "Epochs 3/5. Running Loss:    4.3079: 100%"
     }
    },
    "4fb4c6abc688444ea159d50aefc99332": {
     "model_module": "@jupyter-widgets/controls",
     "model_module_version": "1.5.0",
     "model_name": "HTMLModel",
     "state": {
      "_dom_classes": [],
      "_model_module": "@jupyter-widgets/controls",
      "_model_module_version": "1.5.0",
      "_model_name": "HTMLModel",
      "_view_count": null,
      "_view_module": "@jupyter-widgets/controls",
      "_view_module_version": "1.5.0",
      "_view_name": "HTMLView",
      "description": "",
      "description_tooltip": null,
      "layout": "IPY_MODEL_978a66b9988e449a9b2ab4fd88e9d56d",
      "placeholder": "​",
      "style": "IPY_MODEL_c6bb5998e42c400097ec8f78919cfccf",
      "value": "Running Evaluation: 100%"
     }
    },
    "55455f6a1f854900a8447cb242fd5d1a": {
     "model_module": "@jupyter-widgets/base",
     "model_module_version": "1.2.0",
     "model_name": "LayoutModel",
     "state": {
      "_model_module": "@jupyter-widgets/base",
      "_model_module_version": "1.2.0",
      "_model_name": "LayoutModel",
      "_view_count": null,
      "_view_module": "@jupyter-widgets/base",
      "_view_module_version": "1.2.0",
      "_view_name": "LayoutView",
      "align_content": null,
      "align_items": null,
      "align_self": null,
      "border": null,
      "bottom": null,
      "display": null,
      "flex": null,
      "flex_flow": null,
      "grid_area": null,
      "grid_auto_columns": null,
      "grid_auto_flow": null,
      "grid_auto_rows": null,
      "grid_column": null,
      "grid_gap": null,
      "grid_row": null,
      "grid_template_areas": null,
      "grid_template_columns": null,
      "grid_template_rows": null,
      "height": null,
      "justify_content": null,
      "justify_items": null,
      "left": null,
      "margin": null,
      "max_height": null,
      "max_width": null,
      "min_height": null,
      "min_width": null,
      "object_fit": null,
      "object_position": null,
      "order": null,
      "overflow": null,
      "overflow_x": null,
      "overflow_y": null,
      "padding": null,
      "right": null,
      "top": null,
      "visibility": null,
      "width": null
     }
    },
    "5903d2d04a244de0929e1eee60eb61d8": {
     "model_module": "@jupyter-widgets/base",
     "model_module_version": "1.2.0",
     "model_name": "LayoutModel",
     "state": {
      "_model_module": "@jupyter-widgets/base",
      "_model_module_version": "1.2.0",
      "_model_name": "LayoutModel",
      "_view_count": null,
      "_view_module": "@jupyter-widgets/base",
      "_view_module_version": "1.2.0",
      "_view_name": "LayoutView",
      "align_content": null,
      "align_items": null,
      "align_self": null,
      "border": null,
      "bottom": null,
      "display": null,
      "flex": null,
      "flex_flow": null,
      "grid_area": null,
      "grid_auto_columns": null,
      "grid_auto_flow": null,
      "grid_auto_rows": null,
      "grid_column": null,
      "grid_gap": null,
      "grid_row": null,
      "grid_template_areas": null,
      "grid_template_columns": null,
      "grid_template_rows": null,
      "height": null,
      "justify_content": null,
      "justify_items": null,
      "left": null,
      "margin": null,
      "max_height": null,
      "max_width": null,
      "min_height": null,
      "min_width": null,
      "object_fit": null,
      "object_position": null,
      "order": null,
      "overflow": null,
      "overflow_x": null,
      "overflow_y": null,
      "padding": null,
      "right": null,
      "top": null,
      "visibility": null,
      "width": null
     }
    },
    "5ba2ca1e9ced40e6a9e0ccd282fa07bf": {
     "model_module": "@jupyter-widgets/controls",
     "model_module_version": "1.5.0",
     "model_name": "DescriptionStyleModel",
     "state": {
      "_model_module": "@jupyter-widgets/controls",
      "_model_module_version": "1.5.0",
      "_model_name": "DescriptionStyleModel",
      "_view_count": null,
      "_view_module": "@jupyter-widgets/base",
      "_view_module_version": "1.2.0",
      "_view_name": "StyleView",
      "description_width": ""
     }
    },
    "5c31615990a243108be5dd952260f350": {
     "model_module": "@jupyter-widgets/controls",
     "model_module_version": "1.5.0",
     "model_name": "FloatProgressModel",
     "state": {
      "_dom_classes": [],
      "_model_module": "@jupyter-widgets/controls",
      "_model_module_version": "1.5.0",
      "_model_name": "FloatProgressModel",
      "_view_count": null,
      "_view_module": "@jupyter-widgets/controls",
      "_view_module_version": "1.5.0",
      "_view_name": "ProgressView",
      "bar_style": "success",
      "description": "",
      "description_tooltip": null,
      "layout": "IPY_MODEL_8493294d041742328ef62841094d6c42",
      "max": 1,
      "min": 0,
      "orientation": "horizontal",
      "style": "IPY_MODEL_b8ce0f65248a4110bfef367d5848a25f",
      "value": 1
     }
    },
    "5f4c318ad8c9404d962f69c13aad2274": {
     "model_module": "@jupyter-widgets/base",
     "model_module_version": "1.2.0",
     "model_name": "LayoutModel",
     "state": {
      "_model_module": "@jupyter-widgets/base",
      "_model_module_version": "1.2.0",
      "_model_name": "LayoutModel",
      "_view_count": null,
      "_view_module": "@jupyter-widgets/base",
      "_view_module_version": "1.2.0",
      "_view_name": "LayoutView",
      "align_content": null,
      "align_items": null,
      "align_self": null,
      "border": null,
      "bottom": null,
      "display": null,
      "flex": null,
      "flex_flow": null,
      "grid_area": null,
      "grid_auto_columns": null,
      "grid_auto_flow": null,
      "grid_auto_rows": null,
      "grid_column": null,
      "grid_gap": null,
      "grid_row": null,
      "grid_template_areas": null,
      "grid_template_columns": null,
      "grid_template_rows": null,
      "height": null,
      "justify_content": null,
      "justify_items": null,
      "left": null,
      "margin": null,
      "max_height": null,
      "max_width": null,
      "min_height": null,
      "min_width": null,
      "object_fit": null,
      "object_position": null,
      "order": null,
      "overflow": null,
      "overflow_x": null,
      "overflow_y": null,
      "padding": null,
      "right": null,
      "top": null,
      "visibility": null,
      "width": null
     }
    },
    "601394562ab4448482dd795241a168c3": {
     "model_module": "@jupyter-widgets/base",
     "model_module_version": "1.2.0",
     "model_name": "LayoutModel",
     "state": {
      "_model_module": "@jupyter-widgets/base",
      "_model_module_version": "1.2.0",
      "_model_name": "LayoutModel",
      "_view_count": null,
      "_view_module": "@jupyter-widgets/base",
      "_view_module_version": "1.2.0",
      "_view_name": "LayoutView",
      "align_content": null,
      "align_items": null,
      "align_self": null,
      "border": null,
      "bottom": null,
      "display": null,
      "flex": null,
      "flex_flow": null,
      "grid_area": null,
      "grid_auto_columns": null,
      "grid_auto_flow": null,
      "grid_auto_rows": null,
      "grid_column": null,
      "grid_gap": null,
      "grid_row": null,
      "grid_template_areas": null,
      "grid_template_columns": null,
      "grid_template_rows": null,
      "height": null,
      "justify_content": null,
      "justify_items": null,
      "left": null,
      "margin": null,
      "max_height": null,
      "max_width": null,
      "min_height": null,
      "min_width": null,
      "object_fit": null,
      "object_position": null,
      "order": null,
      "overflow": null,
      "overflow_x": null,
      "overflow_y": null,
      "padding": null,
      "right": null,
      "top": null,
      "visibility": null,
      "width": null
     }
    },
    "6066b91b466f4846ba2b45da95ef78c7": {
     "model_module": "@jupyter-widgets/controls",
     "model_module_version": "1.5.0",
     "model_name": "HTMLModel",
     "state": {
      "_dom_classes": [],
      "_model_module": "@jupyter-widgets/controls",
      "_model_module_version": "1.5.0",
      "_model_name": "HTMLModel",
      "_view_count": null,
      "_view_module": "@jupyter-widgets/controls",
      "_view_module_version": "1.5.0",
      "_view_name": "HTMLView",
      "description": "",
      "description_tooltip": null,
      "layout": "IPY_MODEL_86670c2853bd437a990babd8e3909f9d",
      "placeholder": "​",
      "style": "IPY_MODEL_0c2363f31ff94023aabfd0742cf2c19c",
      "value": " 1/1 [00:00&lt;00:00, 20.59it/s]"
     }
    },
    "6109c4ce8b1944f18fb30f7261bebd61": {
     "model_module": "@jupyter-widgets/base",
     "model_module_version": "1.2.0",
     "model_name": "LayoutModel",
     "state": {
      "_model_module": "@jupyter-widgets/base",
      "_model_module_version": "1.2.0",
      "_model_name": "LayoutModel",
      "_view_count": null,
      "_view_module": "@jupyter-widgets/base",
      "_view_module_version": "1.2.0",
      "_view_name": "LayoutView",
      "align_content": null,
      "align_items": null,
      "align_self": null,
      "border": null,
      "bottom": null,
      "display": null,
      "flex": null,
      "flex_flow": null,
      "grid_area": null,
      "grid_auto_columns": null,
      "grid_auto_flow": null,
      "grid_auto_rows": null,
      "grid_column": null,
      "grid_gap": null,
      "grid_row": null,
      "grid_template_areas": null,
      "grid_template_columns": null,
      "grid_template_rows": null,
      "height": null,
      "justify_content": null,
      "justify_items": null,
      "left": null,
      "margin": null,
      "max_height": null,
      "max_width": null,
      "min_height": null,
      "min_width": null,
      "object_fit": null,
      "object_position": null,
      "order": null,
      "overflow": null,
      "overflow_x": null,
      "overflow_y": null,
      "padding": null,
      "right": null,
      "top": null,
      "visibility": null,
      "width": null
     }
    },
    "614c27f6116c4498a641c956e6501743": {
     "model_module": "@jupyter-widgets/controls",
     "model_module_version": "1.5.0",
     "model_name": "DescriptionStyleModel",
     "state": {
      "_model_module": "@jupyter-widgets/controls",
      "_model_module_version": "1.5.0",
      "_model_name": "DescriptionStyleModel",
      "_view_count": null,
      "_view_module": "@jupyter-widgets/base",
      "_view_module_version": "1.2.0",
      "_view_name": "StyleView",
      "description_width": ""
     }
    },
    "617f4ccde4ad465c85cc9d055d812a54": {
     "model_module": "@jupyter-widgets/controls",
     "model_module_version": "1.5.0",
     "model_name": "HTMLModel",
     "state": {
      "_dom_classes": [],
      "_model_module": "@jupyter-widgets/controls",
      "_model_module_version": "1.5.0",
      "_model_name": "HTMLModel",
      "_view_count": null,
      "_view_module": "@jupyter-widgets/controls",
      "_view_module_version": "1.5.0",
      "_view_name": "HTMLView",
      "description": "",
      "description_tooltip": null,
      "layout": "IPY_MODEL_5f4c318ad8c9404d962f69c13aad2274",
      "placeholder": "​",
      "style": "IPY_MODEL_5ba2ca1e9ced40e6a9e0ccd282fa07bf",
      "value": " 1/1 [00:00&lt;00:00, 20.12it/s]"
     }
    },
    "631c2bfad1bf4625afbfd663c04f9202": {
     "model_module": "@jupyter-widgets/base",
     "model_module_version": "1.2.0",
     "model_name": "LayoutModel",
     "state": {
      "_model_module": "@jupyter-widgets/base",
      "_model_module_version": "1.2.0",
      "_model_name": "LayoutModel",
      "_view_count": null,
      "_view_module": "@jupyter-widgets/base",
      "_view_module_version": "1.2.0",
      "_view_name": "LayoutView",
      "align_content": null,
      "align_items": null,
      "align_self": null,
      "border": null,
      "bottom": null,
      "display": null,
      "flex": null,
      "flex_flow": null,
      "grid_area": null,
      "grid_auto_columns": null,
      "grid_auto_flow": null,
      "grid_auto_rows": null,
      "grid_column": null,
      "grid_gap": null,
      "grid_row": null,
      "grid_template_areas": null,
      "grid_template_columns": null,
      "grid_template_rows": null,
      "height": null,
      "justify_content": null,
      "justify_items": null,
      "left": null,
      "margin": null,
      "max_height": null,
      "max_width": null,
      "min_height": null,
      "min_width": null,
      "object_fit": null,
      "object_position": null,
      "order": null,
      "overflow": null,
      "overflow_x": null,
      "overflow_y": null,
      "padding": null,
      "right": null,
      "top": null,
      "visibility": null,
      "width": null
     }
    },
    "63a36ee90402436d83b72f138647bb69": {
     "model_module": "@jupyter-widgets/controls",
     "model_module_version": "1.5.0",
     "model_name": "ProgressStyleModel",
     "state": {
      "_model_module": "@jupyter-widgets/controls",
      "_model_module_version": "1.5.0",
      "_model_name": "ProgressStyleModel",
      "_view_count": null,
      "_view_module": "@jupyter-widgets/base",
      "_view_module_version": "1.2.0",
      "_view_name": "StyleView",
      "bar_color": null,
      "description_width": ""
     }
    },
    "641e56d1619347659afb967e6b7235e5": {
     "model_module": "@jupyter-widgets/controls",
     "model_module_version": "1.5.0",
     "model_name": "HBoxModel",
     "state": {
      "_dom_classes": [],
      "_model_module": "@jupyter-widgets/controls",
      "_model_module_version": "1.5.0",
      "_model_name": "HBoxModel",
      "_view_count": null,
      "_view_module": "@jupyter-widgets/controls",
      "_view_module_version": "1.5.0",
      "_view_name": "HBoxView",
      "box_style": "",
      "children": [
       "IPY_MODEL_a3e0eaf3cbf743d6b8d466cfc6c99702",
       "IPY_MODEL_e48903a2e25e48888c0bac2737106195",
       "IPY_MODEL_710965e7c5104f649d20dd09610306d7"
      ],
      "layout": "IPY_MODEL_5903d2d04a244de0929e1eee60eb61d8"
     }
    },
    "66b95ae3b79340bba8302c23dbae3d2b": {
     "model_module": "@jupyter-widgets/base",
     "model_module_version": "1.2.0",
     "model_name": "LayoutModel",
     "state": {
      "_model_module": "@jupyter-widgets/base",
      "_model_module_version": "1.2.0",
      "_model_name": "LayoutModel",
      "_view_count": null,
      "_view_module": "@jupyter-widgets/base",
      "_view_module_version": "1.2.0",
      "_view_name": "LayoutView",
      "align_content": null,
      "align_items": null,
      "align_self": null,
      "border": null,
      "bottom": null,
      "display": null,
      "flex": null,
      "flex_flow": null,
      "grid_area": null,
      "grid_auto_columns": null,
      "grid_auto_flow": null,
      "grid_auto_rows": null,
      "grid_column": null,
      "grid_gap": null,
      "grid_row": null,
      "grid_template_areas": null,
      "grid_template_columns": null,
      "grid_template_rows": null,
      "height": null,
      "justify_content": null,
      "justify_items": null,
      "left": null,
      "margin": null,
      "max_height": null,
      "max_width": null,
      "min_height": null,
      "min_width": null,
      "object_fit": null,
      "object_position": null,
      "order": null,
      "overflow": null,
      "overflow_x": null,
      "overflow_y": null,
      "padding": null,
      "right": null,
      "top": null,
      "visibility": null,
      "width": null
     }
    },
    "6890f7d38f264242b7d358bb96a138c5": {
     "model_module": "@jupyter-widgets/controls",
     "model_module_version": "1.5.0",
     "model_name": "HTMLModel",
     "state": {
      "_dom_classes": [],
      "_model_module": "@jupyter-widgets/controls",
      "_model_module_version": "1.5.0",
      "_model_name": "HTMLModel",
      "_view_count": null,
      "_view_module": "@jupyter-widgets/controls",
      "_view_module_version": "1.5.0",
      "_view_name": "HTMLView",
      "description": "",
      "description_tooltip": null,
      "layout": "IPY_MODEL_c5ea4fa154d34774ab35c3f7cc65afa1",
      "placeholder": "​",
      "style": "IPY_MODEL_a1dd7e959aa14e4b98517f8c3999c48f",
      "value": "Epoch 5 of 5: 100%"
     }
    },
    "68d65940eea148bcadab476e79ecc720": {
     "model_module": "@jupyter-widgets/base",
     "model_module_version": "1.2.0",
     "model_name": "LayoutModel",
     "state": {
      "_model_module": "@jupyter-widgets/base",
      "_model_module_version": "1.2.0",
      "_model_name": "LayoutModel",
      "_view_count": null,
      "_view_module": "@jupyter-widgets/base",
      "_view_module_version": "1.2.0",
      "_view_name": "LayoutView",
      "align_content": null,
      "align_items": null,
      "align_self": null,
      "border": null,
      "bottom": null,
      "display": null,
      "flex": null,
      "flex_flow": null,
      "grid_area": null,
      "grid_auto_columns": null,
      "grid_auto_flow": null,
      "grid_auto_rows": null,
      "grid_column": null,
      "grid_gap": null,
      "grid_row": null,
      "grid_template_areas": null,
      "grid_template_columns": null,
      "grid_template_rows": null,
      "height": null,
      "justify_content": null,
      "justify_items": null,
      "left": null,
      "margin": null,
      "max_height": null,
      "max_width": null,
      "min_height": null,
      "min_width": null,
      "object_fit": null,
      "object_position": null,
      "order": null,
      "overflow": null,
      "overflow_x": null,
      "overflow_y": null,
      "padding": null,
      "right": null,
      "top": null,
      "visibility": null,
      "width": null
     }
    },
    "696faa310ef54840afa560c70010a15b": {
     "model_module": "@jupyter-widgets/controls",
     "model_module_version": "1.5.0",
     "model_name": "HBoxModel",
     "state": {
      "_dom_classes": [],
      "_model_module": "@jupyter-widgets/controls",
      "_model_module_version": "1.5.0",
      "_model_name": "HBoxModel",
      "_view_count": null,
      "_view_module": "@jupyter-widgets/controls",
      "_view_module_version": "1.5.0",
      "_view_name": "HBoxView",
      "box_style": "",
      "children": [
       "IPY_MODEL_92152edb40d54de7b28a65f080fdb8f4",
       "IPY_MODEL_3f48d65399e24eb886e0d6bc69e7049d",
       "IPY_MODEL_617f4ccde4ad465c85cc9d055d812a54"
      ],
      "layout": "IPY_MODEL_a28c7228865a41d0b3a532788b3b89e4"
     }
    },
    "69c34ebd80e143e4b810733d4b25a6a1": {
     "model_module": "@jupyter-widgets/controls",
     "model_module_version": "1.5.0",
     "model_name": "HTMLModel",
     "state": {
      "_dom_classes": [],
      "_model_module": "@jupyter-widgets/controls",
      "_model_module_version": "1.5.0",
      "_model_name": "HTMLModel",
      "_view_count": null,
      "_view_module": "@jupyter-widgets/controls",
      "_view_module_version": "1.5.0",
      "_view_name": "HTMLView",
      "description": "",
      "description_tooltip": null,
      "layout": "IPY_MODEL_d89d469e300b4b6c9de570f9a241629f",
      "placeholder": "​",
      "style": "IPY_MODEL_14be31da15ee462191a7cabe86d0c2d0",
      "value": " 1/1 [00:00&lt;00:00,  8.63it/s]"
     }
    },
    "6a0d63f38bcf4a5e9d3ff657ec8ee7e8": {
     "model_module": "@jupyter-widgets/controls",
     "model_module_version": "1.5.0",
     "model_name": "FloatProgressModel",
     "state": {
      "_dom_classes": [],
      "_model_module": "@jupyter-widgets/controls",
      "_model_module_version": "1.5.0",
      "_model_name": "FloatProgressModel",
      "_view_count": null,
      "_view_module": "@jupyter-widgets/controls",
      "_view_module_version": "1.5.0",
      "_view_name": "ProgressView",
      "bar_style": "success",
      "description": "",
      "description_tooltip": null,
      "layout": "IPY_MODEL_66b95ae3b79340bba8302c23dbae3d2b",
      "max": 1,
      "min": 0,
      "orientation": "horizontal",
      "style": "IPY_MODEL_722f29fc306f4fd0807ec642cb73fd66",
      "value": 1
     }
    },
    "6f6ce4f103bb4e97af03112844072576": {
     "model_module": "@jupyter-widgets/controls",
     "model_module_version": "1.5.0",
     "model_name": "HBoxModel",
     "state": {
      "_dom_classes": [],
      "_model_module": "@jupyter-widgets/controls",
      "_model_module_version": "1.5.0",
      "_model_name": "HBoxModel",
      "_view_count": null,
      "_view_module": "@jupyter-widgets/controls",
      "_view_module_version": "1.5.0",
      "_view_name": "HBoxView",
      "box_style": "",
      "children": [
       "IPY_MODEL_cf6333ea666e4230a1193df60fe3f435",
       "IPY_MODEL_723b9e5482774968997e06d787d26caf",
       "IPY_MODEL_ac6a38f564d24a14b1aefcfe326c5676"
      ],
      "layout": "IPY_MODEL_413548e8eb484bcca9bea427ef828e90"
     }
    },
    "710965e7c5104f649d20dd09610306d7": {
     "model_module": "@jupyter-widgets/controls",
     "model_module_version": "1.5.0",
     "model_name": "HTMLModel",
     "state": {
      "_dom_classes": [],
      "_model_module": "@jupyter-widgets/controls",
      "_model_module_version": "1.5.0",
      "_model_name": "HTMLModel",
      "_view_count": null,
      "_view_module": "@jupyter-widgets/controls",
      "_view_module_version": "1.5.0",
      "_view_name": "HTMLView",
      "description": "",
      "description_tooltip": null,
      "layout": "IPY_MODEL_832d816019844416bbe6f3eb67dfc66d",
      "placeholder": "​",
      "style": "IPY_MODEL_1b2c598a01254472a6191348d8f4f9ea",
      "value": " 1/1 [00:00&lt;00:00, 21.53it/s]"
     }
    },
    "7110f0ba45fc4f728d75269f0d18524d": {
     "model_module": "@jupyter-widgets/base",
     "model_module_version": "1.2.0",
     "model_name": "LayoutModel",
     "state": {
      "_model_module": "@jupyter-widgets/base",
      "_model_module_version": "1.2.0",
      "_model_name": "LayoutModel",
      "_view_count": null,
      "_view_module": "@jupyter-widgets/base",
      "_view_module_version": "1.2.0",
      "_view_name": "LayoutView",
      "align_content": null,
      "align_items": null,
      "align_self": null,
      "border": null,
      "bottom": null,
      "display": null,
      "flex": null,
      "flex_flow": null,
      "grid_area": null,
      "grid_auto_columns": null,
      "grid_auto_flow": null,
      "grid_auto_rows": null,
      "grid_column": null,
      "grid_gap": null,
      "grid_row": null,
      "grid_template_areas": null,
      "grid_template_columns": null,
      "grid_template_rows": null,
      "height": null,
      "justify_content": null,
      "justify_items": null,
      "left": null,
      "margin": null,
      "max_height": null,
      "max_width": null,
      "min_height": null,
      "min_width": null,
      "object_fit": null,
      "object_position": null,
      "order": null,
      "overflow": null,
      "overflow_x": null,
      "overflow_y": null,
      "padding": null,
      "right": null,
      "top": null,
      "visibility": null,
      "width": null
     }
    },
    "716d5079d1934136b19c70638c655269": {
     "model_module": "@jupyter-widgets/controls",
     "model_module_version": "1.5.0",
     "model_name": "DescriptionStyleModel",
     "state": {
      "_model_module": "@jupyter-widgets/controls",
      "_model_module_version": "1.5.0",
      "_model_name": "DescriptionStyleModel",
      "_view_count": null,
      "_view_module": "@jupyter-widgets/base",
      "_view_module_version": "1.2.0",
      "_view_name": "StyleView",
      "description_width": ""
     }
    },
    "71813407ca74457b898473b319e253f4": {
     "model_module": "@jupyter-widgets/controls",
     "model_module_version": "1.5.0",
     "model_name": "DescriptionStyleModel",
     "state": {
      "_model_module": "@jupyter-widgets/controls",
      "_model_module_version": "1.5.0",
      "_model_name": "DescriptionStyleModel",
      "_view_count": null,
      "_view_module": "@jupyter-widgets/base",
      "_view_module_version": "1.2.0",
      "_view_name": "StyleView",
      "description_width": ""
     }
    },
    "722f29fc306f4fd0807ec642cb73fd66": {
     "model_module": "@jupyter-widgets/controls",
     "model_module_version": "1.5.0",
     "model_name": "ProgressStyleModel",
     "state": {
      "_model_module": "@jupyter-widgets/controls",
      "_model_module_version": "1.5.0",
      "_model_name": "ProgressStyleModel",
      "_view_count": null,
      "_view_module": "@jupyter-widgets/base",
      "_view_module_version": "1.2.0",
      "_view_name": "StyleView",
      "bar_color": null,
      "description_width": ""
     }
    },
    "723b9e5482774968997e06d787d26caf": {
     "model_module": "@jupyter-widgets/controls",
     "model_module_version": "1.5.0",
     "model_name": "FloatProgressModel",
     "state": {
      "_dom_classes": [],
      "_model_module": "@jupyter-widgets/controls",
      "_model_module_version": "1.5.0",
      "_model_name": "FloatProgressModel",
      "_view_count": null,
      "_view_module": "@jupyter-widgets/controls",
      "_view_module_version": "1.5.0",
      "_view_name": "ProgressView",
      "bar_style": "success",
      "description": "",
      "description_tooltip": null,
      "layout": "IPY_MODEL_147cd42375574013a06098894c5d695c",
      "max": 1,
      "min": 0,
      "orientation": "horizontal",
      "style": "IPY_MODEL_aaafc07c3932439989e558afee87eb8b",
      "value": 1
     }
    },
    "75376836276e426f8ec855af266421b6": {
     "model_module": "@jupyter-widgets/controls",
     "model_module_version": "1.5.0",
     "model_name": "HTMLModel",
     "state": {
      "_dom_classes": [],
      "_model_module": "@jupyter-widgets/controls",
      "_model_module_version": "1.5.0",
      "_model_name": "HTMLModel",
      "_view_count": null,
      "_view_module": "@jupyter-widgets/controls",
      "_view_module_version": "1.5.0",
      "_view_name": "HTMLView",
      "description": "",
      "description_tooltip": null,
      "layout": "IPY_MODEL_06c9dcac0a10465da24e1ca7e6b1977f",
      "placeholder": "​",
      "style": "IPY_MODEL_2c046f18114e443daead60573086a6dd",
      "value": " 1/1 [00:00&lt;00:00,  8.92it/s]"
     }
    },
    "77516bde7edc431cbfe170d3cd5e3cf8": {
     "model_module": "@jupyter-widgets/base",
     "model_module_version": "1.2.0",
     "model_name": "LayoutModel",
     "state": {
      "_model_module": "@jupyter-widgets/base",
      "_model_module_version": "1.2.0",
      "_model_name": "LayoutModel",
      "_view_count": null,
      "_view_module": "@jupyter-widgets/base",
      "_view_module_version": "1.2.0",
      "_view_name": "LayoutView",
      "align_content": null,
      "align_items": null,
      "align_self": null,
      "border": null,
      "bottom": null,
      "display": null,
      "flex": null,
      "flex_flow": null,
      "grid_area": null,
      "grid_auto_columns": null,
      "grid_auto_flow": null,
      "grid_auto_rows": null,
      "grid_column": null,
      "grid_gap": null,
      "grid_row": null,
      "grid_template_areas": null,
      "grid_template_columns": null,
      "grid_template_rows": null,
      "height": null,
      "justify_content": null,
      "justify_items": null,
      "left": null,
      "margin": null,
      "max_height": null,
      "max_width": null,
      "min_height": null,
      "min_width": null,
      "object_fit": null,
      "object_position": null,
      "order": null,
      "overflow": null,
      "overflow_x": null,
      "overflow_y": null,
      "padding": null,
      "right": null,
      "top": null,
      "visibility": null,
      "width": null
     }
    },
    "7901dac2e190464189319fa1397b2e90": {
     "model_module": "@jupyter-widgets/base",
     "model_module_version": "1.2.0",
     "model_name": "LayoutModel",
     "state": {
      "_model_module": "@jupyter-widgets/base",
      "_model_module_version": "1.2.0",
      "_model_name": "LayoutModel",
      "_view_count": null,
      "_view_module": "@jupyter-widgets/base",
      "_view_module_version": "1.2.0",
      "_view_name": "LayoutView",
      "align_content": null,
      "align_items": null,
      "align_self": null,
      "border": null,
      "bottom": null,
      "display": null,
      "flex": null,
      "flex_flow": null,
      "grid_area": null,
      "grid_auto_columns": null,
      "grid_auto_flow": null,
      "grid_auto_rows": null,
      "grid_column": null,
      "grid_gap": null,
      "grid_row": null,
      "grid_template_areas": null,
      "grid_template_columns": null,
      "grid_template_rows": null,
      "height": null,
      "justify_content": null,
      "justify_items": null,
      "left": null,
      "margin": null,
      "max_height": null,
      "max_width": null,
      "min_height": null,
      "min_width": null,
      "object_fit": null,
      "object_position": null,
      "order": null,
      "overflow": null,
      "overflow_x": null,
      "overflow_y": null,
      "padding": null,
      "right": null,
      "top": null,
      "visibility": null,
      "width": null
     }
    },
    "79450a0415274213bd4b42e37119bd46": {
     "model_module": "@jupyter-widgets/base",
     "model_module_version": "1.2.0",
     "model_name": "LayoutModel",
     "state": {
      "_model_module": "@jupyter-widgets/base",
      "_model_module_version": "1.2.0",
      "_model_name": "LayoutModel",
      "_view_count": null,
      "_view_module": "@jupyter-widgets/base",
      "_view_module_version": "1.2.0",
      "_view_name": "LayoutView",
      "align_content": null,
      "align_items": null,
      "align_self": null,
      "border": null,
      "bottom": null,
      "display": null,
      "flex": null,
      "flex_flow": null,
      "grid_area": null,
      "grid_auto_columns": null,
      "grid_auto_flow": null,
      "grid_auto_rows": null,
      "grid_column": null,
      "grid_gap": null,
      "grid_row": null,
      "grid_template_areas": null,
      "grid_template_columns": null,
      "grid_template_rows": null,
      "height": null,
      "justify_content": null,
      "justify_items": null,
      "left": null,
      "margin": null,
      "max_height": null,
      "max_width": null,
      "min_height": null,
      "min_width": null,
      "object_fit": null,
      "object_position": null,
      "order": null,
      "overflow": null,
      "overflow_x": null,
      "overflow_y": null,
      "padding": null,
      "right": null,
      "top": null,
      "visibility": null,
      "width": null
     }
    },
    "7dd75ef3a89147c58441b0bed9e66be9": {
     "model_module": "@jupyter-widgets/controls",
     "model_module_version": "1.5.0",
     "model_name": "HBoxModel",
     "state": {
      "_dom_classes": [],
      "_model_module": "@jupyter-widgets/controls",
      "_model_module_version": "1.5.0",
      "_model_name": "HBoxModel",
      "_view_count": null,
      "_view_module": "@jupyter-widgets/controls",
      "_view_module_version": "1.5.0",
      "_view_name": "HBoxView",
      "box_style": "",
      "children": [
       "IPY_MODEL_dd35ae72151a4858b2700d92ec25d4f8",
       "IPY_MODEL_f8057921a5364527b1f9c1b538fe25d8",
       "IPY_MODEL_6066b91b466f4846ba2b45da95ef78c7"
      ],
      "layout": "IPY_MODEL_0a5eade50e6f4cd4a490ed473b7d4460"
     }
    },
    "7f783f003527489a9c842665e7e0ab01": {
     "model_module": "@jupyter-widgets/controls",
     "model_module_version": "1.5.0",
     "model_name": "DescriptionStyleModel",
     "state": {
      "_model_module": "@jupyter-widgets/controls",
      "_model_module_version": "1.5.0",
      "_model_name": "DescriptionStyleModel",
      "_view_count": null,
      "_view_module": "@jupyter-widgets/base",
      "_view_module_version": "1.2.0",
      "_view_name": "StyleView",
      "description_width": ""
     }
    },
    "832d816019844416bbe6f3eb67dfc66d": {
     "model_module": "@jupyter-widgets/base",
     "model_module_version": "1.2.0",
     "model_name": "LayoutModel",
     "state": {
      "_model_module": "@jupyter-widgets/base",
      "_model_module_version": "1.2.0",
      "_model_name": "LayoutModel",
      "_view_count": null,
      "_view_module": "@jupyter-widgets/base",
      "_view_module_version": "1.2.0",
      "_view_name": "LayoutView",
      "align_content": null,
      "align_items": null,
      "align_self": null,
      "border": null,
      "bottom": null,
      "display": null,
      "flex": null,
      "flex_flow": null,
      "grid_area": null,
      "grid_auto_columns": null,
      "grid_auto_flow": null,
      "grid_auto_rows": null,
      "grid_column": null,
      "grid_gap": null,
      "grid_row": null,
      "grid_template_areas": null,
      "grid_template_columns": null,
      "grid_template_rows": null,
      "height": null,
      "justify_content": null,
      "justify_items": null,
      "left": null,
      "margin": null,
      "max_height": null,
      "max_width": null,
      "min_height": null,
      "min_width": null,
      "object_fit": null,
      "object_position": null,
      "order": null,
      "overflow": null,
      "overflow_x": null,
      "overflow_y": null,
      "padding": null,
      "right": null,
      "top": null,
      "visibility": null,
      "width": null
     }
    },
    "83314d5d823843f6b3cf38b85c8e8197": {
     "model_module": "@jupyter-widgets/controls",
     "model_module_version": "1.5.0",
     "model_name": "DescriptionStyleModel",
     "state": {
      "_model_module": "@jupyter-widgets/controls",
      "_model_module_version": "1.5.0",
      "_model_name": "DescriptionStyleModel",
      "_view_count": null,
      "_view_module": "@jupyter-widgets/base",
      "_view_module_version": "1.2.0",
      "_view_name": "StyleView",
      "description_width": ""
     }
    },
    "84701cd9af324aed9f7624ca8169f20d": {
     "model_module": "@jupyter-widgets/controls",
     "model_module_version": "1.5.0",
     "model_name": "ProgressStyleModel",
     "state": {
      "_model_module": "@jupyter-widgets/controls",
      "_model_module_version": "1.5.0",
      "_model_name": "ProgressStyleModel",
      "_view_count": null,
      "_view_module": "@jupyter-widgets/base",
      "_view_module_version": "1.2.0",
      "_view_name": "StyleView",
      "bar_color": null,
      "description_width": ""
     }
    },
    "8493294d041742328ef62841094d6c42": {
     "model_module": "@jupyter-widgets/base",
     "model_module_version": "1.2.0",
     "model_name": "LayoutModel",
     "state": {
      "_model_module": "@jupyter-widgets/base",
      "_model_module_version": "1.2.0",
      "_model_name": "LayoutModel",
      "_view_count": null,
      "_view_module": "@jupyter-widgets/base",
      "_view_module_version": "1.2.0",
      "_view_name": "LayoutView",
      "align_content": null,
      "align_items": null,
      "align_self": null,
      "border": null,
      "bottom": null,
      "display": null,
      "flex": null,
      "flex_flow": null,
      "grid_area": null,
      "grid_auto_columns": null,
      "grid_auto_flow": null,
      "grid_auto_rows": null,
      "grid_column": null,
      "grid_gap": null,
      "grid_row": null,
      "grid_template_areas": null,
      "grid_template_columns": null,
      "grid_template_rows": null,
      "height": null,
      "justify_content": null,
      "justify_items": null,
      "left": null,
      "margin": null,
      "max_height": null,
      "max_width": null,
      "min_height": null,
      "min_width": null,
      "object_fit": null,
      "object_position": null,
      "order": null,
      "overflow": null,
      "overflow_x": null,
      "overflow_y": null,
      "padding": null,
      "right": null,
      "top": null,
      "visibility": null,
      "width": null
     }
    },
    "86670c2853bd437a990babd8e3909f9d": {
     "model_module": "@jupyter-widgets/base",
     "model_module_version": "1.2.0",
     "model_name": "LayoutModel",
     "state": {
      "_model_module": "@jupyter-widgets/base",
      "_model_module_version": "1.2.0",
      "_model_name": "LayoutModel",
      "_view_count": null,
      "_view_module": "@jupyter-widgets/base",
      "_view_module_version": "1.2.0",
      "_view_name": "LayoutView",
      "align_content": null,
      "align_items": null,
      "align_self": null,
      "border": null,
      "bottom": null,
      "display": null,
      "flex": null,
      "flex_flow": null,
      "grid_area": null,
      "grid_auto_columns": null,
      "grid_auto_flow": null,
      "grid_auto_rows": null,
      "grid_column": null,
      "grid_gap": null,
      "grid_row": null,
      "grid_template_areas": null,
      "grid_template_columns": null,
      "grid_template_rows": null,
      "height": null,
      "justify_content": null,
      "justify_items": null,
      "left": null,
      "margin": null,
      "max_height": null,
      "max_width": null,
      "min_height": null,
      "min_width": null,
      "object_fit": null,
      "object_position": null,
      "order": null,
      "overflow": null,
      "overflow_x": null,
      "overflow_y": null,
      "padding": null,
      "right": null,
      "top": null,
      "visibility": null,
      "width": null
     }
    },
    "89771abf1ef246d7bc58a23373188167": {
     "model_module": "@jupyter-widgets/controls",
     "model_module_version": "1.5.0",
     "model_name": "DescriptionStyleModel",
     "state": {
      "_model_module": "@jupyter-widgets/controls",
      "_model_module_version": "1.5.0",
      "_model_name": "DescriptionStyleModel",
      "_view_count": null,
      "_view_module": "@jupyter-widgets/base",
      "_view_module_version": "1.2.0",
      "_view_name": "StyleView",
      "description_width": ""
     }
    },
    "89eb2eee1bfc43de800ee49bf4cb401f": {
     "model_module": "@jupyter-widgets/controls",
     "model_module_version": "1.5.0",
     "model_name": "DescriptionStyleModel",
     "state": {
      "_model_module": "@jupyter-widgets/controls",
      "_model_module_version": "1.5.0",
      "_model_name": "DescriptionStyleModel",
      "_view_count": null,
      "_view_module": "@jupyter-widgets/base",
      "_view_module_version": "1.2.0",
      "_view_name": "StyleView",
      "description_width": ""
     }
    },
    "8b8cf9e563c74a68ad68897ccedff0fa": {
     "model_module": "@jupyter-widgets/controls",
     "model_module_version": "1.5.0",
     "model_name": "ProgressStyleModel",
     "state": {
      "_model_module": "@jupyter-widgets/controls",
      "_model_module_version": "1.5.0",
      "_model_name": "ProgressStyleModel",
      "_view_count": null,
      "_view_module": "@jupyter-widgets/base",
      "_view_module_version": "1.2.0",
      "_view_name": "StyleView",
      "bar_color": null,
      "description_width": ""
     }
    },
    "8d38e67c4b814e89a2e4495ffbaaf310": {
     "model_module": "@jupyter-widgets/base",
     "model_module_version": "1.2.0",
     "model_name": "LayoutModel",
     "state": {
      "_model_module": "@jupyter-widgets/base",
      "_model_module_version": "1.2.0",
      "_model_name": "LayoutModel",
      "_view_count": null,
      "_view_module": "@jupyter-widgets/base",
      "_view_module_version": "1.2.0",
      "_view_name": "LayoutView",
      "align_content": null,
      "align_items": null,
      "align_self": null,
      "border": null,
      "bottom": null,
      "display": null,
      "flex": null,
      "flex_flow": null,
      "grid_area": null,
      "grid_auto_columns": null,
      "grid_auto_flow": null,
      "grid_auto_rows": null,
      "grid_column": null,
      "grid_gap": null,
      "grid_row": null,
      "grid_template_areas": null,
      "grid_template_columns": null,
      "grid_template_rows": null,
      "height": null,
      "justify_content": null,
      "justify_items": null,
      "left": null,
      "margin": null,
      "max_height": null,
      "max_width": null,
      "min_height": null,
      "min_width": null,
      "object_fit": null,
      "object_position": null,
      "order": null,
      "overflow": null,
      "overflow_x": null,
      "overflow_y": null,
      "padding": null,
      "right": null,
      "top": null,
      "visibility": null,
      "width": null
     }
    },
    "8df5a86f876a4699a5917e5e0dfab0ed": {
     "model_module": "@jupyter-widgets/controls",
     "model_module_version": "1.5.0",
     "model_name": "DescriptionStyleModel",
     "state": {
      "_model_module": "@jupyter-widgets/controls",
      "_model_module_version": "1.5.0",
      "_model_name": "DescriptionStyleModel",
      "_view_count": null,
      "_view_module": "@jupyter-widgets/base",
      "_view_module_version": "1.2.0",
      "_view_name": "StyleView",
      "description_width": ""
     }
    },
    "8ea8229b37aa47b8a76cb1f45b52dced": {
     "model_module": "@jupyter-widgets/base",
     "model_module_version": "1.2.0",
     "model_name": "LayoutModel",
     "state": {
      "_model_module": "@jupyter-widgets/base",
      "_model_module_version": "1.2.0",
      "_model_name": "LayoutModel",
      "_view_count": null,
      "_view_module": "@jupyter-widgets/base",
      "_view_module_version": "1.2.0",
      "_view_name": "LayoutView",
      "align_content": null,
      "align_items": null,
      "align_self": null,
      "border": null,
      "bottom": null,
      "display": null,
      "flex": null,
      "flex_flow": null,
      "grid_area": null,
      "grid_auto_columns": null,
      "grid_auto_flow": null,
      "grid_auto_rows": null,
      "grid_column": null,
      "grid_gap": null,
      "grid_row": null,
      "grid_template_areas": null,
      "grid_template_columns": null,
      "grid_template_rows": null,
      "height": null,
      "justify_content": null,
      "justify_items": null,
      "left": null,
      "margin": null,
      "max_height": null,
      "max_width": null,
      "min_height": null,
      "min_width": null,
      "object_fit": null,
      "object_position": null,
      "order": null,
      "overflow": null,
      "overflow_x": null,
      "overflow_y": null,
      "padding": null,
      "right": null,
      "top": null,
      "visibility": null,
      "width": null
     }
    },
    "92152edb40d54de7b28a65f080fdb8f4": {
     "model_module": "@jupyter-widgets/controls",
     "model_module_version": "1.5.0",
     "model_name": "HTMLModel",
     "state": {
      "_dom_classes": [],
      "_model_module": "@jupyter-widgets/controls",
      "_model_module_version": "1.5.0",
      "_model_name": "HTMLModel",
      "_view_count": null,
      "_view_module": "@jupyter-widgets/controls",
      "_view_module_version": "1.5.0",
      "_view_name": "HTMLView",
      "description": "",
      "description_tooltip": null,
      "layout": "IPY_MODEL_dbb0aaaa8d014816a1f92374376907e6",
      "placeholder": "​",
      "style": "IPY_MODEL_c3cc39c042b543b4935db417e186255e",
      "value": "Running Evaluation: 100%"
     }
    },
    "921a80e2ed824f96aeafb5de6547f1b0": {
     "model_module": "@jupyter-widgets/base",
     "model_module_version": "1.2.0",
     "model_name": "LayoutModel",
     "state": {
      "_model_module": "@jupyter-widgets/base",
      "_model_module_version": "1.2.0",
      "_model_name": "LayoutModel",
      "_view_count": null,
      "_view_module": "@jupyter-widgets/base",
      "_view_module_version": "1.2.0",
      "_view_name": "LayoutView",
      "align_content": null,
      "align_items": null,
      "align_self": null,
      "border": null,
      "bottom": null,
      "display": null,
      "flex": null,
      "flex_flow": null,
      "grid_area": null,
      "grid_auto_columns": null,
      "grid_auto_flow": null,
      "grid_auto_rows": null,
      "grid_column": null,
      "grid_gap": null,
      "grid_row": null,
      "grid_template_areas": null,
      "grid_template_columns": null,
      "grid_template_rows": null,
      "height": null,
      "justify_content": null,
      "justify_items": null,
      "left": null,
      "margin": null,
      "max_height": null,
      "max_width": null,
      "min_height": null,
      "min_width": null,
      "object_fit": null,
      "object_position": null,
      "order": null,
      "overflow": null,
      "overflow_x": null,
      "overflow_y": null,
      "padding": null,
      "right": null,
      "top": null,
      "visibility": null,
      "width": null
     }
    },
    "92a286729b254f5ca48fb5d9e28dbf17": {
     "model_module": "@jupyter-widgets/base",
     "model_module_version": "1.2.0",
     "model_name": "LayoutModel",
     "state": {
      "_model_module": "@jupyter-widgets/base",
      "_model_module_version": "1.2.0",
      "_model_name": "LayoutModel",
      "_view_count": null,
      "_view_module": "@jupyter-widgets/base",
      "_view_module_version": "1.2.0",
      "_view_name": "LayoutView",
      "align_content": null,
      "align_items": null,
      "align_self": null,
      "border": null,
      "bottom": null,
      "display": null,
      "flex": null,
      "flex_flow": null,
      "grid_area": null,
      "grid_auto_columns": null,
      "grid_auto_flow": null,
      "grid_auto_rows": null,
      "grid_column": null,
      "grid_gap": null,
      "grid_row": null,
      "grid_template_areas": null,
      "grid_template_columns": null,
      "grid_template_rows": null,
      "height": null,
      "justify_content": null,
      "justify_items": null,
      "left": null,
      "margin": null,
      "max_height": null,
      "max_width": null,
      "min_height": null,
      "min_width": null,
      "object_fit": null,
      "object_position": null,
      "order": null,
      "overflow": null,
      "overflow_x": null,
      "overflow_y": null,
      "padding": null,
      "right": null,
      "top": null,
      "visibility": null,
      "width": null
     }
    },
    "94d63dc4d36848e4b0c1a0567430b5cb": {
     "model_module": "@jupyter-widgets/base",
     "model_module_version": "1.2.0",
     "model_name": "LayoutModel",
     "state": {
      "_model_module": "@jupyter-widgets/base",
      "_model_module_version": "1.2.0",
      "_model_name": "LayoutModel",
      "_view_count": null,
      "_view_module": "@jupyter-widgets/base",
      "_view_module_version": "1.2.0",
      "_view_name": "LayoutView",
      "align_content": null,
      "align_items": null,
      "align_self": null,
      "border": null,
      "bottom": null,
      "display": null,
      "flex": null,
      "flex_flow": null,
      "grid_area": null,
      "grid_auto_columns": null,
      "grid_auto_flow": null,
      "grid_auto_rows": null,
      "grid_column": null,
      "grid_gap": null,
      "grid_row": null,
      "grid_template_areas": null,
      "grid_template_columns": null,
      "grid_template_rows": null,
      "height": null,
      "justify_content": null,
      "justify_items": null,
      "left": null,
      "margin": null,
      "max_height": null,
      "max_width": null,
      "min_height": null,
      "min_width": null,
      "object_fit": null,
      "object_position": null,
      "order": null,
      "overflow": null,
      "overflow_x": null,
      "overflow_y": null,
      "padding": null,
      "right": null,
      "top": null,
      "visibility": null,
      "width": null
     }
    },
    "94f2f65f11514704b09156537d3b77a3": {
     "model_module": "@jupyter-widgets/controls",
     "model_module_version": "1.5.0",
     "model_name": "ProgressStyleModel",
     "state": {
      "_model_module": "@jupyter-widgets/controls",
      "_model_module_version": "1.5.0",
      "_model_name": "ProgressStyleModel",
      "_view_count": null,
      "_view_module": "@jupyter-widgets/base",
      "_view_module_version": "1.2.0",
      "_view_name": "StyleView",
      "bar_color": null,
      "description_width": ""
     }
    },
    "978a66b9988e449a9b2ab4fd88e9d56d": {
     "model_module": "@jupyter-widgets/base",
     "model_module_version": "1.2.0",
     "model_name": "LayoutModel",
     "state": {
      "_model_module": "@jupyter-widgets/base",
      "_model_module_version": "1.2.0",
      "_model_name": "LayoutModel",
      "_view_count": null,
      "_view_module": "@jupyter-widgets/base",
      "_view_module_version": "1.2.0",
      "_view_name": "LayoutView",
      "align_content": null,
      "align_items": null,
      "align_self": null,
      "border": null,
      "bottom": null,
      "display": null,
      "flex": null,
      "flex_flow": null,
      "grid_area": null,
      "grid_auto_columns": null,
      "grid_auto_flow": null,
      "grid_auto_rows": null,
      "grid_column": null,
      "grid_gap": null,
      "grid_row": null,
      "grid_template_areas": null,
      "grid_template_columns": null,
      "grid_template_rows": null,
      "height": null,
      "justify_content": null,
      "justify_items": null,
      "left": null,
      "margin": null,
      "max_height": null,
      "max_width": null,
      "min_height": null,
      "min_width": null,
      "object_fit": null,
      "object_position": null,
      "order": null,
      "overflow": null,
      "overflow_x": null,
      "overflow_y": null,
      "padding": null,
      "right": null,
      "top": null,
      "visibility": null,
      "width": null
     }
    },
    "99964ee1e9bd4e8abde466bde6e6c87a": {
     "model_module": "@jupyter-widgets/controls",
     "model_module_version": "1.5.0",
     "model_name": "HBoxModel",
     "state": {
      "_dom_classes": [],
      "_model_module": "@jupyter-widgets/controls",
      "_model_module_version": "1.5.0",
      "_model_name": "HBoxModel",
      "_view_count": null,
      "_view_module": "@jupyter-widgets/controls",
      "_view_module_version": "1.5.0",
      "_view_name": "HBoxView",
      "box_style": "",
      "children": [
       "IPY_MODEL_a7be93a06219440c9f8fafc580a064b1",
       "IPY_MODEL_bdaf1896009948cfbe9bcb3689587310",
       "IPY_MODEL_e36c81e45cee48458f7a055edbddbf5e"
      ],
      "layout": "IPY_MODEL_55455f6a1f854900a8447cb242fd5d1a"
     }
    },
    "9f253f40f4f34135a9017d0a32d5fc04": {
     "model_module": "@jupyter-widgets/base",
     "model_module_version": "1.2.0",
     "model_name": "LayoutModel",
     "state": {
      "_model_module": "@jupyter-widgets/base",
      "_model_module_version": "1.2.0",
      "_model_name": "LayoutModel",
      "_view_count": null,
      "_view_module": "@jupyter-widgets/base",
      "_view_module_version": "1.2.0",
      "_view_name": "LayoutView",
      "align_content": null,
      "align_items": null,
      "align_self": null,
      "border": null,
      "bottom": null,
      "display": null,
      "flex": null,
      "flex_flow": null,
      "grid_area": null,
      "grid_auto_columns": null,
      "grid_auto_flow": null,
      "grid_auto_rows": null,
      "grid_column": null,
      "grid_gap": null,
      "grid_row": null,
      "grid_template_areas": null,
      "grid_template_columns": null,
      "grid_template_rows": null,
      "height": null,
      "justify_content": null,
      "justify_items": null,
      "left": null,
      "margin": null,
      "max_height": null,
      "max_width": null,
      "min_height": null,
      "min_width": null,
      "object_fit": null,
      "object_position": null,
      "order": null,
      "overflow": null,
      "overflow_x": null,
      "overflow_y": null,
      "padding": null,
      "right": null,
      "top": null,
      "visibility": null,
      "width": null
     }
    },
    "9fcdeb5730094f21a51ccd31fb5abb75": {
     "model_module": "@jupyter-widgets/controls",
     "model_module_version": "1.5.0",
     "model_name": "DescriptionStyleModel",
     "state": {
      "_model_module": "@jupyter-widgets/controls",
      "_model_module_version": "1.5.0",
      "_model_name": "DescriptionStyleModel",
      "_view_count": null,
      "_view_module": "@jupyter-widgets/base",
      "_view_module_version": "1.2.0",
      "_view_name": "StyleView",
      "description_width": ""
     }
    },
    "a1dd7e959aa14e4b98517f8c3999c48f": {
     "model_module": "@jupyter-widgets/controls",
     "model_module_version": "1.5.0",
     "model_name": "DescriptionStyleModel",
     "state": {
      "_model_module": "@jupyter-widgets/controls",
      "_model_module_version": "1.5.0",
      "_model_name": "DescriptionStyleModel",
      "_view_count": null,
      "_view_module": "@jupyter-widgets/base",
      "_view_module_version": "1.2.0",
      "_view_name": "StyleView",
      "description_width": ""
     }
    },
    "a28c7228865a41d0b3a532788b3b89e4": {
     "model_module": "@jupyter-widgets/base",
     "model_module_version": "1.2.0",
     "model_name": "LayoutModel",
     "state": {
      "_model_module": "@jupyter-widgets/base",
      "_model_module_version": "1.2.0",
      "_model_name": "LayoutModel",
      "_view_count": null,
      "_view_module": "@jupyter-widgets/base",
      "_view_module_version": "1.2.0",
      "_view_name": "LayoutView",
      "align_content": null,
      "align_items": null,
      "align_self": null,
      "border": null,
      "bottom": null,
      "display": null,
      "flex": null,
      "flex_flow": null,
      "grid_area": null,
      "grid_auto_columns": null,
      "grid_auto_flow": null,
      "grid_auto_rows": null,
      "grid_column": null,
      "grid_gap": null,
      "grid_row": null,
      "grid_template_areas": null,
      "grid_template_columns": null,
      "grid_template_rows": null,
      "height": null,
      "justify_content": null,
      "justify_items": null,
      "left": null,
      "margin": null,
      "max_height": null,
      "max_width": null,
      "min_height": null,
      "min_width": null,
      "object_fit": null,
      "object_position": null,
      "order": null,
      "overflow": null,
      "overflow_x": null,
      "overflow_y": null,
      "padding": null,
      "right": null,
      "top": null,
      "visibility": null,
      "width": null
     }
    },
    "a30a6d490d38450ebbd039e65d5f66f2": {
     "model_module": "@jupyter-widgets/base",
     "model_module_version": "1.2.0",
     "model_name": "LayoutModel",
     "state": {
      "_model_module": "@jupyter-widgets/base",
      "_model_module_version": "1.2.0",
      "_model_name": "LayoutModel",
      "_view_count": null,
      "_view_module": "@jupyter-widgets/base",
      "_view_module_version": "1.2.0",
      "_view_name": "LayoutView",
      "align_content": null,
      "align_items": null,
      "align_self": null,
      "border": null,
      "bottom": null,
      "display": null,
      "flex": null,
      "flex_flow": null,
      "grid_area": null,
      "grid_auto_columns": null,
      "grid_auto_flow": null,
      "grid_auto_rows": null,
      "grid_column": null,
      "grid_gap": null,
      "grid_row": null,
      "grid_template_areas": null,
      "grid_template_columns": null,
      "grid_template_rows": null,
      "height": null,
      "justify_content": null,
      "justify_items": null,
      "left": null,
      "margin": null,
      "max_height": null,
      "max_width": null,
      "min_height": null,
      "min_width": null,
      "object_fit": null,
      "object_position": null,
      "order": null,
      "overflow": null,
      "overflow_x": null,
      "overflow_y": null,
      "padding": null,
      "right": null,
      "top": null,
      "visibility": null,
      "width": null
     }
    },
    "a3e0eaf3cbf743d6b8d466cfc6c99702": {
     "model_module": "@jupyter-widgets/controls",
     "model_module_version": "1.5.0",
     "model_name": "HTMLModel",
     "state": {
      "_dom_classes": [],
      "_model_module": "@jupyter-widgets/controls",
      "_model_module_version": "1.5.0",
      "_model_name": "HTMLModel",
      "_view_count": null,
      "_view_module": "@jupyter-widgets/controls",
      "_view_module_version": "1.5.0",
      "_view_name": "HTMLView",
      "description": "",
      "description_tooltip": null,
      "layout": "IPY_MODEL_f443455612e542aaaa20b7b3d02bbe9b",
      "placeholder": "​",
      "style": "IPY_MODEL_1675bf757b6e4f9a802d6709c5138514",
      "value": "Running Evaluation: 100%"
     }
    },
    "a40954eb77344b72ba2c8827d6a74812": {
     "model_module": "@jupyter-widgets/base",
     "model_module_version": "1.2.0",
     "model_name": "LayoutModel",
     "state": {
      "_model_module": "@jupyter-widgets/base",
      "_model_module_version": "1.2.0",
      "_model_name": "LayoutModel",
      "_view_count": null,
      "_view_module": "@jupyter-widgets/base",
      "_view_module_version": "1.2.0",
      "_view_name": "LayoutView",
      "align_content": null,
      "align_items": null,
      "align_self": null,
      "border": null,
      "bottom": null,
      "display": null,
      "flex": null,
      "flex_flow": null,
      "grid_area": null,
      "grid_auto_columns": null,
      "grid_auto_flow": null,
      "grid_auto_rows": null,
      "grid_column": null,
      "grid_gap": null,
      "grid_row": null,
      "grid_template_areas": null,
      "grid_template_columns": null,
      "grid_template_rows": null,
      "height": null,
      "justify_content": null,
      "justify_items": null,
      "left": null,
      "margin": null,
      "max_height": null,
      "max_width": null,
      "min_height": null,
      "min_width": null,
      "object_fit": null,
      "object_position": null,
      "order": null,
      "overflow": null,
      "overflow_x": null,
      "overflow_y": null,
      "padding": null,
      "right": null,
      "top": null,
      "visibility": null,
      "width": null
     }
    },
    "a4ac952a89c34007a31463d69bad59c6": {
     "model_module": "@jupyter-widgets/controls",
     "model_module_version": "1.5.0",
     "model_name": "FloatProgressModel",
     "state": {
      "_dom_classes": [],
      "_model_module": "@jupyter-widgets/controls",
      "_model_module_version": "1.5.0",
      "_model_name": "FloatProgressModel",
      "_view_count": null,
      "_view_module": "@jupyter-widgets/controls",
      "_view_module_version": "1.5.0",
      "_view_name": "ProgressView",
      "bar_style": "success",
      "description": "",
      "description_tooltip": null,
      "layout": "IPY_MODEL_eb8c2427926f46ceb230b9bf011f00b3",
      "max": 1,
      "min": 0,
      "orientation": "horizontal",
      "style": "IPY_MODEL_8b8cf9e563c74a68ad68897ccedff0fa",
      "value": 1
     }
    },
    "a58c9abceb744f118f634b31a76a7bd8": {
     "model_module": "@jupyter-widgets/controls",
     "model_module_version": "1.5.0",
     "model_name": "HBoxModel",
     "state": {
      "_dom_classes": [],
      "_model_module": "@jupyter-widgets/controls",
      "_model_module_version": "1.5.0",
      "_model_name": "HBoxModel",
      "_view_count": null,
      "_view_module": "@jupyter-widgets/controls",
      "_view_module_version": "1.5.0",
      "_view_name": "HBoxView",
      "box_style": "",
      "children": [
       "IPY_MODEL_0c149bb97d49465393a54f3561f7281f",
       "IPY_MODEL_5c31615990a243108be5dd952260f350",
       "IPY_MODEL_75376836276e426f8ec855af266421b6"
      ],
      "layout": "IPY_MODEL_92a286729b254f5ca48fb5d9e28dbf17"
     }
    },
    "a7be93a06219440c9f8fafc580a064b1": {
     "model_module": "@jupyter-widgets/controls",
     "model_module_version": "1.5.0",
     "model_name": "HTMLModel",
     "state": {
      "_dom_classes": [],
      "_model_module": "@jupyter-widgets/controls",
      "_model_module_version": "1.5.0",
      "_model_name": "HTMLModel",
      "_view_count": null,
      "_view_module": "@jupyter-widgets/controls",
      "_view_module_version": "1.5.0",
      "_view_name": "HTMLView",
      "description": "",
      "description_tooltip": null,
      "layout": "IPY_MODEL_d4ef4a14afc54842abcede90c27da86a",
      "placeholder": "​",
      "style": "IPY_MODEL_89771abf1ef246d7bc58a23373188167",
      "value": "Running Evaluation: 100%"
     }
    },
    "aaafc07c3932439989e558afee87eb8b": {
     "model_module": "@jupyter-widgets/controls",
     "model_module_version": "1.5.0",
     "model_name": "ProgressStyleModel",
     "state": {
      "_model_module": "@jupyter-widgets/controls",
      "_model_module_version": "1.5.0",
      "_model_name": "ProgressStyleModel",
      "_view_count": null,
      "_view_module": "@jupyter-widgets/base",
      "_view_module_version": "1.2.0",
      "_view_name": "StyleView",
      "bar_color": null,
      "description_width": ""
     }
    },
    "ac6a38f564d24a14b1aefcfe326c5676": {
     "model_module": "@jupyter-widgets/controls",
     "model_module_version": "1.5.0",
     "model_name": "HTMLModel",
     "state": {
      "_dom_classes": [],
      "_model_module": "@jupyter-widgets/controls",
      "_model_module_version": "1.5.0",
      "_model_name": "HTMLModel",
      "_view_count": null,
      "_view_module": "@jupyter-widgets/controls",
      "_view_module_version": "1.5.0",
      "_view_name": "HTMLView",
      "description": "",
      "description_tooltip": null,
      "layout": "IPY_MODEL_284cdbb512434508924f74e566c635c8",
      "placeholder": "​",
      "style": "IPY_MODEL_e9d127aab0984a2f982e45b7f4e87725",
      "value": " 1/1 [00:00&lt;00:00,  8.90it/s]"
     }
    },
    "ae3da4fc79324b089f59eedf0b67525c": {
     "model_module": "@jupyter-widgets/controls",
     "model_module_version": "1.5.0",
     "model_name": "HTMLModel",
     "state": {
      "_dom_classes": [],
      "_model_module": "@jupyter-widgets/controls",
      "_model_module_version": "1.5.0",
      "_model_name": "HTMLModel",
      "_view_count": null,
      "_view_module": "@jupyter-widgets/controls",
      "_view_module_version": "1.5.0",
      "_view_name": "HTMLView",
      "description": "",
      "description_tooltip": null,
      "layout": "IPY_MODEL_77516bde7edc431cbfe170d3cd5e3cf8",
      "placeholder": "​",
      "style": "IPY_MODEL_e22b28ba6ec1430c8fe2f7a4892a36a4",
      "value": " 5/5 [00:49&lt;00:00, 11.67s/it]"
     }
    },
    "b010a66c56f64cac8bb0484e1a70e810": {
     "model_module": "@jupyter-widgets/controls",
     "model_module_version": "1.5.0",
     "model_name": "ProgressStyleModel",
     "state": {
      "_model_module": "@jupyter-widgets/controls",
      "_model_module_version": "1.5.0",
      "_model_name": "ProgressStyleModel",
      "_view_count": null,
      "_view_module": "@jupyter-widgets/base",
      "_view_module_version": "1.2.0",
      "_view_name": "StyleView",
      "bar_color": null,
      "description_width": ""
     }
    },
    "b468f76c78b849b28ecbcda7007df761": {
     "model_module": "@jupyter-widgets/base",
     "model_module_version": "1.2.0",
     "model_name": "LayoutModel",
     "state": {
      "_model_module": "@jupyter-widgets/base",
      "_model_module_version": "1.2.0",
      "_model_name": "LayoutModel",
      "_view_count": null,
      "_view_module": "@jupyter-widgets/base",
      "_view_module_version": "1.2.0",
      "_view_name": "LayoutView",
      "align_content": null,
      "align_items": null,
      "align_self": null,
      "border": null,
      "bottom": null,
      "display": null,
      "flex": null,
      "flex_flow": null,
      "grid_area": null,
      "grid_auto_columns": null,
      "grid_auto_flow": null,
      "grid_auto_rows": null,
      "grid_column": null,
      "grid_gap": null,
      "grid_row": null,
      "grid_template_areas": null,
      "grid_template_columns": null,
      "grid_template_rows": null,
      "height": null,
      "justify_content": null,
      "justify_items": null,
      "left": null,
      "margin": null,
      "max_height": null,
      "max_width": null,
      "min_height": null,
      "min_width": null,
      "object_fit": null,
      "object_position": null,
      "order": null,
      "overflow": null,
      "overflow_x": null,
      "overflow_y": null,
      "padding": null,
      "right": null,
      "top": null,
      "visibility": null,
      "width": null
     }
    },
    "b4fe63e36536490ea8308f76c8f34b40": {
     "model_module": "@jupyter-widgets/base",
     "model_module_version": "1.2.0",
     "model_name": "LayoutModel",
     "state": {
      "_model_module": "@jupyter-widgets/base",
      "_model_module_version": "1.2.0",
      "_model_name": "LayoutModel",
      "_view_count": null,
      "_view_module": "@jupyter-widgets/base",
      "_view_module_version": "1.2.0",
      "_view_name": "LayoutView",
      "align_content": null,
      "align_items": null,
      "align_self": null,
      "border": null,
      "bottom": null,
      "display": null,
      "flex": null,
      "flex_flow": null,
      "grid_area": null,
      "grid_auto_columns": null,
      "grid_auto_flow": null,
      "grid_auto_rows": null,
      "grid_column": null,
      "grid_gap": null,
      "grid_row": null,
      "grid_template_areas": null,
      "grid_template_columns": null,
      "grid_template_rows": null,
      "height": null,
      "justify_content": null,
      "justify_items": null,
      "left": null,
      "margin": null,
      "max_height": null,
      "max_width": null,
      "min_height": null,
      "min_width": null,
      "object_fit": null,
      "object_position": null,
      "order": null,
      "overflow": null,
      "overflow_x": null,
      "overflow_y": null,
      "padding": null,
      "right": null,
      "top": null,
      "visibility": null,
      "width": null
     }
    },
    "b8ce0f65248a4110bfef367d5848a25f": {
     "model_module": "@jupyter-widgets/controls",
     "model_module_version": "1.5.0",
     "model_name": "ProgressStyleModel",
     "state": {
      "_model_module": "@jupyter-widgets/controls",
      "_model_module_version": "1.5.0",
      "_model_name": "ProgressStyleModel",
      "_view_count": null,
      "_view_module": "@jupyter-widgets/base",
      "_view_module_version": "1.2.0",
      "_view_name": "StyleView",
      "bar_color": null,
      "description_width": ""
     }
    },
    "b8d529a5b95d4c8f93c0ece29d89db39": {
     "model_module": "@jupyter-widgets/base",
     "model_module_version": "1.2.0",
     "model_name": "LayoutModel",
     "state": {
      "_model_module": "@jupyter-widgets/base",
      "_model_module_version": "1.2.0",
      "_model_name": "LayoutModel",
      "_view_count": null,
      "_view_module": "@jupyter-widgets/base",
      "_view_module_version": "1.2.0",
      "_view_name": "LayoutView",
      "align_content": null,
      "align_items": null,
      "align_self": null,
      "border": null,
      "bottom": null,
      "display": null,
      "flex": null,
      "flex_flow": null,
      "grid_area": null,
      "grid_auto_columns": null,
      "grid_auto_flow": null,
      "grid_auto_rows": null,
      "grid_column": null,
      "grid_gap": null,
      "grid_row": null,
      "grid_template_areas": null,
      "grid_template_columns": null,
      "grid_template_rows": null,
      "height": null,
      "justify_content": null,
      "justify_items": null,
      "left": null,
      "margin": null,
      "max_height": null,
      "max_width": null,
      "min_height": null,
      "min_width": null,
      "object_fit": null,
      "object_position": null,
      "order": null,
      "overflow": null,
      "overflow_x": null,
      "overflow_y": null,
      "padding": null,
      "right": null,
      "top": null,
      "visibility": null,
      "width": null
     }
    },
    "bbf5fc30e0f54253ae2751534f55b7a0": {
     "model_module": "@jupyter-widgets/controls",
     "model_module_version": "1.5.0",
     "model_name": "HTMLModel",
     "state": {
      "_dom_classes": [],
      "_model_module": "@jupyter-widgets/controls",
      "_model_module_version": "1.5.0",
      "_model_name": "HTMLModel",
      "_view_count": null,
      "_view_module": "@jupyter-widgets/controls",
      "_view_module_version": "1.5.0",
      "_view_name": "HTMLView",
      "description": "",
      "description_tooltip": null,
      "layout": "IPY_MODEL_921a80e2ed824f96aeafb5de6547f1b0",
      "placeholder": "​",
      "style": "IPY_MODEL_716d5079d1934136b19c70638c655269",
      "value": "Epochs 2/5. Running Loss:    4.6400: 100%"
     }
    },
    "bdaf1896009948cfbe9bcb3689587310": {
     "model_module": "@jupyter-widgets/controls",
     "model_module_version": "1.5.0",
     "model_name": "FloatProgressModel",
     "state": {
      "_dom_classes": [],
      "_model_module": "@jupyter-widgets/controls",
      "_model_module_version": "1.5.0",
      "_model_name": "FloatProgressModel",
      "_view_count": null,
      "_view_module": "@jupyter-widgets/controls",
      "_view_module_version": "1.5.0",
      "_view_name": "ProgressView",
      "bar_style": "success",
      "description": "",
      "description_tooltip": null,
      "layout": "IPY_MODEL_6109c4ce8b1944f18fb30f7261bebd61",
      "max": 1,
      "min": 0,
      "orientation": "horizontal",
      "style": "IPY_MODEL_edbf4db6b27144d5803c6aa501cc5ae5",
      "value": 1
     }
    },
    "bdb5c03b530943d68c9c3ab96b8a855d": {
     "model_module": "@jupyter-widgets/controls",
     "model_module_version": "1.5.0",
     "model_name": "HTMLModel",
     "state": {
      "_dom_classes": [],
      "_model_module": "@jupyter-widgets/controls",
      "_model_module_version": "1.5.0",
      "_model_name": "HTMLModel",
      "_view_count": null,
      "_view_module": "@jupyter-widgets/controls",
      "_view_module_version": "1.5.0",
      "_view_name": "HTMLView",
      "description": "",
      "description_tooltip": null,
      "layout": "IPY_MODEL_94d63dc4d36848e4b0c1a0567430b5cb",
      "placeholder": "​",
      "style": "IPY_MODEL_2c26f8ec17df4fd182fe0b94f5b3709a",
      "value": " 1/1 [00:00&lt;00:00,  7.52it/s]"
     }
    },
    "c112529bba2a4d05a853f997bd8bb4f2": {
     "model_module": "@jupyter-widgets/controls",
     "model_module_version": "1.5.0",
     "model_name": "HTMLModel",
     "state": {
      "_dom_classes": [],
      "_model_module": "@jupyter-widgets/controls",
      "_model_module_version": "1.5.0",
      "_model_name": "HTMLModel",
      "_view_count": null,
      "_view_module": "@jupyter-widgets/controls",
      "_view_module_version": "1.5.0",
      "_view_name": "HTMLView",
      "description": "",
      "description_tooltip": null,
      "layout": "IPY_MODEL_68d65940eea148bcadab476e79ecc720",
      "placeholder": "​",
      "style": "IPY_MODEL_89eb2eee1bfc43de800ee49bf4cb401f",
      "value": " 1/1 [00:00&lt;00:00, 21.10it/s]"
     }
    },
    "c2afb43c448d4cd5a8fbced2be0e15a2": {
     "model_module": "@jupyter-widgets/base",
     "model_module_version": "1.2.0",
     "model_name": "LayoutModel",
     "state": {
      "_model_module": "@jupyter-widgets/base",
      "_model_module_version": "1.2.0",
      "_model_name": "LayoutModel",
      "_view_count": null,
      "_view_module": "@jupyter-widgets/base",
      "_view_module_version": "1.2.0",
      "_view_name": "LayoutView",
      "align_content": null,
      "align_items": null,
      "align_self": null,
      "border": null,
      "bottom": null,
      "display": null,
      "flex": null,
      "flex_flow": null,
      "grid_area": null,
      "grid_auto_columns": null,
      "grid_auto_flow": null,
      "grid_auto_rows": null,
      "grid_column": null,
      "grid_gap": null,
      "grid_row": null,
      "grid_template_areas": null,
      "grid_template_columns": null,
      "grid_template_rows": null,
      "height": null,
      "justify_content": null,
      "justify_items": null,
      "left": null,
      "margin": null,
      "max_height": null,
      "max_width": null,
      "min_height": null,
      "min_width": null,
      "object_fit": null,
      "object_position": null,
      "order": null,
      "overflow": null,
      "overflow_x": null,
      "overflow_y": null,
      "padding": null,
      "right": null,
      "top": null,
      "visibility": null,
      "width": null
     }
    },
    "c3cc39c042b543b4935db417e186255e": {
     "model_module": "@jupyter-widgets/controls",
     "model_module_version": "1.5.0",
     "model_name": "DescriptionStyleModel",
     "state": {
      "_model_module": "@jupyter-widgets/controls",
      "_model_module_version": "1.5.0",
      "_model_name": "DescriptionStyleModel",
      "_view_count": null,
      "_view_module": "@jupyter-widgets/base",
      "_view_module_version": "1.2.0",
      "_view_name": "StyleView",
      "description_width": ""
     }
    },
    "c5ea4fa154d34774ab35c3f7cc65afa1": {
     "model_module": "@jupyter-widgets/base",
     "model_module_version": "1.2.0",
     "model_name": "LayoutModel",
     "state": {
      "_model_module": "@jupyter-widgets/base",
      "_model_module_version": "1.2.0",
      "_model_name": "LayoutModel",
      "_view_count": null,
      "_view_module": "@jupyter-widgets/base",
      "_view_module_version": "1.2.0",
      "_view_name": "LayoutView",
      "align_content": null,
      "align_items": null,
      "align_self": null,
      "border": null,
      "bottom": null,
      "display": null,
      "flex": null,
      "flex_flow": null,
      "grid_area": null,
      "grid_auto_columns": null,
      "grid_auto_flow": null,
      "grid_auto_rows": null,
      "grid_column": null,
      "grid_gap": null,
      "grid_row": null,
      "grid_template_areas": null,
      "grid_template_columns": null,
      "grid_template_rows": null,
      "height": null,
      "justify_content": null,
      "justify_items": null,
      "left": null,
      "margin": null,
      "max_height": null,
      "max_width": null,
      "min_height": null,
      "min_width": null,
      "object_fit": null,
      "object_position": null,
      "order": null,
      "overflow": null,
      "overflow_x": null,
      "overflow_y": null,
      "padding": null,
      "right": null,
      "top": null,
      "visibility": null,
      "width": null
     }
    },
    "c6bb5998e42c400097ec8f78919cfccf": {
     "model_module": "@jupyter-widgets/controls",
     "model_module_version": "1.5.0",
     "model_name": "DescriptionStyleModel",
     "state": {
      "_model_module": "@jupyter-widgets/controls",
      "_model_module_version": "1.5.0",
      "_model_name": "DescriptionStyleModel",
      "_view_count": null,
      "_view_module": "@jupyter-widgets/base",
      "_view_module_version": "1.2.0",
      "_view_name": "StyleView",
      "description_width": ""
     }
    },
    "c7df953a9faa47c1a90b71d35c81332e": {
     "model_module": "@jupyter-widgets/base",
     "model_module_version": "1.2.0",
     "model_name": "LayoutModel",
     "state": {
      "_model_module": "@jupyter-widgets/base",
      "_model_module_version": "1.2.0",
      "_model_name": "LayoutModel",
      "_view_count": null,
      "_view_module": "@jupyter-widgets/base",
      "_view_module_version": "1.2.0",
      "_view_name": "LayoutView",
      "align_content": null,
      "align_items": null,
      "align_self": null,
      "border": null,
      "bottom": null,
      "display": null,
      "flex": null,
      "flex_flow": null,
      "grid_area": null,
      "grid_auto_columns": null,
      "grid_auto_flow": null,
      "grid_auto_rows": null,
      "grid_column": null,
      "grid_gap": null,
      "grid_row": null,
      "grid_template_areas": null,
      "grid_template_columns": null,
      "grid_template_rows": null,
      "height": null,
      "justify_content": null,
      "justify_items": null,
      "left": null,
      "margin": null,
      "max_height": null,
      "max_width": null,
      "min_height": null,
      "min_width": null,
      "object_fit": null,
      "object_position": null,
      "order": null,
      "overflow": null,
      "overflow_x": null,
      "overflow_y": null,
      "padding": null,
      "right": null,
      "top": null,
      "visibility": null,
      "width": null
     }
    },
    "c9a630f5a676417c8330ceb49e8b461c": {
     "model_module": "@jupyter-widgets/controls",
     "model_module_version": "1.5.0",
     "model_name": "DescriptionStyleModel",
     "state": {
      "_model_module": "@jupyter-widgets/controls",
      "_model_module_version": "1.5.0",
      "_model_name": "DescriptionStyleModel",
      "_view_count": null,
      "_view_module": "@jupyter-widgets/base",
      "_view_module_version": "1.2.0",
      "_view_name": "StyleView",
      "description_width": ""
     }
    },
    "cb6d028b77f24b6faddd14f676bb8e5c": {
     "model_module": "@jupyter-widgets/controls",
     "model_module_version": "1.5.0",
     "model_name": "HTMLModel",
     "state": {
      "_dom_classes": [],
      "_model_module": "@jupyter-widgets/controls",
      "_model_module_version": "1.5.0",
      "_model_name": "HTMLModel",
      "_view_count": null,
      "_view_module": "@jupyter-widgets/controls",
      "_view_module_version": "1.5.0",
      "_view_name": "HTMLView",
      "description": "",
      "description_tooltip": null,
      "layout": "IPY_MODEL_8ea8229b37aa47b8a76cb1f45b52dced",
      "placeholder": "​",
      "style": "IPY_MODEL_83314d5d823843f6b3cf38b85c8e8197",
      "value": " 1/1 [00:00&lt;00:00,  7.97it/s]"
     }
    },
    "cd24d3bfb7f24c3a883153c15bc24e94": {
     "model_module": "@jupyter-widgets/controls",
     "model_module_version": "1.5.0",
     "model_name": "DescriptionStyleModel",
     "state": {
      "_model_module": "@jupyter-widgets/controls",
      "_model_module_version": "1.5.0",
      "_model_name": "DescriptionStyleModel",
      "_view_count": null,
      "_view_module": "@jupyter-widgets/base",
      "_view_module_version": "1.2.0",
      "_view_name": "StyleView",
      "description_width": ""
     }
    },
    "cd2ce76442724c0498d6a4e5c861091e": {
     "model_module": "@jupyter-widgets/controls",
     "model_module_version": "1.5.0",
     "model_name": "ProgressStyleModel",
     "state": {
      "_model_module": "@jupyter-widgets/controls",
      "_model_module_version": "1.5.0",
      "_model_name": "ProgressStyleModel",
      "_view_count": null,
      "_view_module": "@jupyter-widgets/base",
      "_view_module_version": "1.2.0",
      "_view_name": "StyleView",
      "bar_color": null,
      "description_width": ""
     }
    },
    "cf6333ea666e4230a1193df60fe3f435": {
     "model_module": "@jupyter-widgets/controls",
     "model_module_version": "1.5.0",
     "model_name": "HTMLModel",
     "state": {
      "_dom_classes": [],
      "_model_module": "@jupyter-widgets/controls",
      "_model_module_version": "1.5.0",
      "_model_name": "HTMLModel",
      "_view_count": null,
      "_view_module": "@jupyter-widgets/controls",
      "_view_module_version": "1.5.0",
      "_view_name": "HTMLView",
      "description": "",
      "description_tooltip": null,
      "layout": "IPY_MODEL_f7ea7ee74c584695863f1583c2b5449f",
      "placeholder": "​",
      "style": "IPY_MODEL_9fcdeb5730094f21a51ccd31fb5abb75",
      "value": "Epochs 4/5. Running Loss:    3.9420: 100%"
     }
    },
    "d45223d29f3946e2ad36ec1e4dfb5a5a": {
     "model_module": "@jupyter-widgets/controls",
     "model_module_version": "1.5.0",
     "model_name": "FloatProgressModel",
     "state": {
      "_dom_classes": [],
      "_model_module": "@jupyter-widgets/controls",
      "_model_module_version": "1.5.0",
      "_model_name": "FloatProgressModel",
      "_view_count": null,
      "_view_module": "@jupyter-widgets/controls",
      "_view_module_version": "1.5.0",
      "_view_name": "ProgressView",
      "bar_style": "success",
      "description": "",
      "description_tooltip": null,
      "layout": "IPY_MODEL_e2d392f6fecc4f098b50087f3202bfe7",
      "max": 1,
      "min": 0,
      "orientation": "horizontal",
      "style": "IPY_MODEL_2d1e1728b1f24cf0b81bc2a3876842ab",
      "value": 1
     }
    },
    "d4ef4a14afc54842abcede90c27da86a": {
     "model_module": "@jupyter-widgets/base",
     "model_module_version": "1.2.0",
     "model_name": "LayoutModel",
     "state": {
      "_model_module": "@jupyter-widgets/base",
      "_model_module_version": "1.2.0",
      "_model_name": "LayoutModel",
      "_view_count": null,
      "_view_module": "@jupyter-widgets/base",
      "_view_module_version": "1.2.0",
      "_view_name": "LayoutView",
      "align_content": null,
      "align_items": null,
      "align_self": null,
      "border": null,
      "bottom": null,
      "display": null,
      "flex": null,
      "flex_flow": null,
      "grid_area": null,
      "grid_auto_columns": null,
      "grid_auto_flow": null,
      "grid_auto_rows": null,
      "grid_column": null,
      "grid_gap": null,
      "grid_row": null,
      "grid_template_areas": null,
      "grid_template_columns": null,
      "grid_template_rows": null,
      "height": null,
      "justify_content": null,
      "justify_items": null,
      "left": null,
      "margin": null,
      "max_height": null,
      "max_width": null,
      "min_height": null,
      "min_width": null,
      "object_fit": null,
      "object_position": null,
      "order": null,
      "overflow": null,
      "overflow_x": null,
      "overflow_y": null,
      "padding": null,
      "right": null,
      "top": null,
      "visibility": null,
      "width": null
     }
    },
    "d722a13d11e74744af78f140ea8d86da": {
     "model_module": "@jupyter-widgets/controls",
     "model_module_version": "1.5.0",
     "model_name": "DescriptionStyleModel",
     "state": {
      "_model_module": "@jupyter-widgets/controls",
      "_model_module_version": "1.5.0",
      "_model_name": "DescriptionStyleModel",
      "_view_count": null,
      "_view_module": "@jupyter-widgets/base",
      "_view_module_version": "1.2.0",
      "_view_name": "StyleView",
      "description_width": ""
     }
    },
    "d7782e0b8c2f4635ad5ec638871c5140": {
     "model_module": "@jupyter-widgets/base",
     "model_module_version": "1.2.0",
     "model_name": "LayoutModel",
     "state": {
      "_model_module": "@jupyter-widgets/base",
      "_model_module_version": "1.2.0",
      "_model_name": "LayoutModel",
      "_view_count": null,
      "_view_module": "@jupyter-widgets/base",
      "_view_module_version": "1.2.0",
      "_view_name": "LayoutView",
      "align_content": null,
      "align_items": null,
      "align_self": null,
      "border": null,
      "bottom": null,
      "display": null,
      "flex": null,
      "flex_flow": null,
      "grid_area": null,
      "grid_auto_columns": null,
      "grid_auto_flow": null,
      "grid_auto_rows": null,
      "grid_column": null,
      "grid_gap": null,
      "grid_row": null,
      "grid_template_areas": null,
      "grid_template_columns": null,
      "grid_template_rows": null,
      "height": null,
      "justify_content": null,
      "justify_items": null,
      "left": null,
      "margin": null,
      "max_height": null,
      "max_width": null,
      "min_height": null,
      "min_width": null,
      "object_fit": null,
      "object_position": null,
      "order": null,
      "overflow": null,
      "overflow_x": null,
      "overflow_y": null,
      "padding": null,
      "right": null,
      "top": null,
      "visibility": null,
      "width": null
     }
    },
    "d89d469e300b4b6c9de570f9a241629f": {
     "model_module": "@jupyter-widgets/base",
     "model_module_version": "1.2.0",
     "model_name": "LayoutModel",
     "state": {
      "_model_module": "@jupyter-widgets/base",
      "_model_module_version": "1.2.0",
      "_model_name": "LayoutModel",
      "_view_count": null,
      "_view_module": "@jupyter-widgets/base",
      "_view_module_version": "1.2.0",
      "_view_name": "LayoutView",
      "align_content": null,
      "align_items": null,
      "align_self": null,
      "border": null,
      "bottom": null,
      "display": null,
      "flex": null,
      "flex_flow": null,
      "grid_area": null,
      "grid_auto_columns": null,
      "grid_auto_flow": null,
      "grid_auto_rows": null,
      "grid_column": null,
      "grid_gap": null,
      "grid_row": null,
      "grid_template_areas": null,
      "grid_template_columns": null,
      "grid_template_rows": null,
      "height": null,
      "justify_content": null,
      "justify_items": null,
      "left": null,
      "margin": null,
      "max_height": null,
      "max_width": null,
      "min_height": null,
      "min_width": null,
      "object_fit": null,
      "object_position": null,
      "order": null,
      "overflow": null,
      "overflow_x": null,
      "overflow_y": null,
      "padding": null,
      "right": null,
      "top": null,
      "visibility": null,
      "width": null
     }
    },
    "db0bfe2709a540408ab2d2e527ea12f2": {
     "model_module": "@jupyter-widgets/base",
     "model_module_version": "1.2.0",
     "model_name": "LayoutModel",
     "state": {
      "_model_module": "@jupyter-widgets/base",
      "_model_module_version": "1.2.0",
      "_model_name": "LayoutModel",
      "_view_count": null,
      "_view_module": "@jupyter-widgets/base",
      "_view_module_version": "1.2.0",
      "_view_name": "LayoutView",
      "align_content": null,
      "align_items": null,
      "align_self": null,
      "border": null,
      "bottom": null,
      "display": null,
      "flex": null,
      "flex_flow": null,
      "grid_area": null,
      "grid_auto_columns": null,
      "grid_auto_flow": null,
      "grid_auto_rows": null,
      "grid_column": null,
      "grid_gap": null,
      "grid_row": null,
      "grid_template_areas": null,
      "grid_template_columns": null,
      "grid_template_rows": null,
      "height": null,
      "justify_content": null,
      "justify_items": null,
      "left": null,
      "margin": null,
      "max_height": null,
      "max_width": null,
      "min_height": null,
      "min_width": null,
      "object_fit": null,
      "object_position": null,
      "order": null,
      "overflow": null,
      "overflow_x": null,
      "overflow_y": null,
      "padding": null,
      "right": null,
      "top": null,
      "visibility": null,
      "width": null
     }
    },
    "dbb0aaaa8d014816a1f92374376907e6": {
     "model_module": "@jupyter-widgets/base",
     "model_module_version": "1.2.0",
     "model_name": "LayoutModel",
     "state": {
      "_model_module": "@jupyter-widgets/base",
      "_model_module_version": "1.2.0",
      "_model_name": "LayoutModel",
      "_view_count": null,
      "_view_module": "@jupyter-widgets/base",
      "_view_module_version": "1.2.0",
      "_view_name": "LayoutView",
      "align_content": null,
      "align_items": null,
      "align_self": null,
      "border": null,
      "bottom": null,
      "display": null,
      "flex": null,
      "flex_flow": null,
      "grid_area": null,
      "grid_auto_columns": null,
      "grid_auto_flow": null,
      "grid_auto_rows": null,
      "grid_column": null,
      "grid_gap": null,
      "grid_row": null,
      "grid_template_areas": null,
      "grid_template_columns": null,
      "grid_template_rows": null,
      "height": null,
      "justify_content": null,
      "justify_items": null,
      "left": null,
      "margin": null,
      "max_height": null,
      "max_width": null,
      "min_height": null,
      "min_width": null,
      "object_fit": null,
      "object_position": null,
      "order": null,
      "overflow": null,
      "overflow_x": null,
      "overflow_y": null,
      "padding": null,
      "right": null,
      "top": null,
      "visibility": null,
      "width": null
     }
    },
    "dd35ae72151a4858b2700d92ec25d4f8": {
     "model_module": "@jupyter-widgets/controls",
     "model_module_version": "1.5.0",
     "model_name": "HTMLModel",
     "state": {
      "_dom_classes": [],
      "_model_module": "@jupyter-widgets/controls",
      "_model_module_version": "1.5.0",
      "_model_name": "HTMLModel",
      "_view_count": null,
      "_view_module": "@jupyter-widgets/controls",
      "_view_module_version": "1.5.0",
      "_view_name": "HTMLView",
      "description": "",
      "description_tooltip": null,
      "layout": "IPY_MODEL_f3b7129b785a48b7a1a26261a983cb35",
      "placeholder": "​",
      "style": "IPY_MODEL_7f783f003527489a9c842665e7e0ab01",
      "value": "Running Evaluation: 100%"
     }
    },
    "e11f59a1f14147138d57a7fad0b77d48": {
     "model_module": "@jupyter-widgets/base",
     "model_module_version": "1.2.0",
     "model_name": "LayoutModel",
     "state": {
      "_model_module": "@jupyter-widgets/base",
      "_model_module_version": "1.2.0",
      "_model_name": "LayoutModel",
      "_view_count": null,
      "_view_module": "@jupyter-widgets/base",
      "_view_module_version": "1.2.0",
      "_view_name": "LayoutView",
      "align_content": null,
      "align_items": null,
      "align_self": null,
      "border": null,
      "bottom": null,
      "display": null,
      "flex": null,
      "flex_flow": null,
      "grid_area": null,
      "grid_auto_columns": null,
      "grid_auto_flow": null,
      "grid_auto_rows": null,
      "grid_column": null,
      "grid_gap": null,
      "grid_row": null,
      "grid_template_areas": null,
      "grid_template_columns": null,
      "grid_template_rows": null,
      "height": null,
      "justify_content": null,
      "justify_items": null,
      "left": null,
      "margin": null,
      "max_height": null,
      "max_width": null,
      "min_height": null,
      "min_width": null,
      "object_fit": null,
      "object_position": null,
      "order": null,
      "overflow": null,
      "overflow_x": null,
      "overflow_y": null,
      "padding": null,
      "right": null,
      "top": null,
      "visibility": null,
      "width": null
     }
    },
    "e22b28ba6ec1430c8fe2f7a4892a36a4": {
     "model_module": "@jupyter-widgets/controls",
     "model_module_version": "1.5.0",
     "model_name": "DescriptionStyleModel",
     "state": {
      "_model_module": "@jupyter-widgets/controls",
      "_model_module_version": "1.5.0",
      "_model_name": "DescriptionStyleModel",
      "_view_count": null,
      "_view_module": "@jupyter-widgets/base",
      "_view_module_version": "1.2.0",
      "_view_name": "StyleView",
      "description_width": ""
     }
    },
    "e2d392f6fecc4f098b50087f3202bfe7": {
     "model_module": "@jupyter-widgets/base",
     "model_module_version": "1.2.0",
     "model_name": "LayoutModel",
     "state": {
      "_model_module": "@jupyter-widgets/base",
      "_model_module_version": "1.2.0",
      "_model_name": "LayoutModel",
      "_view_count": null,
      "_view_module": "@jupyter-widgets/base",
      "_view_module_version": "1.2.0",
      "_view_name": "LayoutView",
      "align_content": null,
      "align_items": null,
      "align_self": null,
      "border": null,
      "bottom": null,
      "display": null,
      "flex": null,
      "flex_flow": null,
      "grid_area": null,
      "grid_auto_columns": null,
      "grid_auto_flow": null,
      "grid_auto_rows": null,
      "grid_column": null,
      "grid_gap": null,
      "grid_row": null,
      "grid_template_areas": null,
      "grid_template_columns": null,
      "grid_template_rows": null,
      "height": null,
      "justify_content": null,
      "justify_items": null,
      "left": null,
      "margin": null,
      "max_height": null,
      "max_width": null,
      "min_height": null,
      "min_width": null,
      "object_fit": null,
      "object_position": null,
      "order": null,
      "overflow": null,
      "overflow_x": null,
      "overflow_y": null,
      "padding": null,
      "right": null,
      "top": null,
      "visibility": null,
      "width": null
     }
    },
    "e36c81e45cee48458f7a055edbddbf5e": {
     "model_module": "@jupyter-widgets/controls",
     "model_module_version": "1.5.0",
     "model_name": "HTMLModel",
     "state": {
      "_dom_classes": [],
      "_model_module": "@jupyter-widgets/controls",
      "_model_module_version": "1.5.0",
      "_model_name": "HTMLModel",
      "_view_count": null,
      "_view_module": "@jupyter-widgets/controls",
      "_view_module_version": "1.5.0",
      "_view_name": "HTMLView",
      "description": "",
      "description_tooltip": null,
      "layout": "IPY_MODEL_8d38e67c4b814e89a2e4495ffbaaf310",
      "placeholder": "​",
      "style": "IPY_MODEL_8df5a86f876a4699a5917e5e0dfab0ed",
      "value": " 1/1 [00:00&lt;00:00, 22.19it/s]"
     }
    },
    "e3e6d44436874c5dbbff96f0abafaf5b": {
     "model_module": "@jupyter-widgets/controls",
     "model_module_version": "1.5.0",
     "model_name": "HBoxModel",
     "state": {
      "_dom_classes": [],
      "_model_module": "@jupyter-widgets/controls",
      "_model_module_version": "1.5.0",
      "_model_name": "HBoxModel",
      "_view_count": null,
      "_view_module": "@jupyter-widgets/controls",
      "_view_module_version": "1.5.0",
      "_view_name": "HBoxView",
      "box_style": "",
      "children": [
       "IPY_MODEL_1a4e76baee4f46aab1454c458d260dbc",
       "IPY_MODEL_0524e83805e14ce3af08099251a1301f",
       "IPY_MODEL_4a88fd07a39c4f878b06c25574925e46"
      ],
      "layout": "IPY_MODEL_b8d529a5b95d4c8f93c0ece29d89db39"
     }
    },
    "e48903a2e25e48888c0bac2737106195": {
     "model_module": "@jupyter-widgets/controls",
     "model_module_version": "1.5.0",
     "model_name": "FloatProgressModel",
     "state": {
      "_dom_classes": [],
      "_model_module": "@jupyter-widgets/controls",
      "_model_module_version": "1.5.0",
      "_model_name": "FloatProgressModel",
      "_view_count": null,
      "_view_module": "@jupyter-widgets/controls",
      "_view_module_version": "1.5.0",
      "_view_name": "ProgressView",
      "bar_style": "success",
      "description": "",
      "description_tooltip": null,
      "layout": "IPY_MODEL_d7782e0b8c2f4635ad5ec638871c5140",
      "max": 1,
      "min": 0,
      "orientation": "horizontal",
      "style": "IPY_MODEL_3e888ceaccbc43dbba1a64ad68b63480",
      "value": 1
     }
    },
    "e673a6cfae4447afb64ddcec7adb4910": {
     "model_module": "@jupyter-widgets/controls",
     "model_module_version": "1.5.0",
     "model_name": "LabelModel",
     "state": {
      "_dom_classes": [],
      "_model_module": "@jupyter-widgets/controls",
      "_model_module_version": "1.5.0",
      "_model_name": "LabelModel",
      "_view_count": null,
      "_view_module": "@jupyter-widgets/controls",
      "_view_module_version": "1.5.0",
      "_view_name": "LabelView",
      "description": "",
      "description_tooltip": null,
      "layout": "IPY_MODEL_f6d577afb7bf4d97baeb9c0795ad512b",
      "placeholder": "​",
      "style": "IPY_MODEL_f9069c067dbf4a5c89d23a2d0efa2fb6",
      "value": " 0.04MB of 0.04MB uploaded (0.00MB deduped)\r"
     }
    },
    "e9d127aab0984a2f982e45b7f4e87725": {
     "model_module": "@jupyter-widgets/controls",
     "model_module_version": "1.5.0",
     "model_name": "DescriptionStyleModel",
     "state": {
      "_model_module": "@jupyter-widgets/controls",
      "_model_module_version": "1.5.0",
      "_model_name": "DescriptionStyleModel",
      "_view_count": null,
      "_view_module": "@jupyter-widgets/base",
      "_view_module_version": "1.2.0",
      "_view_name": "StyleView",
      "description_width": ""
     }
    },
    "eb8c2427926f46ceb230b9bf011f00b3": {
     "model_module": "@jupyter-widgets/base",
     "model_module_version": "1.2.0",
     "model_name": "LayoutModel",
     "state": {
      "_model_module": "@jupyter-widgets/base",
      "_model_module_version": "1.2.0",
      "_model_name": "LayoutModel",
      "_view_count": null,
      "_view_module": "@jupyter-widgets/base",
      "_view_module_version": "1.2.0",
      "_view_name": "LayoutView",
      "align_content": null,
      "align_items": null,
      "align_self": null,
      "border": null,
      "bottom": null,
      "display": null,
      "flex": null,
      "flex_flow": null,
      "grid_area": null,
      "grid_auto_columns": null,
      "grid_auto_flow": null,
      "grid_auto_rows": null,
      "grid_column": null,
      "grid_gap": null,
      "grid_row": null,
      "grid_template_areas": null,
      "grid_template_columns": null,
      "grid_template_rows": null,
      "height": null,
      "justify_content": null,
      "justify_items": null,
      "left": null,
      "margin": null,
      "max_height": null,
      "max_width": null,
      "min_height": null,
      "min_width": null,
      "object_fit": null,
      "object_position": null,
      "order": null,
      "overflow": null,
      "overflow_x": null,
      "overflow_y": null,
      "padding": null,
      "right": null,
      "top": null,
      "visibility": null,
      "width": null
     }
    },
    "edbf4db6b27144d5803c6aa501cc5ae5": {
     "model_module": "@jupyter-widgets/controls",
     "model_module_version": "1.5.0",
     "model_name": "ProgressStyleModel",
     "state": {
      "_model_module": "@jupyter-widgets/controls",
      "_model_module_version": "1.5.0",
      "_model_name": "ProgressStyleModel",
      "_view_count": null,
      "_view_module": "@jupyter-widgets/base",
      "_view_module_version": "1.2.0",
      "_view_name": "StyleView",
      "bar_color": null,
      "description_width": ""
     }
    },
    "f3065b1696dd429f90ebf9390f0c3bf2": {
     "model_module": "@jupyter-widgets/controls",
     "model_module_version": "1.5.0",
     "model_name": "ProgressStyleModel",
     "state": {
      "_model_module": "@jupyter-widgets/controls",
      "_model_module_version": "1.5.0",
      "_model_name": "ProgressStyleModel",
      "_view_count": null,
      "_view_module": "@jupyter-widgets/base",
      "_view_module_version": "1.2.0",
      "_view_name": "StyleView",
      "bar_color": null,
      "description_width": ""
     }
    },
    "f3b7129b785a48b7a1a26261a983cb35": {
     "model_module": "@jupyter-widgets/base",
     "model_module_version": "1.2.0",
     "model_name": "LayoutModel",
     "state": {
      "_model_module": "@jupyter-widgets/base",
      "_model_module_version": "1.2.0",
      "_model_name": "LayoutModel",
      "_view_count": null,
      "_view_module": "@jupyter-widgets/base",
      "_view_module_version": "1.2.0",
      "_view_name": "LayoutView",
      "align_content": null,
      "align_items": null,
      "align_self": null,
      "border": null,
      "bottom": null,
      "display": null,
      "flex": null,
      "flex_flow": null,
      "grid_area": null,
      "grid_auto_columns": null,
      "grid_auto_flow": null,
      "grid_auto_rows": null,
      "grid_column": null,
      "grid_gap": null,
      "grid_row": null,
      "grid_template_areas": null,
      "grid_template_columns": null,
      "grid_template_rows": null,
      "height": null,
      "justify_content": null,
      "justify_items": null,
      "left": null,
      "margin": null,
      "max_height": null,
      "max_width": null,
      "min_height": null,
      "min_width": null,
      "object_fit": null,
      "object_position": null,
      "order": null,
      "overflow": null,
      "overflow_x": null,
      "overflow_y": null,
      "padding": null,
      "right": null,
      "top": null,
      "visibility": null,
      "width": null
     }
    },
    "f443455612e542aaaa20b7b3d02bbe9b": {
     "model_module": "@jupyter-widgets/base",
     "model_module_version": "1.2.0",
     "model_name": "LayoutModel",
     "state": {
      "_model_module": "@jupyter-widgets/base",
      "_model_module_version": "1.2.0",
      "_model_name": "LayoutModel",
      "_view_count": null,
      "_view_module": "@jupyter-widgets/base",
      "_view_module_version": "1.2.0",
      "_view_name": "LayoutView",
      "align_content": null,
      "align_items": null,
      "align_self": null,
      "border": null,
      "bottom": null,
      "display": null,
      "flex": null,
      "flex_flow": null,
      "grid_area": null,
      "grid_auto_columns": null,
      "grid_auto_flow": null,
      "grid_auto_rows": null,
      "grid_column": null,
      "grid_gap": null,
      "grid_row": null,
      "grid_template_areas": null,
      "grid_template_columns": null,
      "grid_template_rows": null,
      "height": null,
      "justify_content": null,
      "justify_items": null,
      "left": null,
      "margin": null,
      "max_height": null,
      "max_width": null,
      "min_height": null,
      "min_width": null,
      "object_fit": null,
      "object_position": null,
      "order": null,
      "overflow": null,
      "overflow_x": null,
      "overflow_y": null,
      "padding": null,
      "right": null,
      "top": null,
      "visibility": null,
      "width": null
     }
    },
    "f6d577afb7bf4d97baeb9c0795ad512b": {
     "model_module": "@jupyter-widgets/base",
     "model_module_version": "1.2.0",
     "model_name": "LayoutModel",
     "state": {
      "_model_module": "@jupyter-widgets/base",
      "_model_module_version": "1.2.0",
      "_model_name": "LayoutModel",
      "_view_count": null,
      "_view_module": "@jupyter-widgets/base",
      "_view_module_version": "1.2.0",
      "_view_name": "LayoutView",
      "align_content": null,
      "align_items": null,
      "align_self": null,
      "border": null,
      "bottom": null,
      "display": null,
      "flex": null,
      "flex_flow": null,
      "grid_area": null,
      "grid_auto_columns": null,
      "grid_auto_flow": null,
      "grid_auto_rows": null,
      "grid_column": null,
      "grid_gap": null,
      "grid_row": null,
      "grid_template_areas": null,
      "grid_template_columns": null,
      "grid_template_rows": null,
      "height": null,
      "justify_content": null,
      "justify_items": null,
      "left": null,
      "margin": null,
      "max_height": null,
      "max_width": null,
      "min_height": null,
      "min_width": null,
      "object_fit": null,
      "object_position": null,
      "order": null,
      "overflow": null,
      "overflow_x": null,
      "overflow_y": null,
      "padding": null,
      "right": null,
      "top": null,
      "visibility": null,
      "width": null
     }
    },
    "f7ea7ee74c584695863f1583c2b5449f": {
     "model_module": "@jupyter-widgets/base",
     "model_module_version": "1.2.0",
     "model_name": "LayoutModel",
     "state": {
      "_model_module": "@jupyter-widgets/base",
      "_model_module_version": "1.2.0",
      "_model_name": "LayoutModel",
      "_view_count": null,
      "_view_module": "@jupyter-widgets/base",
      "_view_module_version": "1.2.0",
      "_view_name": "LayoutView",
      "align_content": null,
      "align_items": null,
      "align_self": null,
      "border": null,
      "bottom": null,
      "display": null,
      "flex": null,
      "flex_flow": null,
      "grid_area": null,
      "grid_auto_columns": null,
      "grid_auto_flow": null,
      "grid_auto_rows": null,
      "grid_column": null,
      "grid_gap": null,
      "grid_row": null,
      "grid_template_areas": null,
      "grid_template_columns": null,
      "grid_template_rows": null,
      "height": null,
      "justify_content": null,
      "justify_items": null,
      "left": null,
      "margin": null,
      "max_height": null,
      "max_width": null,
      "min_height": null,
      "min_width": null,
      "object_fit": null,
      "object_position": null,
      "order": null,
      "overflow": null,
      "overflow_x": null,
      "overflow_y": null,
      "padding": null,
      "right": null,
      "top": null,
      "visibility": null,
      "width": null
     }
    },
    "f8057921a5364527b1f9c1b538fe25d8": {
     "model_module": "@jupyter-widgets/controls",
     "model_module_version": "1.5.0",
     "model_name": "FloatProgressModel",
     "state": {
      "_dom_classes": [],
      "_model_module": "@jupyter-widgets/controls",
      "_model_module_version": "1.5.0",
      "_model_name": "FloatProgressModel",
      "_view_count": null,
      "_view_module": "@jupyter-widgets/controls",
      "_view_module_version": "1.5.0",
      "_view_name": "ProgressView",
      "bar_style": "success",
      "description": "",
      "description_tooltip": null,
      "layout": "IPY_MODEL_a30a6d490d38450ebbd039e65d5f66f2",
      "max": 1,
      "min": 0,
      "orientation": "horizontal",
      "style": "IPY_MODEL_94f2f65f11514704b09156537d3b77a3",
      "value": 1
     }
    },
    "f8d6c6d05c51489fa1e2755a6b166524": {
     "model_module": "@jupyter-widgets/base",
     "model_module_version": "1.2.0",
     "model_name": "LayoutModel",
     "state": {
      "_model_module": "@jupyter-widgets/base",
      "_model_module_version": "1.2.0",
      "_model_name": "LayoutModel",
      "_view_count": null,
      "_view_module": "@jupyter-widgets/base",
      "_view_module_version": "1.2.0",
      "_view_name": "LayoutView",
      "align_content": null,
      "align_items": null,
      "align_self": null,
      "border": null,
      "bottom": null,
      "display": null,
      "flex": null,
      "flex_flow": null,
      "grid_area": null,
      "grid_auto_columns": null,
      "grid_auto_flow": null,
      "grid_auto_rows": null,
      "grid_column": null,
      "grid_gap": null,
      "grid_row": null,
      "grid_template_areas": null,
      "grid_template_columns": null,
      "grid_template_rows": null,
      "height": null,
      "justify_content": null,
      "justify_items": null,
      "left": null,
      "margin": null,
      "max_height": null,
      "max_width": null,
      "min_height": null,
      "min_width": null,
      "object_fit": null,
      "object_position": null,
      "order": null,
      "overflow": null,
      "overflow_x": null,
      "overflow_y": null,
      "padding": null,
      "right": null,
      "top": null,
      "visibility": null,
      "width": null
     }
    },
    "f9069c067dbf4a5c89d23a2d0efa2fb6": {
     "model_module": "@jupyter-widgets/controls",
     "model_module_version": "1.5.0",
     "model_name": "DescriptionStyleModel",
     "state": {
      "_model_module": "@jupyter-widgets/controls",
      "_model_module_version": "1.5.0",
      "_model_name": "DescriptionStyleModel",
      "_view_count": null,
      "_view_module": "@jupyter-widgets/base",
      "_view_module_version": "1.2.0",
      "_view_name": "StyleView",
      "description_width": ""
     }
    },
    "fbbbe43b0b4941869ad2dfafed686be3": {
     "model_module": "@jupyter-widgets/controls",
     "model_module_version": "1.5.0",
     "model_name": "HBoxModel",
     "state": {
      "_dom_classes": [],
      "_model_module": "@jupyter-widgets/controls",
      "_model_module_version": "1.5.0",
      "_model_name": "HBoxModel",
      "_view_count": null,
      "_view_module": "@jupyter-widgets/controls",
      "_view_module_version": "1.5.0",
      "_view_name": "HBoxView",
      "box_style": "",
      "children": [
       "IPY_MODEL_269016c98d5640aba8987eedba69f921",
       "IPY_MODEL_d45223d29f3946e2ad36ec1e4dfb5a5a",
       "IPY_MODEL_070e7e19c2c94d8cb3b41bace94a3f9a"
      ],
      "layout": "IPY_MODEL_f8d6c6d05c51489fa1e2755a6b166524"
     }
    },
    "fc4d42dfc7cd48b39be47167586c654c": {
     "model_module": "@jupyter-widgets/controls",
     "model_module_version": "1.5.0",
     "model_name": "DescriptionStyleModel",
     "state": {
      "_model_module": "@jupyter-widgets/controls",
      "_model_module_version": "1.5.0",
      "_model_name": "DescriptionStyleModel",
      "_view_count": null,
      "_view_module": "@jupyter-widgets/base",
      "_view_module_version": "1.2.0",
      "_view_name": "StyleView",
      "description_width": ""
     }
    },
    "fe65c4070b5a404a8087dd663fbdb5e7": {
     "model_module": "@jupyter-widgets/controls",
     "model_module_version": "1.5.0",
     "model_name": "ProgressStyleModel",
     "state": {
      "_model_module": "@jupyter-widgets/controls",
      "_model_module_version": "1.5.0",
      "_model_name": "ProgressStyleModel",
      "_view_count": null,
      "_view_module": "@jupyter-widgets/base",
      "_view_module_version": "1.2.0",
      "_view_name": "StyleView",
      "bar_color": null,
      "description_width": ""
     }
    }
   }
  }
 },
 "nbformat": 4,
 "nbformat_minor": 4
}
